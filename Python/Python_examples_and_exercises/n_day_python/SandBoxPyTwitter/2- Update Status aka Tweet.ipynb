{
 "cells": [
  {
   "cell_type": "code",
   "execution_count": 1,
   "id": "6e5ea8d8",
   "metadata": {},
   "outputs": [],
   "source": [
    "# https://docs.python.org/3/library/webbrowser.html\n",
    "import tweepy\n",
    "import webbrowser\n",
    "import time"
   ]
  },
  {
   "cell_type": "code",
   "execution_count": 2,
   "id": "29d74b7b",
   "metadata": {},
   "outputs": [],
   "source": [
    "# https://docs.tweepy.org/en/stable/index.html\n",
    "consumer_key = \"\"\n",
    "consumer_secret = \"\""
   ]
  },
  {
   "cell_type": "code",
   "execution_count": 3,
   "id": "49054a3a",
   "metadata": {},
   "outputs": [],
   "source": [
    "callback_uri = 'oob' # https://cfe.sh/twitter/callback"
   ]
  },
  {
   "cell_type": "code",
   "execution_count": 22,
   "id": "da61ee81",
   "metadata": {},
   "outputs": [
    {
     "name": "stdout",
     "output_type": "stream",
     "text": [
      "https://api.twitter.com/oauth/authorize?oauth_token=PxAB8AAAAAABQ34eAAABejDVb4M\n"
     ]
    }
   ],
   "source": [
    "try:\n",
    "    auth = tweepy.OAuthHandler(consumer_key, consumer_secret, callback_uri)\n",
    "    redirect_url = auth.get_authorization_url()\n",
    "    print(redirect_url)\n",
    "except tweepy.TweepError:\n",
    "    print('Error! Failed to get request token.')"
   ]
  },
  {
   "cell_type": "code",
   "execution_count": null,
   "id": "f97345e7",
   "metadata": {},
   "outputs": [],
   "source": []
  },
  {
   "cell_type": "code",
   "execution_count": 23,
   "id": "f9fa63b7",
   "metadata": {},
   "outputs": [
    {
     "data": {
      "text/plain": [
       "True"
      ]
     },
     "execution_count": 23,
     "metadata": {},
     "output_type": "execute_result"
    }
   ],
   "source": [
    "# A NEW PAGE OPENS REQUESTING AUTHORIZATION FROM TWITTER TO GENERATE A CODE\n",
    "webbrowser.open(redirect_url)"
   ]
  },
  {
   "cell_type": "code",
   "execution_count": 24,
   "id": "69f710b0",
   "metadata": {},
   "outputs": [
    {
     "name": "stdout",
     "output_type": "stream",
     "text": [
      "What's the pin value? \n",
      "8768763\n"
     ]
    }
   ],
   "source": [
    "user_pin_input = input(\"What's the pin value? \\n\")"
   ]
  },
  {
   "cell_type": "code",
   "execution_count": 25,
   "id": "577f7389",
   "metadata": {},
   "outputs": [
    {
     "name": "stdout",
     "output_type": "stream",
     "text": [
      "8768763\n"
     ]
    }
   ],
   "source": [
    "print(user_pin_input)"
   ]
  },
  {
   "cell_type": "code",
   "execution_count": 26,
   "id": "72001336",
   "metadata": {},
   "outputs": [],
   "source": [
    "try:\n",
    "    auth.get_access_token(user_pin_input)\n",
    "except tweepy.TweepError:\n",
    "    print('Error! Failed to get access token.')"
   ]
  },
  {
   "cell_type": "code",
   "execution_count": 27,
   "id": "f8ebd9cf",
   "metadata": {},
   "outputs": [
    {
     "name": "stdout",
     "output_type": "stream",
     "text": [
      "198626561-tF3cmZis8d3owSXS4txj4nBAoZSIfgzl2v5iAk0L vIBcUCdyaPAMtmFgFNyUeLbfKKixIdV4qRuJWI98giOyS\n"
     ]
    }
   ],
   "source": [
    "print(auth.access_token, auth.access_token_secret)"
   ]
  },
  {
   "cell_type": "code",
   "execution_count": 28,
   "id": "9e42be97",
   "metadata": {},
   "outputs": [],
   "source": [
    "api = tweepy.API(auth)"
   ]
  },
  {
   "cell_type": "code",
   "execution_count": 29,
   "id": "3617bc60",
   "metadata": {},
   "outputs": [],
   "source": [
    "me = api.me()"
   ]
  },
  {
   "cell_type": "code",
   "execution_count": 30,
   "id": "fd7267c0",
   "metadata": {},
   "outputs": [
    {
     "name": "stdout",
     "output_type": "stream",
     "text": [
      "nomackayu\n"
     ]
    }
   ],
   "source": [
    "print(me.screen_name)"
   ]
  },
  {
   "cell_type": "code",
   "execution_count": 37,
   "id": "ea046650",
   "metadata": {},
   "outputs": [],
   "source": [
    "# UPDATE STATUS TWITTER\n",
    "new_status = api.update_status(\"Testing #tweepy with #Python :-)\")"
   ]
  },
  {
   "cell_type": "code",
   "execution_count": 35,
   "id": "9f4aee0f",
   "metadata": {},
   "outputs": [
    {
     "data": {
      "text/plain": [
       "Status(_api=<tweepy.api.API object at 0x7f7d1d74da60>, _json={'created_at': 'Mon Jun 21 23:16:17 +0000 2021', 'id': 1407115184909524992, 'id_str': '1407115184909524992', 'text': 'Testing tweepy :-)', 'truncated': False, 'entities': {'hashtags': [], 'symbols': [], 'user_mentions': [], 'urls': []}, 'source': '<a href=\"https://help.twitter.com/en/using-twitter/how-to-tweet#source-labels\" rel=\"nofollow\">PyTweetDev</a>', 'in_reply_to_status_id': None, 'in_reply_to_status_id_str': None, 'in_reply_to_user_id': None, 'in_reply_to_user_id_str': None, 'in_reply_to_screen_name': None, 'user': {'id': 198626561, 'id_str': '198626561', 'name': 'Rodolfo Ugalde 8a', 'screen_name': 'nomackayu', 'location': '', 'description': 'Miembro de la generación X, apasionado de la \\ntecnología. En busca de lo normal y la sensatez, entre otros menesteres.', 'url': None, 'entities': {'description': {'urls': []}}, 'protected': False, 'followers_count': 81, 'friends_count': 1003, 'listed_count': 4, 'created_at': 'Mon Oct 04 20:36:03 +0000 2010', 'favourites_count': 340, 'utc_offset': None, 'time_zone': None, 'geo_enabled': False, 'verified': False, 'statuses_count': 951, 'lang': None, 'contributors_enabled': False, 'is_translator': False, 'is_translation_enabled': True, 'profile_background_color': 'C0DEED', 'profile_background_image_url': 'http://abs.twimg.com/images/themes/theme14/bg.gif', 'profile_background_image_url_https': 'https://abs.twimg.com/images/themes/theme14/bg.gif', 'profile_background_tile': False, 'profile_image_url': 'http://pbs.twimg.com/profile_images/1252992639122767873/QgYjPEIM_normal.jpg', 'profile_image_url_https': 'https://pbs.twimg.com/profile_images/1252992639122767873/QgYjPEIM_normal.jpg', 'profile_banner_url': 'https://pbs.twimg.com/profile_banners/198626561/1585932488', 'profile_link_color': '9266CC', 'profile_sidebar_border_color': 'FFFFFF', 'profile_sidebar_fill_color': 'EFEFEF', 'profile_text_color': '333333', 'profile_use_background_image': True, 'has_extended_profile': True, 'default_profile': False, 'default_profile_image': False, 'following': False, 'follow_request_sent': False, 'notifications': False, 'translator_type': 'none', 'withheld_in_countries': []}, 'geo': None, 'coordinates': None, 'place': None, 'contributors': None, 'is_quote_status': False, 'retweet_count': 0, 'favorite_count': 0, 'favorited': False, 'retweeted': False, 'lang': 'en'}, created_at=datetime.datetime(2021, 6, 21, 23, 16, 17), id=1407115184909524992, id_str='1407115184909524992', text='Testing tweepy :-)', truncated=False, entities={'hashtags': [], 'symbols': [], 'user_mentions': [], 'urls': []}, source='PyTweetDev', source_url='https://help.twitter.com/en/using-twitter/how-to-tweet#source-labels', in_reply_to_status_id=None, in_reply_to_status_id_str=None, in_reply_to_user_id=None, in_reply_to_user_id_str=None, in_reply_to_screen_name=None, author=User(_api=<tweepy.api.API object at 0x7f7d1d74da60>, _json={'id': 198626561, 'id_str': '198626561', 'name': 'Rodolfo Ugalde 8a', 'screen_name': 'nomackayu', 'location': '', 'description': 'Miembro de la generación X, apasionado de la \\ntecnología. En busca de lo normal y la sensatez, entre otros menesteres.', 'url': None, 'entities': {'description': {'urls': []}}, 'protected': False, 'followers_count': 81, 'friends_count': 1003, 'listed_count': 4, 'created_at': 'Mon Oct 04 20:36:03 +0000 2010', 'favourites_count': 340, 'utc_offset': None, 'time_zone': None, 'geo_enabled': False, 'verified': False, 'statuses_count': 951, 'lang': None, 'contributors_enabled': False, 'is_translator': False, 'is_translation_enabled': True, 'profile_background_color': 'C0DEED', 'profile_background_image_url': 'http://abs.twimg.com/images/themes/theme14/bg.gif', 'profile_background_image_url_https': 'https://abs.twimg.com/images/themes/theme14/bg.gif', 'profile_background_tile': False, 'profile_image_url': 'http://pbs.twimg.com/profile_images/1252992639122767873/QgYjPEIM_normal.jpg', 'profile_image_url_https': 'https://pbs.twimg.com/profile_images/1252992639122767873/QgYjPEIM_normal.jpg', 'profile_banner_url': 'https://pbs.twimg.com/profile_banners/198626561/1585932488', 'profile_link_color': '9266CC', 'profile_sidebar_border_color': 'FFFFFF', 'profile_sidebar_fill_color': 'EFEFEF', 'profile_text_color': '333333', 'profile_use_background_image': True, 'has_extended_profile': True, 'default_profile': False, 'default_profile_image': False, 'following': False, 'follow_request_sent': False, 'notifications': False, 'translator_type': 'none', 'withheld_in_countries': []}, id=198626561, id_str='198626561', name='Rodolfo Ugalde 8a', screen_name='nomackayu', location='', description='Miembro de la generación X, apasionado de la \\ntecnología. En busca de lo normal y la sensatez, entre otros menesteres.', url=None, entities={'description': {'urls': []}}, protected=False, followers_count=81, friends_count=1003, listed_count=4, created_at=datetime.datetime(2010, 10, 4, 20, 36, 3), favourites_count=340, utc_offset=None, time_zone=None, geo_enabled=False, verified=False, statuses_count=951, lang=None, contributors_enabled=False, is_translator=False, is_translation_enabled=True, profile_background_color='C0DEED', profile_background_image_url='http://abs.twimg.com/images/themes/theme14/bg.gif', profile_background_image_url_https='https://abs.twimg.com/images/themes/theme14/bg.gif', profile_background_tile=False, profile_image_url='http://pbs.twimg.com/profile_images/1252992639122767873/QgYjPEIM_normal.jpg', profile_image_url_https='https://pbs.twimg.com/profile_images/1252992639122767873/QgYjPEIM_normal.jpg', profile_banner_url='https://pbs.twimg.com/profile_banners/198626561/1585932488', profile_link_color='9266CC', profile_sidebar_border_color='FFFFFF', profile_sidebar_fill_color='EFEFEF', profile_text_color='333333', profile_use_background_image=True, has_extended_profile=True, default_profile=False, default_profile_image=False, following=False, follow_request_sent=False, notifications=False, translator_type='none', withheld_in_countries=[]), user=User(_api=<tweepy.api.API object at 0x7f7d1d74da60>, _json={'id': 198626561, 'id_str': '198626561', 'name': 'Rodolfo Ugalde 8a', 'screen_name': 'nomackayu', 'location': '', 'description': 'Miembro de la generación X, apasionado de la \\ntecnología. En busca de lo normal y la sensatez, entre otros menesteres.', 'url': None, 'entities': {'description': {'urls': []}}, 'protected': False, 'followers_count': 81, 'friends_count': 1003, 'listed_count': 4, 'created_at': 'Mon Oct 04 20:36:03 +0000 2010', 'favourites_count': 340, 'utc_offset': None, 'time_zone': None, 'geo_enabled': False, 'verified': False, 'statuses_count': 951, 'lang': None, 'contributors_enabled': False, 'is_translator': False, 'is_translation_enabled': True, 'profile_background_color': 'C0DEED', 'profile_background_image_url': 'http://abs.twimg.com/images/themes/theme14/bg.gif', 'profile_background_image_url_https': 'https://abs.twimg.com/images/themes/theme14/bg.gif', 'profile_background_tile': False, 'profile_image_url': 'http://pbs.twimg.com/profile_images/1252992639122767873/QgYjPEIM_normal.jpg', 'profile_image_url_https': 'https://pbs.twimg.com/profile_images/1252992639122767873/QgYjPEIM_normal.jpg', 'profile_banner_url': 'https://pbs.twimg.com/profile_banners/198626561/1585932488', 'profile_link_color': '9266CC', 'profile_sidebar_border_color': 'FFFFFF', 'profile_sidebar_fill_color': 'EFEFEF', 'profile_text_color': '333333', 'profile_use_background_image': True, 'has_extended_profile': True, 'default_profile': False, 'default_profile_image': False, 'following': False, 'follow_request_sent': False, 'notifications': False, 'translator_type': 'none', 'withheld_in_countries': []}, id=198626561, id_str='198626561', name='Rodolfo Ugalde 8a', screen_name='nomackayu', location='', description='Miembro de la generación X, apasionado de la \\ntecnología. En busca de lo normal y la sensatez, entre otros menesteres.', url=None, entities={'description': {'urls': []}}, protected=False, followers_count=81, friends_count=1003, listed_count=4, created_at=datetime.datetime(2010, 10, 4, 20, 36, 3), favourites_count=340, utc_offset=None, time_zone=None, geo_enabled=False, verified=False, statuses_count=951, lang=None, contributors_enabled=False, is_translator=False, is_translation_enabled=True, profile_background_color='C0DEED', profile_background_image_url='http://abs.twimg.com/images/themes/theme14/bg.gif', profile_background_image_url_https='https://abs.twimg.com/images/themes/theme14/bg.gif', profile_background_tile=False, profile_image_url='http://pbs.twimg.com/profile_images/1252992639122767873/QgYjPEIM_normal.jpg', profile_image_url_https='https://pbs.twimg.com/profile_images/1252992639122767873/QgYjPEIM_normal.jpg', profile_banner_url='https://pbs.twimg.com/profile_banners/198626561/1585932488', profile_link_color='9266CC', profile_sidebar_border_color='FFFFFF', profile_sidebar_fill_color='EFEFEF', profile_text_color='333333', profile_use_background_image=True, has_extended_profile=True, default_profile=False, default_profile_image=False, following=False, follow_request_sent=False, notifications=False, translator_type='none', withheld_in_countries=[]), geo=None, coordinates=None, place=None, contributors=None, is_quote_status=False, retweet_count=0, favorite_count=0, favorited=False, retweeted=False, lang='en')"
      ]
     },
     "execution_count": 35,
     "metadata": {},
     "output_type": "execute_result"
    }
   ],
   "source": [
    "# DELETE SEND TWEET \n",
    "new_status.destroy()"
   ]
  },
  {
   "cell_type": "code",
   "execution_count": 36,
   "id": "ac070ce8",
   "metadata": {},
   "outputs": [
    {
     "data": {
      "text/plain": [
       "['__class__',\n",
       " '__delattr__',\n",
       " '__dict__',\n",
       " '__dir__',\n",
       " '__doc__',\n",
       " '__eq__',\n",
       " '__format__',\n",
       " '__ge__',\n",
       " '__getattribute__',\n",
       " '__getstate__',\n",
       " '__gt__',\n",
       " '__hash__',\n",
       " '__init__',\n",
       " '__init_subclass__',\n",
       " '__le__',\n",
       " '__lt__',\n",
       " '__module__',\n",
       " '__ne__',\n",
       " '__new__',\n",
       " '__reduce__',\n",
       " '__reduce_ex__',\n",
       " '__repr__',\n",
       " '__setattr__',\n",
       " '__sizeof__',\n",
       " '__str__',\n",
       " '__subclasshook__',\n",
       " '__weakref__',\n",
       " '_api',\n",
       " '_json',\n",
       " 'author',\n",
       " 'contributors',\n",
       " 'coordinates',\n",
       " 'created_at',\n",
       " 'destroy',\n",
       " 'entities',\n",
       " 'favorite',\n",
       " 'favorite_count',\n",
       " 'favorited',\n",
       " 'geo',\n",
       " 'id',\n",
       " 'id_str',\n",
       " 'in_reply_to_screen_name',\n",
       " 'in_reply_to_status_id',\n",
       " 'in_reply_to_status_id_str',\n",
       " 'in_reply_to_user_id',\n",
       " 'in_reply_to_user_id_str',\n",
       " 'is_quote_status',\n",
       " 'lang',\n",
       " 'parse',\n",
       " 'parse_list',\n",
       " 'place',\n",
       " 'retweet',\n",
       " 'retweet_count',\n",
       " 'retweeted',\n",
       " 'retweets',\n",
       " 'source',\n",
       " 'source_url',\n",
       " 'text',\n",
       " 'truncated',\n",
       " 'user']"
      ]
     },
     "execution_count": 36,
     "metadata": {},
     "output_type": "execute_result"
    }
   ],
   "source": [
    "dir(new_status)"
   ]
  },
  {
   "cell_type": "code",
   "execution_count": 38,
   "id": "be6b2d73",
   "metadata": {},
   "outputs": [
    {
     "data": {
      "text/plain": [
       "['__class__',\n",
       " '__delattr__',\n",
       " '__dict__',\n",
       " '__dir__',\n",
       " '__doc__',\n",
       " '__eq__',\n",
       " '__format__',\n",
       " '__ge__',\n",
       " '__getattribute__',\n",
       " '__gt__',\n",
       " '__hash__',\n",
       " '__init__',\n",
       " '__init_subclass__',\n",
       " '__le__',\n",
       " '__lt__',\n",
       " '__module__',\n",
       " '__ne__',\n",
       " '__new__',\n",
       " '__reduce__',\n",
       " '__reduce_ex__',\n",
       " '__repr__',\n",
       " '__setattr__',\n",
       " '__sizeof__',\n",
       " '__str__',\n",
       " '__subclasshook__',\n",
       " '__weakref__',\n",
       " '_add_list_members',\n",
       " '_lookup_friendships',\n",
       " '_pack_image',\n",
       " '_remove_list_members',\n",
       " '_send_direct_message',\n",
       " 'add_list_member',\n",
       " 'add_list_members',\n",
       " 'api_root',\n",
       " 'auth',\n",
       " 'blocks',\n",
       " 'blocks_ids',\n",
       " 'cache',\n",
       " 'cached_result',\n",
       " 'compression',\n",
       " 'configuration',\n",
       " 'create_block',\n",
       " 'create_favorite',\n",
       " 'create_friendship',\n",
       " 'create_list',\n",
       " 'create_media_metadata',\n",
       " 'create_mute',\n",
       " 'create_saved_search',\n",
       " 'destroy_block',\n",
       " 'destroy_direct_message',\n",
       " 'destroy_favorite',\n",
       " 'destroy_friendship',\n",
       " 'destroy_list',\n",
       " 'destroy_mute',\n",
       " 'destroy_saved_search',\n",
       " 'destroy_status',\n",
       " 'favorites',\n",
       " 'followers',\n",
       " 'followers_ids',\n",
       " 'friends',\n",
       " 'friends_ids',\n",
       " 'friendships_incoming',\n",
       " 'friendships_outgoing',\n",
       " 'geo_id',\n",
       " 'geo_search',\n",
       " 'geo_similar_places',\n",
       " 'get_direct_message',\n",
       " 'get_list',\n",
       " 'get_oembed',\n",
       " 'get_saved_search',\n",
       " 'get_settings',\n",
       " 'get_status',\n",
       " 'get_user',\n",
       " 'home_timeline',\n",
       " 'host',\n",
       " 'last_response',\n",
       " 'list_direct_messages',\n",
       " 'list_members',\n",
       " 'list_subscribers',\n",
       " 'list_timeline',\n",
       " 'lists_all',\n",
       " 'lists_memberships',\n",
       " 'lists_subscriptions',\n",
       " 'lookup_friendships',\n",
       " 'lookup_users',\n",
       " 'me',\n",
       " 'media_upload',\n",
       " 'mentions_timeline',\n",
       " 'mutes',\n",
       " 'mutes_ids',\n",
       " 'parser',\n",
       " 'proxy',\n",
       " 'rate_limit_status',\n",
       " 'related_results',\n",
       " 'remove_list_member',\n",
       " 'remove_list_members',\n",
       " 'report_spam',\n",
       " 'retry_count',\n",
       " 'retry_delay',\n",
       " 'retry_errors',\n",
       " 'retweet',\n",
       " 'retweeters',\n",
       " 'retweets',\n",
       " 'retweets_of_me',\n",
       " 'reverse_geocode',\n",
       " 'saved_searches',\n",
       " 'search',\n",
       " 'search_30_day',\n",
       " 'search_full_archive',\n",
       " 'search_host',\n",
       " 'search_root',\n",
       " 'search_users',\n",
       " 'send_direct_message',\n",
       " 'set_settings',\n",
       " 'show_friendship',\n",
       " 'show_list_member',\n",
       " 'show_list_subscriber',\n",
       " 'statuses_lookup',\n",
       " 'subscribe_list',\n",
       " 'supported_languages',\n",
       " 'timeout',\n",
       " 'trends_available',\n",
       " 'trends_closest',\n",
       " 'trends_place',\n",
       " 'unretweet',\n",
       " 'unsubscribe_list',\n",
       " 'update_list',\n",
       " 'update_profile',\n",
       " 'update_profile_banner',\n",
       " 'update_profile_image',\n",
       " 'update_status',\n",
       " 'update_with_media',\n",
       " 'upload_host',\n",
       " 'upload_root',\n",
       " 'user_timeline',\n",
       " 'verify_credentials',\n",
       " 'wait_on_rate_limit',\n",
       " 'wait_on_rate_limit_notify']"
      ]
     },
     "execution_count": 38,
     "metadata": {},
     "output_type": "execute_result"
    }
   ],
   "source": [
    "dir(api)"
   ]
  },
  {
   "cell_type": "code",
   "execution_count": 39,
   "id": "a09581ce",
   "metadata": {},
   "outputs": [],
   "source": [
    "img_obj = api.media_upload(\"gorickyourself.png\")"
   ]
  },
  {
   "cell_type": "code",
   "execution_count": 40,
   "id": "411cbc01",
   "metadata": {},
   "outputs": [
    {
     "data": {
      "text/plain": [
       "['__class__',\n",
       " '__delattr__',\n",
       " '__dict__',\n",
       " '__dir__',\n",
       " '__doc__',\n",
       " '__eq__',\n",
       " '__format__',\n",
       " '__ge__',\n",
       " '__getattribute__',\n",
       " '__getstate__',\n",
       " '__gt__',\n",
       " '__hash__',\n",
       " '__init__',\n",
       " '__init_subclass__',\n",
       " '__le__',\n",
       " '__lt__',\n",
       " '__module__',\n",
       " '__ne__',\n",
       " '__new__',\n",
       " '__reduce__',\n",
       " '__reduce_ex__',\n",
       " '__repr__',\n",
       " '__setattr__',\n",
       " '__sizeof__',\n",
       " '__str__',\n",
       " '__subclasshook__',\n",
       " '__weakref__',\n",
       " '_api',\n",
       " 'expires_after_secs',\n",
       " 'image',\n",
       " 'media_id',\n",
       " 'media_id_string',\n",
       " 'parse',\n",
       " 'parse_list',\n",
       " 'size']"
      ]
     },
     "execution_count": 40,
     "metadata": {},
     "output_type": "execute_result"
    }
   ],
   "source": [
    "dir(img_obj)"
   ]
  },
  {
   "cell_type": "code",
   "execution_count": 43,
   "id": "cbf8fffd",
   "metadata": {},
   "outputs": [
    {
     "data": {
      "text/plain": [
       "'1407130861187878913'"
      ]
     },
     "execution_count": 43,
     "metadata": {},
     "output_type": "execute_result"
    }
   ],
   "source": [
    "img_obj.media_id_string"
   ]
  },
  {
   "cell_type": "code",
   "execution_count": 44,
   "id": "becc571b",
   "metadata": {},
   "outputs": [
    {
     "data": {
      "text/plain": [
       "1407130861187878913"
      ]
     },
     "execution_count": 44,
     "metadata": {},
     "output_type": "execute_result"
    }
   ],
   "source": [
    "img_obj.media_id"
   ]
  },
  {
   "cell_type": "code",
   "execution_count": 45,
   "id": "e97e786c",
   "metadata": {},
   "outputs": [
    {
     "data": {
      "text/plain": [
       "{'image_type': 'image/jpeg', 'w': 1280, 'h': 1280}"
      ]
     },
     "execution_count": 45,
     "metadata": {},
     "output_type": "execute_result"
    }
   ],
   "source": [
    "img_obj.image"
   ]
  },
  {
   "cell_type": "code",
   "execution_count": 46,
   "id": "dde066f9",
   "metadata": {},
   "outputs": [],
   "source": [
    "# UPLOAD IMAGES WITH tweepy\n",
    "new_status_with_img_obj = api.update_status(\"Testing #tweepy with #Pytho. Me in Rick and Morty world\", media_ids=[img_obj.media_id_string])"
   ]
  },
  {
   "cell_type": "code",
   "execution_count": null,
   "id": "66e4947b",
   "metadata": {},
   "outputs": [],
   "source": []
  }
 ],
 "metadata": {
  "kernelspec": {
   "display_name": "Python 3",
   "language": "python",
   "name": "python3"
  },
  "language_info": {
   "codemirror_mode": {
    "name": "ipython",
    "version": 3
   },
   "file_extension": ".py",
   "mimetype": "text/x-python",
   "name": "python",
   "nbconvert_exporter": "python",
   "pygments_lexer": "ipython3",
   "version": "3.8.10"
  }
 },
 "nbformat": 4,
 "nbformat_minor": 5
}
