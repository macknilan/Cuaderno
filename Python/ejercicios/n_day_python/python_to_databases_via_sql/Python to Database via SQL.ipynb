{
 "cells": [
  {
   "cell_type": "code",
   "execution_count": 1,
   "id": "ab47c1a7",
   "metadata": {},
   "outputs": [],
   "source": [
    "# Store data with pickle\n",
    "# https://docs.python.org/3/library/pickle.html"
   ]
  },
  {
   "cell_type": "code",
   "execution_count": 2,
   "id": "e1d8faca",
   "metadata": {},
   "outputs": [],
   "source": [
    "import pickle\n",
    "import pandas as pd\n",
    "import sqlalchemy"
   ]
  },
  {
   "cell_type": "code",
   "execution_count": 3,
   "id": "b3b8c741",
   "metadata": {},
   "outputs": [],
   "source": [
    "# save a file in the format pickle"
   ]
  },
  {
   "cell_type": "code",
   "execution_count": 4,
   "id": "adc89d08",
   "metadata": {},
   "outputs": [],
   "source": [
    "data = [{\"name\": \"mack\", \"last_name\": \"nilan\"}]\n",
    "with open(\"users.pkl\", \"wb\") as f:\n",
    "    pickle.dump(data, f)  # pickle.dump"
   ]
  },
  {
   "cell_type": "code",
   "execution_count": 5,
   "id": "00182349",
   "metadata": {},
   "outputs": [],
   "source": [
    "# read a file in the format pickle and know the type of file"
   ]
  },
  {
   "cell_type": "code",
   "execution_count": 6,
   "id": "5b8bc229",
   "metadata": {},
   "outputs": [
    {
     "name": "stdout",
     "output_type": "stream",
     "text": [
      "[{'name': 'mack', 'last_name': 'nilan'}] <class 'list'>\n"
     ]
    }
   ],
   "source": [
    "data_from_pickle = pickle.load(open(\"users.pkl\", \"rb\"))\n",
    "print(data_from_pickle, type(data_from_pickle))"
   ]
  },
  {
   "cell_type": "code",
   "execution_count": 7,
   "id": "e68a72b3",
   "metadata": {},
   "outputs": [
    {
     "data": {
      "text/html": [
       "<div>\n",
       "<style scoped>\n",
       "    .dataframe tbody tr th:only-of-type {\n",
       "        vertical-align: middle;\n",
       "    }\n",
       "\n",
       "    .dataframe tbody tr th {\n",
       "        vertical-align: top;\n",
       "    }\n",
       "\n",
       "    .dataframe thead th {\n",
       "        text-align: right;\n",
       "    }\n",
       "</style>\n",
       "<table border=\"1\" class=\"dataframe\">\n",
       "  <thead>\n",
       "    <tr style=\"text-align: right;\">\n",
       "      <th></th>\n",
       "      <th>name</th>\n",
       "      <th>last_name</th>\n",
       "    </tr>\n",
       "  </thead>\n",
       "  <tbody>\n",
       "    <tr>\n",
       "      <th>0</th>\n",
       "      <td>mack</td>\n",
       "      <td>nilan</td>\n",
       "    </tr>\n",
       "  </tbody>\n",
       "</table>\n",
       "</div>"
      ],
      "text/plain": [
       "   name last_name\n",
       "0  mack     nilan"
      ]
     },
     "execution_count": 7,
     "metadata": {},
     "output_type": "execute_result"
    }
   ],
   "source": [
    "df = pd.DataFrame(data)\n",
    "df.head()"
   ]
  },
  {
   "cell_type": "code",
   "execution_count": 8,
   "id": "14460d95",
   "metadata": {},
   "outputs": [
    {
     "data": {
      "text/plain": [
       "name         object\n",
       "last_name    object\n",
       "dtype: object"
      ]
     },
     "execution_count": 8,
     "metadata": {},
     "output_type": "execute_result"
    }
   ],
   "source": [
    "# https://pandas.pydata.org/pandas-docs/stable/reference/api/pandas.DataFrame.to_pickle.html\n",
    "# creates a files -> data_frame_pickle\n",
    "df.to_pickle(\"data_frame_pickle\")\n",
    "df.dtypes"
   ]
  },
  {
   "cell_type": "code",
   "execution_count": 9,
   "id": "d939d8da",
   "metadata": {},
   "outputs": [
    {
     "data": {
      "text/html": [
       "<div>\n",
       "<style scoped>\n",
       "    .dataframe tbody tr th:only-of-type {\n",
       "        vertical-align: middle;\n",
       "    }\n",
       "\n",
       "    .dataframe tbody tr th {\n",
       "        vertical-align: top;\n",
       "    }\n",
       "\n",
       "    .dataframe thead th {\n",
       "        text-align: right;\n",
       "    }\n",
       "</style>\n",
       "<table border=\"1\" class=\"dataframe\">\n",
       "  <thead>\n",
       "    <tr style=\"text-align: right;\">\n",
       "      <th></th>\n",
       "      <th>name</th>\n",
       "      <th>last_name</th>\n",
       "    </tr>\n",
       "  </thead>\n",
       "  <tbody>\n",
       "    <tr>\n",
       "      <th>0</th>\n",
       "      <td>mack</td>\n",
       "      <td>nilan</td>\n",
       "    </tr>\n",
       "  </tbody>\n",
       "</table>\n",
       "</div>"
      ],
      "text/plain": [
       "   name last_name\n",
       "0  mack     nilan"
      ]
     },
     "execution_count": 9,
     "metadata": {},
     "output_type": "execute_result"
    }
   ],
   "source": [
    "df2 = pd.read_pickle(\"data_frame_pickle\")\n",
    "df2.head()"
   ]
  },
  {
   "cell_type": "code",
   "execution_count": 10,
   "id": "3f830363",
   "metadata": {},
   "outputs": [
    {
     "data": {
      "text/plain": [
       "name         object\n",
       "last_name    object\n",
       "dtype: object"
      ]
     },
     "execution_count": 10,
     "metadata": {},
     "output_type": "execute_result"
    }
   ],
   "source": [
    "df2.dtypes"
   ]
  },
  {
   "cell_type": "code",
   "execution_count": 11,
   "id": "a9314840",
   "metadata": {},
   "outputs": [],
   "source": [
    "# DO THE SAME THING WITH A CSV FILE\n",
    "df.to_csv(\"data_frame_pickle.csv\", index=False)"
   ]
  },
  {
   "cell_type": "markdown",
   "id": "e62064ff",
   "metadata": {},
   "source": [
    "# SQLAlchemy\n",
    "#### SQLAlchmey & Django have a similar object-relational mappings (aka `ORM`) are ways to connect Python to a SQL database."
   ]
  },
  {
   "cell_type": "code",
   "execution_count": 12,
   "id": "93b688b3",
   "metadata": {},
   "outputs": [],
   "source": [
    "# https://www.sqlalchemy.org/"
   ]
  },
  {
   "cell_type": "code",
   "execution_count": 13,
   "id": "53af7762",
   "metadata": {},
   "outputs": [],
   "source": [
    "class Movie1:\n",
    "    name = 'Unknown'\n",
    "    genre = 'Action'\n",
    "   \n",
    "    def __init__(self, name='', *args, **kwargs):\n",
    "        super().__init__(*args, **kwargs)\n",
    "        self.name = name"
   ]
  },
  {
   "cell_type": "code",
   "execution_count": 14,
   "id": "f28c236f",
   "metadata": {},
   "outputs": [
    {
     "ename": "TypeError",
     "evalue": "object.__init__() takes exactly one argument (the instance to initialize)",
     "output_type": "error",
     "traceback": [
      "\u001b[0;31m---------------------------------------------------------------------------\u001b[0m",
      "\u001b[0;31mTypeError\u001b[0m                                 Traceback (most recent call last)",
      "\u001b[0;32m<ipython-input-14-6a286eec6743>\u001b[0m in \u001b[0;36m<module>\u001b[0;34m\u001b[0m\n\u001b[0;32m----> 1\u001b[0;31m \u001b[0mmovie_obj\u001b[0m \u001b[0;34m=\u001b[0m \u001b[0mMovie1\u001b[0m\u001b[0;34m(\u001b[0m\u001b[0mname\u001b[0m\u001b[0;34m=\u001b[0m\u001b[0;34m\"The Matrix\"\u001b[0m\u001b[0;34m,\u001b[0m \u001b[0mgenre\u001b[0m\u001b[0;34m=\u001b[0m\u001b[0;34m\"Sci-Fi\"\u001b[0m\u001b[0;34m)\u001b[0m\u001b[0;34m\u001b[0m\u001b[0;34m\u001b[0m\u001b[0m\n\u001b[0m\u001b[1;32m      2\u001b[0m \u001b[0mmovie_obj\u001b[0m\u001b[0;34m.\u001b[0m\u001b[0mname\u001b[0m\u001b[0;34m\u001b[0m\u001b[0;34m\u001b[0m\u001b[0m\n",
      "\u001b[0;32m<ipython-input-13-f08632a90826>\u001b[0m in \u001b[0;36m__init__\u001b[0;34m(self, name, *args, **kwargs)\u001b[0m\n\u001b[1;32m      4\u001b[0m \u001b[0;34m\u001b[0m\u001b[0m\n\u001b[1;32m      5\u001b[0m     \u001b[0;32mdef\u001b[0m \u001b[0m__init__\u001b[0m\u001b[0;34m(\u001b[0m\u001b[0mself\u001b[0m\u001b[0;34m,\u001b[0m \u001b[0mname\u001b[0m\u001b[0;34m=\u001b[0m\u001b[0;34m''\u001b[0m\u001b[0;34m,\u001b[0m \u001b[0;34m*\u001b[0m\u001b[0margs\u001b[0m\u001b[0;34m,\u001b[0m \u001b[0;34m**\u001b[0m\u001b[0mkwargs\u001b[0m\u001b[0;34m)\u001b[0m\u001b[0;34m:\u001b[0m\u001b[0;34m\u001b[0m\u001b[0;34m\u001b[0m\u001b[0m\n\u001b[0;32m----> 6\u001b[0;31m         \u001b[0msuper\u001b[0m\u001b[0;34m(\u001b[0m\u001b[0;34m)\u001b[0m\u001b[0;34m.\u001b[0m\u001b[0m__init__\u001b[0m\u001b[0;34m(\u001b[0m\u001b[0;34m*\u001b[0m\u001b[0margs\u001b[0m\u001b[0;34m,\u001b[0m \u001b[0;34m**\u001b[0m\u001b[0mkwargs\u001b[0m\u001b[0;34m)\u001b[0m\u001b[0;34m\u001b[0m\u001b[0;34m\u001b[0m\u001b[0m\n\u001b[0m\u001b[1;32m      7\u001b[0m         \u001b[0mself\u001b[0m\u001b[0;34m.\u001b[0m\u001b[0mname\u001b[0m \u001b[0;34m=\u001b[0m \u001b[0mname\u001b[0m\u001b[0;34m\u001b[0m\u001b[0;34m\u001b[0m\u001b[0m\n",
      "\u001b[0;31mTypeError\u001b[0m: object.__init__() takes exactly one argument (the instance to initialize)"
     ]
    }
   ],
   "source": [
    "movie_obj = Movie1(name=\"The Matrix\", genre=\"Sci-Fi\")\n",
    "movie_obj.name"
   ]
  },
  {
   "cell_type": "code",
   "execution_count": 16,
   "id": "c329f130",
   "metadata": {},
   "outputs": [],
   "source": [
    "from dataclasses import dataclass\n",
    "\n",
    "@dataclass\n",
    "class Movie:\n",
    "    name:str = 'Unknown'\n",
    "    genre:str = 'Action'\n",
    "    year:int = None"
   ]
  },
  {
   "cell_type": "code",
   "execution_count": 17,
   "id": "a80e298c",
   "metadata": {},
   "outputs": [
    {
     "data": {
      "text/plain": [
       "'Sci-Fi'"
      ]
     },
     "execution_count": 17,
     "metadata": {},
     "output_type": "execute_result"
    }
   ],
   "source": [
    "movie_obj = Movie(name=\"The Matrix\", genre=\"Sci-Fi\")\n",
    "movie_obj.name\n",
    "movie_obj.genre"
   ]
  },
  {
   "cell_type": "code",
   "execution_count": 18,
   "id": "a9224a2c",
   "metadata": {},
   "outputs": [],
   "source": [
    "data = [\n",
    "    {\n",
    "        \"name\": \"Interstellar\",\n",
    "        \"genre\": \"Sci-Fi\"\n",
    "    },\n",
    "    {\n",
    "        \"name\": \"The Martian\",\n",
    "        \"genre\": \"Sci-Fi\"\n",
    "    },\n",
    "    {\n",
    "        \"name\": \"Arrival\",\n",
    "        \"genre\": \"Sci-Fi\"\n",
    "    }\n",
    "]"
   ]
  },
  {
   "cell_type": "code",
   "execution_count": 19,
   "id": "82289967",
   "metadata": {},
   "outputs": [
    {
     "data": {
      "text/html": [
       "<div>\n",
       "<style scoped>\n",
       "    .dataframe tbody tr th:only-of-type {\n",
       "        vertical-align: middle;\n",
       "    }\n",
       "\n",
       "    .dataframe tbody tr th {\n",
       "        vertical-align: top;\n",
       "    }\n",
       "\n",
       "    .dataframe thead th {\n",
       "        text-align: right;\n",
       "    }\n",
       "</style>\n",
       "<table border=\"1\" class=\"dataframe\">\n",
       "  <thead>\n",
       "    <tr style=\"text-align: right;\">\n",
       "      <th></th>\n",
       "      <th>name</th>\n",
       "      <th>genre</th>\n",
       "    </tr>\n",
       "  </thead>\n",
       "  <tbody>\n",
       "    <tr>\n",
       "      <th>0</th>\n",
       "      <td>Interstellar</td>\n",
       "      <td>Sci-Fi</td>\n",
       "    </tr>\n",
       "    <tr>\n",
       "      <th>1</th>\n",
       "      <td>The Martian</td>\n",
       "      <td>Sci-Fi</td>\n",
       "    </tr>\n",
       "    <tr>\n",
       "      <th>2</th>\n",
       "      <td>Arrival</td>\n",
       "      <td>Sci-Fi</td>\n",
       "    </tr>\n",
       "  </tbody>\n",
       "</table>\n",
       "</div>"
      ],
      "text/plain": [
       "           name   genre\n",
       "0  Interstellar  Sci-Fi\n",
       "1   The Martian  Sci-Fi\n",
       "2       Arrival  Sci-Fi"
      ]
     },
     "execution_count": 19,
     "metadata": {},
     "output_type": "execute_result"
    }
   ],
   "source": [
    "df = pd.DataFrame(data)\n",
    "df.head()"
   ]
  },
  {
   "cell_type": "code",
   "execution_count": null,
   "id": "dc107427",
   "metadata": {},
   "outputs": [],
   "source": [
    "# sqlalchemy\n",
    "# https://docs.sqlalchemy.org/en/14/intro.html#installation\n",
    "# https://docs.sqlalchemy.org/en/14/\n",
    "# https://docs.sqlalchemy.org/en/14/tutorial/index.html\n",
    "# \n",
    "# https://www.tutorialspoint.com/sqlalchemy/index.htm <-----"
   ]
  },
  {
   "cell_type": "code",
   "execution_count": 20,
   "id": "32344445",
   "metadata": {},
   "outputs": [],
   "source": [
    "import sqlalchemy\n",
    "from sqlalchemy import create_engine, Column, String, Integer\n",
    "from sqlalchemy.orm import sessionmaker"
   ]
  },
  {
   "cell_type": "code",
   "execution_count": 21,
   "id": "b87efd7c",
   "metadata": {},
   "outputs": [],
   "source": [
    "engine = create_engine(\"sqlite:///app_test.db\")  # mysql, postgres"
   ]
  },
  {
   "cell_type": "code",
   "execution_count": 22,
   "id": "dfa3feb4",
   "metadata": {},
   "outputs": [],
   "source": [
    "Session = sessionmaker(bind=engine)\n",
    "my_sess = Session()"
   ]
  },
  {
   "cell_type": "code",
   "execution_count": 23,
   "id": "0ba701ae",
   "metadata": {},
   "outputs": [],
   "source": [
    "# SE DECLARA LA CLASE, Base\n",
    "from sqlalchemy.ext.declarative import declarative_base\n",
    "\n",
    "Base = declarative_base()"
   ]
  },
  {
   "cell_type": "code",
   "execution_count": 24,
   "id": "c96adcc1",
   "metadata": {},
   "outputs": [],
   "source": [
    "class Movie(Base): # table\n",
    "    __tablename__ = \"movies\" # TABLE NAME\n",
    "    \n",
    "    id = Column(Integer, primary_key=True) # auto created for us\n",
    "    name = Column(String) # 'Unknown'  # COLUMN\n",
    "    genre = Column(String) # 'Action'  # COLUMN\n",
    "    description = Column(String) # 'Action'  # COLUMN\n",
    "    year = Column(Integer, nullable=True) # None  # COLUMN\n",
    "    \n",
    "    \n",
    "    def __repr__(self):\n",
    "        return f\"<Movie name={self.name}>\"\n",
    "\n",
    "# saved instance = row"
   ]
  },
  {
   "cell_type": "code",
   "execution_count": 25,
   "id": "45e4a90c",
   "metadata": {},
   "outputs": [],
   "source": [
    "# ADD TABLE(S) TO DATABASE\n",
    "Base.metadata.create_all(engine)"
   ]
  },
  {
   "cell_type": "code",
   "execution_count": 26,
   "id": "1cfdd83c",
   "metadata": {},
   "outputs": [
    {
     "name": "stdout",
     "output_type": "stream",
     "text": [
      "Interstellar\n"
     ]
    }
   ],
   "source": [
    "movie_obj = Movie(name='Interstellar', genre='Sci-Fi')\n",
    "print(movie_obj.name)"
   ]
  },
  {
   "cell_type": "code",
   "execution_count": 27,
   "id": "7777e92d",
   "metadata": {},
   "outputs": [],
   "source": [
    "my_sess.add(movie_obj) # prepare to save\n",
    "my_sess.commit() # save"
   ]
  },
  {
   "cell_type": "code",
   "execution_count": 28,
   "id": "15655d10",
   "metadata": {},
   "outputs": [
    {
     "data": {
      "text/plain": [
       "10"
      ]
     },
     "execution_count": 28,
     "metadata": {},
     "output_type": "execute_result"
    }
   ],
   "source": [
    "movie_obj.id"
   ]
  },
  {
   "cell_type": "code",
   "execution_count": 29,
   "id": "cb785180",
   "metadata": {},
   "outputs": [
    {
     "name": "stdout",
     "output_type": "stream",
     "text": [
      "The Matrix None\n"
     ]
    }
   ],
   "source": [
    "movie_obj2 = Movie(name='The Matrix', genre='Sci-Fi')\n",
    "print(movie_obj2.name, movie_obj2.id)"
   ]
  },
  {
   "cell_type": "code",
   "execution_count": 30,
   "id": "9cf093d9",
   "metadata": {},
   "outputs": [
    {
     "name": "stdout",
     "output_type": "stream",
     "text": [
      "Lovecraft Country None\n"
     ]
    }
   ],
   "source": [
    "movie_obj3 = Movie(name='Lovecraft Country', genre='Sci-Fi')\n",
    "print(movie_obj3.name, movie_obj3.id)"
   ]
  },
  {
   "cell_type": "code",
   "execution_count": 31,
   "id": "b47497e3",
   "metadata": {},
   "outputs": [],
   "source": [
    "my_sess.add(movie_obj2) # PREPARE TO SAVE\n",
    "my_sess.add(movie_obj3) # PREPARE TO SAVE\n",
    "my_sess.commit() # SAVE"
   ]
  },
  {
   "cell_type": "code",
   "execution_count": 32,
   "id": "bf2bda50",
   "metadata": {},
   "outputs": [
    {
     "name": "stdout",
     "output_type": "stream",
     "text": [
      "11 12\n"
     ]
    }
   ],
   "source": [
    "print(movie_obj2.id, movie_obj3.id)"
   ]
  },
  {
   "cell_type": "markdown",
   "id": "929e32d3",
   "metadata": {},
   "source": [
    "## CRUD in SQLAlchemy\n",
    "    - Create\n",
    "    - Retrive\n",
    "    - Update\n",
    "    - Delete"
   ]
  },
  {
   "cell_type": "code",
   "execution_count": 33,
   "id": "2916e233",
   "metadata": {},
   "outputs": [],
   "source": [
    "# SE CREA OTRA SESION\n",
    "Session = sessionmaker(bind=engine)\n",
    "session = Session()"
   ]
  },
  {
   "cell_type": "code",
   "execution_count": 34,
   "id": "1387e448",
   "metadata": {},
   "outputs": [],
   "source": [
    "# CREATE\n",
    "movie = Movie(name='Guaridans of the Galaxy')\n",
    "session.add(movie)\n",
    "session.commit()"
   ]
  },
  {
   "cell_type": "code",
   "execution_count": 35,
   "id": "9b8347e7",
   "metadata": {},
   "outputs": [
    {
     "name": "stdout",
     "output_type": "stream",
     "text": [
      "2 Matrix Revolutions Cool movie\n"
     ]
    }
   ],
   "source": [
    "# RETRIVE\n",
    "\n",
    "# GET 1 ITEM\n",
    "movie_a = session.query(Movie).get(2)\n",
    "print(movie_a.id, movie_a.name, movie_a.description)"
   ]
  },
  {
   "cell_type": "code",
   "execution_count": 36,
   "id": "82423613",
   "metadata": {},
   "outputs": [
    {
     "name": "stdout",
     "output_type": "stream",
     "text": [
      "[<Movie name=Matrix Revolutions>, <Movie name=Lovecraft Country>, <Movie name=Guaridans of the Galaxy>, <Movie name=Interstellar>, <Movie name=Matrix Revolutions>, <Movie name=Lovecraft Country>, <Movie name=Guaridans of the Galaxy>, <Movie name=Interstellar>, <Movie name=Interstellar>, <Movie name=The Matrix>, <Movie name=Lovecraft Country>, <Movie name=Guaridans of the Galaxy>]\n"
     ]
    }
   ],
   "source": [
    "# LIST\n",
    "# qs -> Query Set\n",
    "qs = session.query(Movie).all()\n",
    "print(qs)"
   ]
  },
  {
   "cell_type": "code",
   "execution_count": 37,
   "id": "995c7234",
   "metadata": {},
   "outputs": [
    {
     "name": "stdout",
     "output_type": "stream",
     "text": [
      "[<Movie name=Lovecraft Country>, <Movie name=Lovecraft Country>, <Movie name=Lovecraft Country>]\n"
     ]
    }
   ],
   "source": [
    "# LIST & FILTER BY COLUMN VALUE\n",
    "qs = session.query(Movie).filter_by(name='Lovecraft Country').all()\n",
    "print(qs)"
   ]
  },
  {
   "cell_type": "code",
   "execution_count": 38,
   "id": "2b2d474f",
   "metadata": {},
   "outputs": [
    {
     "data": {
      "text/plain": [
       "[<Movie name=Guaridans of the Galaxy>,\n",
       " <Movie name=Guaridans of the Galaxy>,\n",
       " <Movie name=Guaridans of the Galaxy>]"
      ]
     },
     "execution_count": 38,
     "metadata": {},
     "output_type": "execute_result"
    }
   ],
   "source": [
    "# LIST & FILTER BY COLUMN VALUE CONTAINING SOMETHING\n",
    "qs = session.query(Movie).filter(Movie.name.contains(\"Galaxy\")).all()\n",
    "qs"
   ]
  },
  {
   "cell_type": "code",
   "execution_count": 40,
   "id": "d0f6e072",
   "metadata": {},
   "outputs": [
    {
     "name": "stdout",
     "output_type": "stream",
     "text": [
      "What are you looking for?\n",
      "Galaxy\n",
      "[<Movie name=Guaridans of the Galaxy>, <Movie name=Guaridans of the Galaxy>, <Movie name=Guaridans of the Galaxy>]\n"
     ]
    }
   ],
   "source": [
    "# LIST & FILTER BY COLUMN VALUE CONTAINING SOMETHING\n",
    "my_query = input(\"What are you looking for?\\n\") or \"Unknown\"\n",
    "qs = session.query(Movie).filter(Movie.name.contains(my_query)).all()\n",
    "print(qs)"
   ]
  },
  {
   "cell_type": "code",
   "execution_count": 41,
   "id": "9aa8342c",
   "metadata": {},
   "outputs": [
    {
     "name": "stdout",
     "output_type": "stream",
     "text": [
      "2 Matrix Revolutions Cool movie\n"
     ]
    }
   ],
   "source": [
    "# UPDATE\n",
    "\n",
    "movie_a = session.query(Movie).get(2)\n",
    "movie_a.description = \"Cool movie\"\n",
    "print(movie_a.id, movie_a.name, movie_a.description)\n",
    "session.commit()"
   ]
  },
  {
   "cell_type": "code",
   "execution_count": 42,
   "id": "89c0fb0a",
   "metadata": {},
   "outputs": [
    {
     "name": "stdout",
     "output_type": "stream",
     "text": [
      "Cool movie\n"
     ]
    }
   ],
   "source": [
    "movie_a = session.query(Movie).get(2)\n",
    "print(movie_a.description)"
   ]
  },
  {
   "cell_type": "code",
   "execution_count": 43,
   "id": "d2be4fb7",
   "metadata": {},
   "outputs": [],
   "source": [
    "# RENAME A MOVIE\n",
    "qs = session.query(Movie).filter(Movie.name.contains(\"Matrix\")).all()\n",
    "for movie_obj in qs:\n",
    "    movie_obj.name = \"Matrix Revolutions\"\n",
    "session.commit()"
   ]
  },
  {
   "cell_type": "code",
   "execution_count": 44,
   "id": "8538795c",
   "metadata": {},
   "outputs": [
    {
     "data": {
      "text/plain": [
       "[<Movie name=Matrix Revolutions>,\n",
       " <Movie name=Matrix Revolutions>,\n",
       " <Movie name=Matrix Revolutions>]"
      ]
     },
     "execution_count": 44,
     "metadata": {},
     "output_type": "execute_result"
    }
   ],
   "source": [
    "qs = session.query(Movie).filter(Movie.name.contains(\"Matrix\")).all()\n",
    "qs"
   ]
  },
  {
   "cell_type": "code",
   "execution_count": 61,
   "id": "76254913",
   "metadata": {},
   "outputs": [
    {
     "name": "stdout",
     "output_type": "stream",
     "text": [
      "<Movie name=Lovecraft Country>\n"
     ]
    }
   ],
   "source": [
    "# DELETE\n",
    "movie_a = session.query(Movie).get(7)\n",
    "print(movie_a)\n",
    "session.delete(movie_a)\n",
    "session.commit()"
   ]
  },
  {
   "cell_type": "code",
   "execution_count": 49,
   "id": "c2802e23",
   "metadata": {},
   "outputs": [],
   "source": [
    "session.flush()"
   ]
  },
  {
   "cell_type": "code",
   "execution_count": 50,
   "id": "0732bb54",
   "metadata": {},
   "outputs": [
    {
     "name": "stdout",
     "output_type": "stream",
     "text": [
      "[<Movie name=Lovecraft Country>, <Movie name=Guaridans of the Galaxy>, <Movie name=Interstellar>, <Movie name=Matrix Revolutions>, <Movie name=Lovecraft Country>, <Movie name=Guaridans of the Galaxy>, <Movie name=Interstellar>, <Movie name=Interstellar>, <Movie name=Matrix Revolutions>, <Movie name=Lovecraft Country>, <Movie name=Guaridans of the Galaxy>]\n"
     ]
    }
   ],
   "source": [
    "qs = session.query(Movie).all()\n",
    "print(qs)"
   ]
  },
  {
   "cell_type": "markdown",
   "id": "c63cf246",
   "metadata": {},
   "source": [
    "#### Hacer __ingenieria inversa__ con `sqlacodegen` para saber cual es el modelo(s) de una base de datos desde el archivo `.db`"
   ]
  },
  {
   "cell_type": "markdown",
   "id": "280ab040",
   "metadata": {},
   "source": [
    "Instalar el paquede `sqlacodegen`"
   ]
  },
  {
   "cell_type": "code",
   "execution_count": null,
   "id": "003ddef7",
   "metadata": {},
   "outputs": [],
   "source": [
    "# https://pypi.org/project/sqlacodegen/"
   ]
  },
  {
   "cell_type": "markdown",
   "id": "e36eefce",
   "metadata": {},
   "source": [
    "### SQLAlchemy & Pandas"
   ]
  },
  {
   "cell_type": "code",
   "execution_count": 57,
   "id": "c4d70241",
   "metadata": {},
   "outputs": [
    {
     "name": "stdout",
     "output_type": "stream",
     "text": [
      "# coding: utf-8\r\n",
      "from sqlalchemy import Column, Integer, String\r\n",
      "from sqlalchemy.ext.declarative import declarative_base\r\n",
      "\r\n",
      "Base = declarative_base()\r\n",
      "metadata = Base.metadata\r\n",
      "\r\n",
      "\r\n",
      "class Movie(Base):\r\n",
      "    __tablename__ = 'movies'\r\n",
      "\r\n",
      "    id = Column(Integer, primary_key=True)\r\n",
      "    name = Column(String)\r\n",
      "    genre = Column(String)\r\n",
      "    description = Column(String)\r\n",
      "    year = Column(Integer)\r\n"
     ]
    }
   ],
   "source": [
    "!sqlacodegen sqlite:///app_test.db"
   ]
  },
  {
   "cell_type": "code",
   "execution_count": 51,
   "id": "d060e5d4",
   "metadata": {},
   "outputs": [],
   "source": [
    "# SE COPIA EL MODELO PARA PODER OTRA BD CON OTRA SESION"
   ]
  },
  {
   "cell_type": "code",
   "execution_count": null,
   "id": "9cc11f4d",
   "metadata": {},
   "outputs": [],
   "source": []
  },
  {
   "cell_type": "code",
   "execution_count": 52,
   "id": "c28059f5",
   "metadata": {},
   "outputs": [],
   "source": [
    "engine = create_engine(\"sqlite:///app_test.db\")\n",
    "Session = sessionmaker(bind=engine)\n",
    "session = Session()"
   ]
  },
  {
   "cell_type": "code",
   "execution_count": 53,
   "id": "8c6a0c04",
   "metadata": {},
   "outputs": [],
   "source": [
    "# coding: utf-8\n",
    "from sqlalchemy import Column, Integer, String\n",
    "from sqlalchemy.ext.declarative import declarative_base\n",
    "\n",
    "Base = declarative_base()\n",
    "metadata = Base.metadata\n",
    "\n",
    "\n",
    "class MovieApp2(Base):\n",
    "    __tablename__ = 'movies'\n",
    "\n",
    "    id = Column(Integer, primary_key=True)\n",
    "    name = Column(String)\n",
    "    genre = Column(String)\n",
    "    description = Column(String)\n",
    "    year = Column(Integer)\n",
    "    \n",
    "    def __repr__(self):\n",
    "        return f\"<Movie name={self.name}>\""
   ]
  },
  {
   "cell_type": "code",
   "execution_count": 54,
   "id": "54951f11",
   "metadata": {},
   "outputs": [
    {
     "name": "stdout",
     "output_type": "stream",
     "text": [
      "[<Movie name=Lovecraft Country>, <Movie name=Guaridans of the Galaxy>, <Movie name=Interstellar>, <Movie name=Matrix Revolutions>, <Movie name=Lovecraft Country>, <Movie name=Guaridans of the Galaxy>, <Movie name=Interstellar>, <Movie name=Interstellar>, <Movie name=Matrix Revolutions>, <Movie name=Lovecraft Country>, <Movie name=Guaridans of the Galaxy>]\n"
     ]
    }
   ],
   "source": [
    "qs = session.query(MovieApp2).all()\n",
    "print(qs)"
   ]
  },
  {
   "cell_type": "code",
   "execution_count": 55,
   "id": "1b958992",
   "metadata": {},
   "outputs": [
    {
     "name": "stdout",
     "output_type": "stream",
     "text": [
      "{'_sa_instance_state': <sqlalchemy.orm.state.InstanceState object at 0x7f0dacf36f70>, 'name': 'Lovecraft Country', 'description': None, 'year': None, 'id': 3, 'genre': 'Sci-Fi'}\n",
      "{'_sa_instance_state': <sqlalchemy.orm.state.InstanceState object at 0x7f0dacf36f40>, 'name': 'Guaridans of the Galaxy', 'description': None, 'year': None, 'id': 4, 'genre': None}\n",
      "{'_sa_instance_state': <sqlalchemy.orm.state.InstanceState object at 0x7f0dacf41040>, 'name': 'Interstellar', 'description': None, 'year': None, 'id': 5, 'genre': 'Sci-Fi'}\n",
      "{'_sa_instance_state': <sqlalchemy.orm.state.InstanceState object at 0x7f0dacf410a0>, 'name': 'Matrix Revolutions', 'description': None, 'year': None, 'id': 6, 'genre': 'Sci-Fi'}\n",
      "{'_sa_instance_state': <sqlalchemy.orm.state.InstanceState object at 0x7f0dacf41100>, 'name': 'Lovecraft Country', 'description': None, 'year': None, 'id': 7, 'genre': 'Sci-Fi'}\n",
      "{'_sa_instance_state': <sqlalchemy.orm.state.InstanceState object at 0x7f0dacf41160>, 'name': 'Guaridans of the Galaxy', 'description': None, 'year': None, 'id': 8, 'genre': None}\n",
      "{'_sa_instance_state': <sqlalchemy.orm.state.InstanceState object at 0x7f0dacf411c0>, 'name': 'Interstellar', 'description': None, 'year': None, 'id': 9, 'genre': 'Sci-Fi'}\n",
      "{'_sa_instance_state': <sqlalchemy.orm.state.InstanceState object at 0x7f0dacf41220>, 'name': 'Interstellar', 'description': None, 'year': None, 'id': 10, 'genre': 'Sci-Fi'}\n",
      "{'_sa_instance_state': <sqlalchemy.orm.state.InstanceState object at 0x7f0dacf41280>, 'name': 'Matrix Revolutions', 'description': None, 'year': None, 'id': 11, 'genre': 'Sci-Fi'}\n",
      "{'_sa_instance_state': <sqlalchemy.orm.state.InstanceState object at 0x7f0dacf412e0>, 'name': 'Lovecraft Country', 'description': None, 'year': None, 'id': 12, 'genre': 'Sci-Fi'}\n",
      "{'_sa_instance_state': <sqlalchemy.orm.state.InstanceState object at 0x7f0dacf413a0>, 'name': 'Guaridans of the Galaxy', 'description': None, 'year': None, 'id': 13, 'genre': None}\n"
     ]
    }
   ],
   "source": [
    "# SABER QUE ES LO QUE CONTIENE EL QUERY SET ANTERIOR\n",
    "for old_obj in qs:\n",
    "    stored_data_dict = old_obj.__dict__\n",
    "    print(stored_data_dict)"
   ]
  },
  {
   "cell_type": "code",
   "execution_count": 56,
   "id": "8f5bcb7d",
   "metadata": {},
   "outputs": [
    {
     "name": "stdout",
     "output_type": "stream",
     "text": [
      "Lovecraft Country\n",
      "Guaridans of the Galaxy\n",
      "Interstellar\n",
      "Matrix Revolutions\n",
      "Lovecraft Country\n",
      "Guaridans of the Galaxy\n",
      "Interstellar\n",
      "Interstellar\n",
      "Matrix Revolutions\n",
      "Lovecraft Country\n",
      "Guaridans of the Galaxy\n"
     ]
    }
   ],
   "source": [
    "# COPIAR LOS DATOS DE UNA BASE DE DATOS A OTRA BD CON sqlacodegen\n",
    "for old_obj in qs:\n",
    "    movie_obj = Movie(name=old_obj.name, genre=old_obj.genre, year=old_obj.year)\n",
    "    print(movie_obj.name)\n",
    "    my_sess.add(movie_obj) # ES LA SESSION QUE ESTA ARRIBA CON LA BD DE LA TABLA Movies Y SE INSERTA A MoviesApp2\n",
    "my_sess.commit()"
   ]
  },
  {
   "cell_type": "code",
   "execution_count": null,
   "id": "4474a776",
   "metadata": {},
   "outputs": [],
   "source": [
    "# HACER LO CON pandas"
   ]
  },
  {
   "cell_type": "code",
   "execution_count": 62,
   "id": "08e4564c",
   "metadata": {},
   "outputs": [
    {
     "data": {
      "text/html": [
       "<div>\n",
       "<style scoped>\n",
       "    .dataframe tbody tr th:only-of-type {\n",
       "        vertical-align: middle;\n",
       "    }\n",
       "\n",
       "    .dataframe tbody tr th {\n",
       "        vertical-align: top;\n",
       "    }\n",
       "\n",
       "    .dataframe thead th {\n",
       "        text-align: right;\n",
       "    }\n",
       "</style>\n",
       "<table border=\"1\" class=\"dataframe\">\n",
       "  <thead>\n",
       "    <tr style=\"text-align: right;\">\n",
       "      <th></th>\n",
       "      <th>id</th>\n",
       "      <th>name</th>\n",
       "      <th>genre</th>\n",
       "      <th>description</th>\n",
       "      <th>year</th>\n",
       "    </tr>\n",
       "  </thead>\n",
       "  <tbody>\n",
       "    <tr>\n",
       "      <th>0</th>\n",
       "      <td>3</td>\n",
       "      <td>Lovecraft Country</td>\n",
       "      <td>Sci-Fi</td>\n",
       "      <td>None</td>\n",
       "      <td>None</td>\n",
       "    </tr>\n",
       "    <tr>\n",
       "      <th>1</th>\n",
       "      <td>4</td>\n",
       "      <td>Guaridans of the Galaxy</td>\n",
       "      <td>None</td>\n",
       "      <td>None</td>\n",
       "      <td>None</td>\n",
       "    </tr>\n",
       "    <tr>\n",
       "      <th>2</th>\n",
       "      <td>5</td>\n",
       "      <td>Interstellar</td>\n",
       "      <td>Sci-Fi</td>\n",
       "      <td>None</td>\n",
       "      <td>None</td>\n",
       "    </tr>\n",
       "    <tr>\n",
       "      <th>3</th>\n",
       "      <td>6</td>\n",
       "      <td>Matrix Revolutions</td>\n",
       "      <td>Sci-Fi</td>\n",
       "      <td>None</td>\n",
       "      <td>None</td>\n",
       "    </tr>\n",
       "    <tr>\n",
       "      <th>4</th>\n",
       "      <td>8</td>\n",
       "      <td>Guaridans of the Galaxy</td>\n",
       "      <td>None</td>\n",
       "      <td>None</td>\n",
       "      <td>None</td>\n",
       "    </tr>\n",
       "  </tbody>\n",
       "</table>\n",
       "</div>"
      ],
      "text/plain": [
       "   id                     name   genre description  year\n",
       "0   3        Lovecraft Country  Sci-Fi        None  None\n",
       "1   4  Guaridans of the Galaxy    None        None  None\n",
       "2   5             Interstellar  Sci-Fi        None  None\n",
       "3   6       Matrix Revolutions  Sci-Fi        None  None\n",
       "4   8  Guaridans of the Galaxy    None        None  None"
      ]
     },
     "execution_count": 62,
     "metadata": {},
     "output_type": "execute_result"
    }
   ],
   "source": [
    "# MOSTRAR CON PANDAS UNA(ANTERIOR) BD DE SQLITE\n",
    "old_engine = create_engine(\"sqlite:///app_test.db\")\n",
    "old_df = pd.read_sql_table(\"movies\", old_engine)\n",
    "old_df.head()"
   ]
  },
  {
   "cell_type": "code",
   "execution_count": 60,
   "id": "6f6e8780",
   "metadata": {},
   "outputs": [
    {
     "data": {
      "text/html": [
       "<div>\n",
       "<style scoped>\n",
       "    .dataframe tbody tr th:only-of-type {\n",
       "        vertical-align: middle;\n",
       "    }\n",
       "\n",
       "    .dataframe tbody tr th {\n",
       "        vertical-align: top;\n",
       "    }\n",
       "\n",
       "    .dataframe thead th {\n",
       "        text-align: right;\n",
       "    }\n",
       "</style>\n",
       "<table border=\"1\" class=\"dataframe\">\n",
       "  <thead>\n",
       "    <tr style=\"text-align: right;\">\n",
       "      <th></th>\n",
       "      <th>id</th>\n",
       "      <th>name</th>\n",
       "      <th>genre</th>\n",
       "      <th>description</th>\n",
       "      <th>year</th>\n",
       "    </tr>\n",
       "  </thead>\n",
       "  <tbody>\n",
       "    <tr>\n",
       "      <th>0</th>\n",
       "      <td>1</td>\n",
       "      <td>Interstellar</td>\n",
       "      <td>Sci-Fi</td>\n",
       "      <td>None</td>\n",
       "      <td>None</td>\n",
       "    </tr>\n",
       "  </tbody>\n",
       "</table>\n",
       "</div>"
      ],
      "text/plain": [
       "   id          name   genre description  year\n",
       "0   1  Interstellar  Sci-Fi        None  None"
      ]
     },
     "execution_count": 60,
     "metadata": {},
     "output_type": "execute_result"
    }
   ],
   "source": [
    "# MOSTRAR CON PANDAS UNA(NUEVA) BD DE SQLITE\n",
    "current_engine = create_engine(\"sqlite:///app2.db\")\n",
    "current_df = pd.read_sql_table(\"movies\", current_engine)\n",
    "current_df.head()"
   ]
  },
  {
   "cell_type": "code",
   "execution_count": 63,
   "id": "759b1cea",
   "metadata": {},
   "outputs": [
    {
     "data": {
      "text/html": [
       "<div>\n",
       "<style scoped>\n",
       "    .dataframe tbody tr th:only-of-type {\n",
       "        vertical-align: middle;\n",
       "    }\n",
       "\n",
       "    .dataframe tbody tr th {\n",
       "        vertical-align: top;\n",
       "    }\n",
       "\n",
       "    .dataframe thead th {\n",
       "        text-align: right;\n",
       "    }\n",
       "</style>\n",
       "<table border=\"1\" class=\"dataframe\">\n",
       "  <thead>\n",
       "    <tr style=\"text-align: right;\">\n",
       "      <th></th>\n",
       "      <th>id</th>\n",
       "      <th>name</th>\n",
       "      <th>genre</th>\n",
       "      <th>description</th>\n",
       "      <th>year</th>\n",
       "    </tr>\n",
       "  </thead>\n",
       "  <tbody>\n",
       "    <tr>\n",
       "      <th>0</th>\n",
       "      <td>1</td>\n",
       "      <td>Interstellar</td>\n",
       "      <td>Sci-Fi</td>\n",
       "      <td>None</td>\n",
       "      <td>None</td>\n",
       "    </tr>\n",
       "    <tr>\n",
       "      <th>0</th>\n",
       "      <td>3</td>\n",
       "      <td>Lovecraft Country</td>\n",
       "      <td>Sci-Fi</td>\n",
       "      <td>None</td>\n",
       "      <td>None</td>\n",
       "    </tr>\n",
       "    <tr>\n",
       "      <th>1</th>\n",
       "      <td>4</td>\n",
       "      <td>Guaridans of the Galaxy</td>\n",
       "      <td>None</td>\n",
       "      <td>None</td>\n",
       "      <td>None</td>\n",
       "    </tr>\n",
       "    <tr>\n",
       "      <th>2</th>\n",
       "      <td>5</td>\n",
       "      <td>Interstellar</td>\n",
       "      <td>Sci-Fi</td>\n",
       "      <td>None</td>\n",
       "      <td>None</td>\n",
       "    </tr>\n",
       "    <tr>\n",
       "      <th>3</th>\n",
       "      <td>6</td>\n",
       "      <td>Matrix Revolutions</td>\n",
       "      <td>Sci-Fi</td>\n",
       "      <td>None</td>\n",
       "      <td>None</td>\n",
       "    </tr>\n",
       "    <tr>\n",
       "      <th>4</th>\n",
       "      <td>8</td>\n",
       "      <td>Guaridans of the Galaxy</td>\n",
       "      <td>None</td>\n",
       "      <td>None</td>\n",
       "      <td>None</td>\n",
       "    </tr>\n",
       "    <tr>\n",
       "      <th>5</th>\n",
       "      <td>9</td>\n",
       "      <td>Interstellar</td>\n",
       "      <td>Sci-Fi</td>\n",
       "      <td>None</td>\n",
       "      <td>None</td>\n",
       "    </tr>\n",
       "    <tr>\n",
       "      <th>6</th>\n",
       "      <td>10</td>\n",
       "      <td>Interstellar</td>\n",
       "      <td>Sci-Fi</td>\n",
       "      <td>None</td>\n",
       "      <td>None</td>\n",
       "    </tr>\n",
       "    <tr>\n",
       "      <th>7</th>\n",
       "      <td>11</td>\n",
       "      <td>Matrix Revolutions</td>\n",
       "      <td>Sci-Fi</td>\n",
       "      <td>None</td>\n",
       "      <td>None</td>\n",
       "    </tr>\n",
       "    <tr>\n",
       "      <th>8</th>\n",
       "      <td>12</td>\n",
       "      <td>Lovecraft Country</td>\n",
       "      <td>Sci-Fi</td>\n",
       "      <td>None</td>\n",
       "      <td>None</td>\n",
       "    </tr>\n",
       "    <tr>\n",
       "      <th>9</th>\n",
       "      <td>13</td>\n",
       "      <td>Guaridans of the Galaxy</td>\n",
       "      <td>None</td>\n",
       "      <td>None</td>\n",
       "      <td>None</td>\n",
       "    </tr>\n",
       "    <tr>\n",
       "      <th>10</th>\n",
       "      <td>14</td>\n",
       "      <td>Lovecraft Country</td>\n",
       "      <td>Sci-Fi</td>\n",
       "      <td>None</td>\n",
       "      <td>None</td>\n",
       "    </tr>\n",
       "    <tr>\n",
       "      <th>11</th>\n",
       "      <td>15</td>\n",
       "      <td>Guaridans of the Galaxy</td>\n",
       "      <td>None</td>\n",
       "      <td>None</td>\n",
       "      <td>None</td>\n",
       "    </tr>\n",
       "    <tr>\n",
       "      <th>12</th>\n",
       "      <td>16</td>\n",
       "      <td>Interstellar</td>\n",
       "      <td>Sci-Fi</td>\n",
       "      <td>None</td>\n",
       "      <td>None</td>\n",
       "    </tr>\n",
       "    <tr>\n",
       "      <th>13</th>\n",
       "      <td>17</td>\n",
       "      <td>Matrix Revolutions</td>\n",
       "      <td>Sci-Fi</td>\n",
       "      <td>None</td>\n",
       "      <td>None</td>\n",
       "    </tr>\n",
       "    <tr>\n",
       "      <th>14</th>\n",
       "      <td>18</td>\n",
       "      <td>Lovecraft Country</td>\n",
       "      <td>Sci-Fi</td>\n",
       "      <td>None</td>\n",
       "      <td>None</td>\n",
       "    </tr>\n",
       "    <tr>\n",
       "      <th>15</th>\n",
       "      <td>19</td>\n",
       "      <td>Guaridans of the Galaxy</td>\n",
       "      <td>None</td>\n",
       "      <td>None</td>\n",
       "      <td>None</td>\n",
       "    </tr>\n",
       "    <tr>\n",
       "      <th>16</th>\n",
       "      <td>20</td>\n",
       "      <td>Interstellar</td>\n",
       "      <td>Sci-Fi</td>\n",
       "      <td>None</td>\n",
       "      <td>None</td>\n",
       "    </tr>\n",
       "    <tr>\n",
       "      <th>17</th>\n",
       "      <td>21</td>\n",
       "      <td>Interstellar</td>\n",
       "      <td>Sci-Fi</td>\n",
       "      <td>None</td>\n",
       "      <td>None</td>\n",
       "    </tr>\n",
       "    <tr>\n",
       "      <th>18</th>\n",
       "      <td>22</td>\n",
       "      <td>Matrix Revolutions</td>\n",
       "      <td>Sci-Fi</td>\n",
       "      <td>None</td>\n",
       "      <td>None</td>\n",
       "    </tr>\n",
       "  </tbody>\n",
       "</table>\n",
       "</div>"
      ],
      "text/plain": [
       "    id                     name   genre description  year\n",
       "0    1             Interstellar  Sci-Fi        None  None\n",
       "0    3        Lovecraft Country  Sci-Fi        None  None\n",
       "1    4  Guaridans of the Galaxy    None        None  None\n",
       "2    5             Interstellar  Sci-Fi        None  None\n",
       "3    6       Matrix Revolutions  Sci-Fi        None  None\n",
       "4    8  Guaridans of the Galaxy    None        None  None\n",
       "5    9             Interstellar  Sci-Fi        None  None\n",
       "6   10             Interstellar  Sci-Fi        None  None\n",
       "7   11       Matrix Revolutions  Sci-Fi        None  None\n",
       "8   12        Lovecraft Country  Sci-Fi        None  None\n",
       "9   13  Guaridans of the Galaxy    None        None  None\n",
       "10  14        Lovecraft Country  Sci-Fi        None  None\n",
       "11  15  Guaridans of the Galaxy    None        None  None\n",
       "12  16             Interstellar  Sci-Fi        None  None\n",
       "13  17       Matrix Revolutions  Sci-Fi        None  None\n",
       "14  18        Lovecraft Country  Sci-Fi        None  None\n",
       "15  19  Guaridans of the Galaxy    None        None  None\n",
       "16  20             Interstellar  Sci-Fi        None  None\n",
       "17  21             Interstellar  Sci-Fi        None  None\n",
       "18  22       Matrix Revolutions  Sci-Fi        None  None"
      ]
     },
     "execution_count": 63,
     "metadata": {},
     "output_type": "execute_result"
    }
   ],
   "source": [
    "# CONCATENAR LAS DOS BD A 20\n",
    "final_df = pd.concat([current_df, old_df])\n",
    "final_df.head(n=20)"
   ]
  },
  {
   "cell_type": "code",
   "execution_count": 64,
   "id": "bbec65f5",
   "metadata": {},
   "outputs": [
    {
     "data": {
      "text/html": [
       "<div>\n",
       "<style scoped>\n",
       "    .dataframe tbody tr th:only-of-type {\n",
       "        vertical-align: middle;\n",
       "    }\n",
       "\n",
       "    .dataframe tbody tr th {\n",
       "        vertical-align: top;\n",
       "    }\n",
       "\n",
       "    .dataframe thead th {\n",
       "        text-align: right;\n",
       "    }\n",
       "</style>\n",
       "<table border=\"1\" class=\"dataframe\">\n",
       "  <thead>\n",
       "    <tr style=\"text-align: right;\">\n",
       "      <th></th>\n",
       "      <th>name</th>\n",
       "      <th>genre</th>\n",
       "      <th>description</th>\n",
       "      <th>year</th>\n",
       "    </tr>\n",
       "  </thead>\n",
       "  <tbody>\n",
       "    <tr>\n",
       "      <th>0</th>\n",
       "      <td>Interstellar</td>\n",
       "      <td>Sci-Fi</td>\n",
       "      <td>None</td>\n",
       "      <td>None</td>\n",
       "    </tr>\n",
       "    <tr>\n",
       "      <th>1</th>\n",
       "      <td>Lovecraft Country</td>\n",
       "      <td>Sci-Fi</td>\n",
       "      <td>None</td>\n",
       "      <td>None</td>\n",
       "    </tr>\n",
       "    <tr>\n",
       "      <th>2</th>\n",
       "      <td>Guaridans of the Galaxy</td>\n",
       "      <td>None</td>\n",
       "      <td>None</td>\n",
       "      <td>None</td>\n",
       "    </tr>\n",
       "    <tr>\n",
       "      <th>3</th>\n",
       "      <td>Interstellar</td>\n",
       "      <td>Sci-Fi</td>\n",
       "      <td>None</td>\n",
       "      <td>None</td>\n",
       "    </tr>\n",
       "    <tr>\n",
       "      <th>4</th>\n",
       "      <td>Matrix Revolutions</td>\n",
       "      <td>Sci-Fi</td>\n",
       "      <td>None</td>\n",
       "      <td>None</td>\n",
       "    </tr>\n",
       "    <tr>\n",
       "      <th>5</th>\n",
       "      <td>Guaridans of the Galaxy</td>\n",
       "      <td>None</td>\n",
       "      <td>None</td>\n",
       "      <td>None</td>\n",
       "    </tr>\n",
       "    <tr>\n",
       "      <th>6</th>\n",
       "      <td>Interstellar</td>\n",
       "      <td>Sci-Fi</td>\n",
       "      <td>None</td>\n",
       "      <td>None</td>\n",
       "    </tr>\n",
       "    <tr>\n",
       "      <th>7</th>\n",
       "      <td>Interstellar</td>\n",
       "      <td>Sci-Fi</td>\n",
       "      <td>None</td>\n",
       "      <td>None</td>\n",
       "    </tr>\n",
       "    <tr>\n",
       "      <th>8</th>\n",
       "      <td>Matrix Revolutions</td>\n",
       "      <td>Sci-Fi</td>\n",
       "      <td>None</td>\n",
       "      <td>None</td>\n",
       "    </tr>\n",
       "    <tr>\n",
       "      <th>9</th>\n",
       "      <td>Lovecraft Country</td>\n",
       "      <td>Sci-Fi</td>\n",
       "      <td>None</td>\n",
       "      <td>None</td>\n",
       "    </tr>\n",
       "    <tr>\n",
       "      <th>10</th>\n",
       "      <td>Guaridans of the Galaxy</td>\n",
       "      <td>None</td>\n",
       "      <td>None</td>\n",
       "      <td>None</td>\n",
       "    </tr>\n",
       "    <tr>\n",
       "      <th>11</th>\n",
       "      <td>Lovecraft Country</td>\n",
       "      <td>Sci-Fi</td>\n",
       "      <td>None</td>\n",
       "      <td>None</td>\n",
       "    </tr>\n",
       "    <tr>\n",
       "      <th>12</th>\n",
       "      <td>Guaridans of the Galaxy</td>\n",
       "      <td>None</td>\n",
       "      <td>None</td>\n",
       "      <td>None</td>\n",
       "    </tr>\n",
       "    <tr>\n",
       "      <th>13</th>\n",
       "      <td>Interstellar</td>\n",
       "      <td>Sci-Fi</td>\n",
       "      <td>None</td>\n",
       "      <td>None</td>\n",
       "    </tr>\n",
       "    <tr>\n",
       "      <th>14</th>\n",
       "      <td>Matrix Revolutions</td>\n",
       "      <td>Sci-Fi</td>\n",
       "      <td>None</td>\n",
       "      <td>None</td>\n",
       "    </tr>\n",
       "    <tr>\n",
       "      <th>15</th>\n",
       "      <td>Lovecraft Country</td>\n",
       "      <td>Sci-Fi</td>\n",
       "      <td>None</td>\n",
       "      <td>None</td>\n",
       "    </tr>\n",
       "    <tr>\n",
       "      <th>16</th>\n",
       "      <td>Guaridans of the Galaxy</td>\n",
       "      <td>None</td>\n",
       "      <td>None</td>\n",
       "      <td>None</td>\n",
       "    </tr>\n",
       "    <tr>\n",
       "      <th>17</th>\n",
       "      <td>Interstellar</td>\n",
       "      <td>Sci-Fi</td>\n",
       "      <td>None</td>\n",
       "      <td>None</td>\n",
       "    </tr>\n",
       "    <tr>\n",
       "      <th>18</th>\n",
       "      <td>Interstellar</td>\n",
       "      <td>Sci-Fi</td>\n",
       "      <td>None</td>\n",
       "      <td>None</td>\n",
       "    </tr>\n",
       "    <tr>\n",
       "      <th>19</th>\n",
       "      <td>Matrix Revolutions</td>\n",
       "      <td>Sci-Fi</td>\n",
       "      <td>None</td>\n",
       "      <td>None</td>\n",
       "    </tr>\n",
       "  </tbody>\n",
       "</table>\n",
       "</div>"
      ],
      "text/plain": [
       "                       name   genre description  year\n",
       "0              Interstellar  Sci-Fi        None  None\n",
       "1         Lovecraft Country  Sci-Fi        None  None\n",
       "2   Guaridans of the Galaxy    None        None  None\n",
       "3              Interstellar  Sci-Fi        None  None\n",
       "4        Matrix Revolutions  Sci-Fi        None  None\n",
       "5   Guaridans of the Galaxy    None        None  None\n",
       "6              Interstellar  Sci-Fi        None  None\n",
       "7              Interstellar  Sci-Fi        None  None\n",
       "8        Matrix Revolutions  Sci-Fi        None  None\n",
       "9         Lovecraft Country  Sci-Fi        None  None\n",
       "10  Guaridans of the Galaxy    None        None  None\n",
       "11        Lovecraft Country  Sci-Fi        None  None\n",
       "12  Guaridans of the Galaxy    None        None  None\n",
       "13             Interstellar  Sci-Fi        None  None\n",
       "14       Matrix Revolutions  Sci-Fi        None  None\n",
       "15        Lovecraft Country  Sci-Fi        None  None\n",
       "16  Guaridans of the Galaxy    None        None  None\n",
       "17             Interstellar  Sci-Fi        None  None\n",
       "18             Interstellar  Sci-Fi        None  None\n",
       "19       Matrix Revolutions  Sci-Fi        None  None"
      ]
     },
     "execution_count": 64,
     "metadata": {},
     "output_type": "execute_result"
    }
   ],
   "source": [
    "# RE-ORGANIZAR EL INDEX DE LA CONCATENACIÓN DE LAS DOS BD A 20\n",
    "final_df = final_df[['name', 'genre', 'description', 'year']]\n",
    "final_df.reset_index(inplace=True, drop=True) # EYE\n",
    "final_df.head(n=20)"
   ]
  },
  {
   "cell_type": "code",
   "execution_count": 65,
   "id": "807ef729",
   "metadata": {},
   "outputs": [],
   "source": [
    "# AGREGAR UNA NUEVA TABLA A LA BD app2.db CON current_engine SI EXISTE SE REMPLASA\n",
    "final_df.to_sql(\n",
    "    \"movies_2\",\n",
    "    current_engine,\n",
    "    if_exists='replace',\n",
    "    dtype = {\n",
    "        \"name\": String,\n",
    "        \"genre\": String,\n",
    "        \"year\": Integer,\n",
    "        \"description\": String,\n",
    "    }\n",
    ")"
   ]
  },
  {
   "cell_type": "code",
   "execution_count": 66,
   "id": "595fed66",
   "metadata": {},
   "outputs": [
    {
     "name": "stdout",
     "output_type": "stream",
     "text": [
      "# coding: utf-8\r\n",
      "from sqlalchemy import BigInteger, Column, Integer, String, Table\r\n",
      "from sqlalchemy.ext.declarative import declarative_base\r\n",
      "\r\n",
      "Base = declarative_base()\r\n",
      "metadata = Base.metadata\r\n",
      "\r\n",
      "\r\n",
      "class Movie(Base):\r\n",
      "    __tablename__ = 'movies'\r\n",
      "\r\n",
      "    id = Column(Integer, primary_key=True)\r\n",
      "    name = Column(String)\r\n",
      "    genre = Column(String)\r\n",
      "    description = Column(String)\r\n",
      "    year = Column(Integer)\r\n",
      "\r\n",
      "\r\n",
      "t_movies_2 = Table(\r\n",
      "    'movies_2', metadata,\r\n",
      "    Column('index', BigInteger, index=True),\r\n",
      "    Column('name', String),\r\n",
      "    Column('genre', String),\r\n",
      "    Column('description', String),\r\n",
      "    Column('year', Integer)\r\n",
      ")\r\n"
     ]
    }
   ],
   "source": [
    "!sqlacodegen sqlite:///app2.db"
   ]
  },
  {
   "cell_type": "code",
   "execution_count": 69,
   "id": "b801025b",
   "metadata": {},
   "outputs": [
    {
     "data": {
      "text/html": [
       "<div>\n",
       "<style scoped>\n",
       "    .dataframe tbody tr th:only-of-type {\n",
       "        vertical-align: middle;\n",
       "    }\n",
       "\n",
       "    .dataframe tbody tr th {\n",
       "        vertical-align: top;\n",
       "    }\n",
       "\n",
       "    .dataframe thead th {\n",
       "        text-align: right;\n",
       "    }\n",
       "</style>\n",
       "<table border=\"1\" class=\"dataframe\">\n",
       "  <thead>\n",
       "    <tr style=\"text-align: right;\">\n",
       "      <th></th>\n",
       "      <th>id</th>\n",
       "      <th>name</th>\n",
       "      <th>genre</th>\n",
       "      <th>description</th>\n",
       "      <th>year</th>\n",
       "    </tr>\n",
       "  </thead>\n",
       "  <tbody>\n",
       "    <tr>\n",
       "      <th>0</th>\n",
       "      <td>3</td>\n",
       "      <td>Lovecraft Country</td>\n",
       "      <td>Sci-Fi</td>\n",
       "      <td>None</td>\n",
       "      <td>None</td>\n",
       "    </tr>\n",
       "    <tr>\n",
       "      <th>1</th>\n",
       "      <td>4</td>\n",
       "      <td>Guaridans of the Galaxy</td>\n",
       "      <td>None</td>\n",
       "      <td>None</td>\n",
       "      <td>None</td>\n",
       "    </tr>\n",
       "    <tr>\n",
       "      <th>2</th>\n",
       "      <td>5</td>\n",
       "      <td>Interstellar</td>\n",
       "      <td>Sci-Fi</td>\n",
       "      <td>None</td>\n",
       "      <td>None</td>\n",
       "    </tr>\n",
       "    <tr>\n",
       "      <th>3</th>\n",
       "      <td>6</td>\n",
       "      <td>Matrix Revolutions</td>\n",
       "      <td>Sci-Fi</td>\n",
       "      <td>None</td>\n",
       "      <td>None</td>\n",
       "    </tr>\n",
       "    <tr>\n",
       "      <th>4</th>\n",
       "      <td>8</td>\n",
       "      <td>Guaridans of the Galaxy</td>\n",
       "      <td>None</td>\n",
       "      <td>None</td>\n",
       "      <td>None</td>\n",
       "    </tr>\n",
       "  </tbody>\n",
       "</table>\n",
       "</div>"
      ],
      "text/plain": [
       "   id                     name   genre description  year\n",
       "0   3        Lovecraft Country  Sci-Fi        None  None\n",
       "1   4  Guaridans of the Galaxy    None        None  None\n",
       "2   5             Interstellar  Sci-Fi        None  None\n",
       "3   6       Matrix Revolutions  Sci-Fi        None  None\n",
       "4   8  Guaridans of the Galaxy    None        None  None"
      ]
     },
     "execution_count": 69,
     "metadata": {},
     "output_type": "execute_result"
    }
   ],
   "source": [
    "# CON sqlite3 HACER LA CONECCION Y LEER PANDAS Y SQL LA BD\n",
    "import sqlite3\n",
    "\n",
    "conx = sqlite3.connect(\"app_test.db\")  # SE PUEDE DE ESTA FORMA\n",
    "conx2 = create_engine(\"sqlite:///app_test.db\")  # TAMBIEN SE PUEDE CON create_engine\n",
    "df = pd.read_sql_query(\"SELECT * FROM movies\", conx)\n",
    "df.head()"
   ]
  },
  {
   "cell_type": "code",
   "execution_count": null,
   "id": "47f89be7",
   "metadata": {},
   "outputs": [],
   "source": []
  }
 ],
 "metadata": {
  "kernelspec": {
   "display_name": "Python 3",
   "language": "python",
   "name": "python3"
  },
  "language_info": {
   "codemirror_mode": {
    "name": "ipython",
    "version": 3
   },
   "file_extension": ".py",
   "mimetype": "text/x-python",
   "name": "python",
   "nbconvert_exporter": "python",
   "pygments_lexer": "ipython3",
   "version": "3.8.10"
  }
 },
 "nbformat": 4,
 "nbformat_minor": 5
}
