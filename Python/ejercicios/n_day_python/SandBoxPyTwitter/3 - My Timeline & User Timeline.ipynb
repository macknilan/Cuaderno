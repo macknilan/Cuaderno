{
 "cells": [
  {
   "cell_type": "code",
   "execution_count": 1,
   "id": "6e5ea8d8",
   "metadata": {},
   "outputs": [],
   "source": [
    "# https://docs.python.org/3/library/webbrowser.html\n",
    "import tweepy\n",
    "import webbrowser\n",
    "import time\n",
    "import pandas as pd"
   ]
  },
  {
   "cell_type": "code",
   "execution_count": 2,
   "id": "29d74b7b",
   "metadata": {},
   "outputs": [
    {
     "name": "stdout",
     "output_type": "stream",
     "text": [
      "https://api.twitter.com/oauth/authorize?oauth_token=Tdv50gAAAAABQ34eAAABejEwP7k\n",
      "What's the pin value? \n",
      "1304623\n",
      "1304623\n",
      "198626561-tF3cmZis8d3owSXS4txj4nBAoZSIfgzl2v5iAk0L vIBcUCdyaPAMtmFgFNyUeLbfKKixIdV4qRuJWI98giOyS\n"
     ]
    }
   ],
   "source": [
    "# https://docs.tweepy.org/en/stable/index.html\n",
    "consumer_key = \"KrzYqv0rsS7bLuRmUXuSOl4sb\"\n",
    "consumer_secret = \"stWZ62EUbtxwVFAvBkX7719hj6WfWZJNVKHbLIqOXkpLWuD3Gz\"\n",
    "callback_uri = 'oob'\n",
    "try:\n",
    "    auth = tweepy.OAuthHandler(consumer_key, consumer_secret, callback_uri)\n",
    "    redirect_url = auth.get_authorization_url()\n",
    "    print(redirect_url)\n",
    "except tweepy.TweepError:\n",
    "    print('Error! Failed to get request token.')\n",
    "# A NEW PAGE OPENS REQUESTING AUTHORIZATION FROM TWITTER TO GENERATE A CODE\n",
    "webbrowser.open(redirect_url)\n",
    "user_pin_input = input(\"What's the pin value? \\n\")\n",
    "print(user_pin_input)\n",
    "try:\n",
    "    auth.get_access_token(user_pin_input)\n",
    "except tweepy.TweepError:\n",
    "    print('Error! Failed to get access token.')\n",
    "\n",
    "print(auth.access_token, auth.access_token_secret)"
   ]
  },
  {
   "cell_type": "code",
   "execution_count": 3,
   "id": "9e42be97",
   "metadata": {},
   "outputs": [],
   "source": [
    "api = tweepy.API(auth)"
   ]
  },
  {
   "cell_type": "code",
   "execution_count": 4,
   "id": "3617bc60",
   "metadata": {},
   "outputs": [],
   "source": [
    "me = api.me()"
   ]
  },
  {
   "cell_type": "code",
   "execution_count": 5,
   "id": "fd7267c0",
   "metadata": {},
   "outputs": [
    {
     "name": "stdout",
     "output_type": "stream",
     "text": [
      "nomackayu\n"
     ]
    }
   ],
   "source": [
    "print(me.screen_name)"
   ]
  },
  {
   "cell_type": "code",
   "execution_count": 19,
   "id": "66e4947b",
   "metadata": {},
   "outputs": [],
   "source": [
    "my_time_line = api.home_timeline()\n",
    "# print(my_time_line)"
   ]
  },
  {
   "cell_type": "code",
   "execution_count": 85,
   "id": "a1a1eed2",
   "metadata": {},
   "outputs": [
    {
     "name": "stdout",
     "output_type": "stream",
     "text": [
      "dict_keys(['_api', '_json', 'created_at', 'id', 'id_str', 'text', 'truncated', 'entities', 'source', 'source_url', 'in_reply_to_status_id', 'in_reply_to_status_id_str', 'in_reply_to_user_id', 'in_reply_to_user_id_str', 'in_reply_to_screen_name', 'author', 'user', 'geo', 'coordinates', 'place', 'contributors', 'is_quote_status', 'retweet_count', 'favorite_count', 'favorited', 'retweeted', 'possibly_sensitive', 'possibly_sensitive_appealable', 'lang'])\n",
      "dict_keys(['_api', '_json', 'created_at', 'id', 'id_str', 'text', 'truncated', 'entities', 'extended_entities', 'source', 'source_url', 'in_reply_to_status_id', 'in_reply_to_status_id_str', 'in_reply_to_user_id', 'in_reply_to_user_id_str', 'in_reply_to_screen_name', 'author', 'user', 'geo', 'coordinates', 'place', 'contributors', 'is_quote_status', 'retweet_count', 'favorite_count', 'favorited', 'retweeted', 'possibly_sensitive', 'possibly_sensitive_appealable', 'lang'])\n",
      "dict_keys(['_api', '_json', 'created_at', 'id', 'id_str', 'text', 'truncated', 'entities', 'source', 'source_url', 'in_reply_to_status_id', 'in_reply_to_status_id_str', 'in_reply_to_user_id', 'in_reply_to_user_id_str', 'in_reply_to_screen_name', 'author', 'user', 'geo', 'coordinates', 'place', 'contributors', 'is_quote_status', 'retweet_count', 'favorite_count', 'favorited', 'retweeted', 'possibly_sensitive', 'possibly_sensitive_appealable', 'lang'])\n",
      "dict_keys(['_api', '_json', 'created_at', 'id', 'id_str', 'text', 'truncated', 'entities', 'source', 'source_url', 'in_reply_to_status_id', 'in_reply_to_status_id_str', 'in_reply_to_user_id', 'in_reply_to_user_id_str', 'in_reply_to_screen_name', 'author', 'user', 'geo', 'coordinates', 'place', 'contributors', 'is_quote_status', 'retweet_count', 'favorite_count', 'favorited', 'retweeted', 'possibly_sensitive', 'possibly_sensitive_appealable', 'lang'])\n",
      "dict_keys(['_api', '_json', 'created_at', 'id', 'id_str', 'text', 'truncated', 'entities', 'source', 'source_url', 'in_reply_to_status_id', 'in_reply_to_status_id_str', 'in_reply_to_user_id', 'in_reply_to_user_id_str', 'in_reply_to_screen_name', 'author', 'user', 'geo', 'coordinates', 'place', 'contributors', 'is_quote_status', 'quoted_status_id', 'quoted_status_id_str', 'quoted_status', 'retweet_count', 'favorite_count', 'favorited', 'retweeted', 'possibly_sensitive', 'possibly_sensitive_appealable', 'lang'])\n",
      "dict_keys(['_api', '_json', 'created_at', 'id', 'id_str', 'text', 'truncated', 'entities', 'source', 'source_url', 'in_reply_to_status_id', 'in_reply_to_status_id_str', 'in_reply_to_user_id', 'in_reply_to_user_id_str', 'in_reply_to_screen_name', 'author', 'user', 'geo', 'coordinates', 'place', 'contributors', 'is_quote_status', 'retweet_count', 'favorite_count', 'favorited', 'retweeted', 'possibly_sensitive', 'possibly_sensitive_appealable', 'lang'])\n",
      "dict_keys(['_api', '_json', 'created_at', 'id', 'id_str', 'text', 'truncated', 'entities', 'extended_entities', 'source', 'source_url', 'in_reply_to_status_id', 'in_reply_to_status_id_str', 'in_reply_to_user_id', 'in_reply_to_user_id_str', 'in_reply_to_screen_name', 'author', 'user', 'geo', 'coordinates', 'place', 'contributors', 'is_quote_status', 'retweet_count', 'favorite_count', 'favorited', 'retweeted', 'possibly_sensitive', 'possibly_sensitive_appealable', 'lang'])\n",
      "dict_keys(['_api', '_json', 'created_at', 'id', 'id_str', 'text', 'truncated', 'entities', 'source', 'source_url', 'in_reply_to_status_id', 'in_reply_to_status_id_str', 'in_reply_to_user_id', 'in_reply_to_user_id_str', 'in_reply_to_screen_name', 'author', 'user', 'geo', 'coordinates', 'place', 'contributors', 'is_quote_status', 'retweet_count', 'favorite_count', 'favorited', 'retweeted', 'possibly_sensitive', 'possibly_sensitive_appealable', 'lang'])\n",
      "dict_keys(['_api', '_json', 'created_at', 'id', 'id_str', 'text', 'truncated', 'entities', 'source', 'source_url', 'in_reply_to_status_id', 'in_reply_to_status_id_str', 'in_reply_to_user_id', 'in_reply_to_user_id_str', 'in_reply_to_screen_name', 'author', 'user', 'geo', 'coordinates', 'place', 'contributors', 'is_quote_status', 'retweet_count', 'favorite_count', 'favorited', 'retweeted', 'possibly_sensitive', 'possibly_sensitive_appealable', 'lang'])\n",
      "dict_keys(['_api', '_json', 'created_at', 'id', 'id_str', 'text', 'truncated', 'entities', 'source', 'source_url', 'in_reply_to_status_id', 'in_reply_to_status_id_str', 'in_reply_to_user_id', 'in_reply_to_user_id_str', 'in_reply_to_screen_name', 'author', 'user', 'geo', 'coordinates', 'place', 'contributors', 'is_quote_status', 'retweet_count', 'favorite_count', 'favorited', 'retweeted', 'possibly_sensitive', 'possibly_sensitive_appealable', 'lang'])\n",
      "dict_keys(['_api', '_json', 'created_at', 'id', 'id_str', 'text', 'truncated', 'entities', 'source', 'source_url', 'in_reply_to_status_id', 'in_reply_to_status_id_str', 'in_reply_to_user_id', 'in_reply_to_user_id_str', 'in_reply_to_screen_name', 'author', 'user', 'geo', 'coordinates', 'place', 'contributors', 'is_quote_status', 'retweet_count', 'favorite_count', 'favorited', 'retweeted', 'possibly_sensitive', 'possibly_sensitive_appealable', 'lang'])\n",
      "dict_keys(['_api', '_json', 'created_at', 'id', 'id_str', 'text', 'truncated', 'entities', 'source', 'source_url', 'in_reply_to_status_id', 'in_reply_to_status_id_str', 'in_reply_to_user_id', 'in_reply_to_user_id_str', 'in_reply_to_screen_name', 'author', 'user', 'geo', 'coordinates', 'place', 'contributors', 'is_quote_status', 'retweet_count', 'favorite_count', 'favorited', 'retweeted', 'lang'])\n",
      "dict_keys(['_api', '_json', 'created_at', 'id', 'id_str', 'text', 'truncated', 'entities', 'source', 'source_url', 'in_reply_to_status_id', 'in_reply_to_status_id_str', 'in_reply_to_user_id', 'in_reply_to_user_id_str', 'in_reply_to_screen_name', 'author', 'user', 'geo', 'coordinates', 'place', 'contributors', 'is_quote_status', 'retweet_count', 'favorite_count', 'favorited', 'retweeted', 'possibly_sensitive', 'possibly_sensitive_appealable', 'lang'])\n",
      "dict_keys(['_api', '_json', 'created_at', 'id', 'id_str', 'text', 'truncated', 'entities', 'source', 'source_url', 'in_reply_to_status_id', 'in_reply_to_status_id_str', 'in_reply_to_user_id', 'in_reply_to_user_id_str', 'in_reply_to_screen_name', 'author', 'user', 'geo', 'coordinates', 'place', 'contributors', 'is_quote_status', 'retweet_count', 'favorite_count', 'favorited', 'retweeted', 'lang'])\n",
      "dict_keys(['_api', '_json', 'created_at', 'id', 'id_str', 'text', 'truncated', 'entities', 'source', 'source_url', 'in_reply_to_status_id', 'in_reply_to_status_id_str', 'in_reply_to_user_id', 'in_reply_to_user_id_str', 'in_reply_to_screen_name', 'author', 'user', 'geo', 'coordinates', 'place', 'contributors', 'is_quote_status', 'retweet_count', 'favorite_count', 'favorited', 'retweeted', 'lang'])\n",
      "dict_keys(['_api', '_json', 'created_at', 'id', 'id_str', 'text', 'truncated', 'entities', 'source', 'source_url', 'in_reply_to_status_id', 'in_reply_to_status_id_str', 'in_reply_to_user_id', 'in_reply_to_user_id_str', 'in_reply_to_screen_name', 'author', 'user', 'geo', 'coordinates', 'place', 'contributors', 'retweeted_status', 'is_quote_status', 'retweet_count', 'favorite_count', 'favorited', 'retweeted', 'lang'])\n",
      "dict_keys(['_api', '_json', 'created_at', 'id', 'id_str', 'text', 'truncated', 'entities', 'extended_entities', 'source', 'source_url', 'in_reply_to_status_id', 'in_reply_to_status_id_str', 'in_reply_to_user_id', 'in_reply_to_user_id_str', 'in_reply_to_screen_name', 'author', 'user', 'geo', 'coordinates', 'place', 'contributors', 'is_quote_status', 'retweet_count', 'favorite_count', 'favorited', 'retweeted', 'possibly_sensitive', 'possibly_sensitive_appealable', 'lang'])\n",
      "dict_keys(['_api', '_json', 'created_at', 'id', 'id_str', 'text', 'truncated', 'entities', 'source', 'source_url', 'in_reply_to_status_id', 'in_reply_to_status_id_str', 'in_reply_to_user_id', 'in_reply_to_user_id_str', 'in_reply_to_screen_name', 'author', 'user', 'geo', 'coordinates', 'place', 'contributors', 'is_quote_status', 'retweet_count', 'favorite_count', 'favorited', 'retweeted', 'lang'])\n",
      "dict_keys(['_api', '_json', 'created_at', 'id', 'id_str', 'text', 'truncated', 'entities', 'source', 'source_url', 'in_reply_to_status_id', 'in_reply_to_status_id_str', 'in_reply_to_user_id', 'in_reply_to_user_id_str', 'in_reply_to_screen_name', 'author', 'user', 'geo', 'coordinates', 'place', 'contributors', 'is_quote_status', 'retweet_count', 'favorite_count', 'favorited', 'retweeted', 'lang'])\n",
      "dict_keys(['_api', '_json', 'created_at', 'id', 'id_str', 'text', 'truncated', 'entities', 'source', 'source_url', 'in_reply_to_status_id', 'in_reply_to_status_id_str', 'in_reply_to_user_id', 'in_reply_to_user_id_str', 'in_reply_to_screen_name', 'author', 'user', 'geo', 'coordinates', 'place', 'contributors', 'is_quote_status', 'retweet_count', 'favorite_count', 'favorited', 'retweeted', 'lang'])\n"
     ]
    }
   ],
   "source": [
    "columns = set()\n",
    "allowed_types = [str, int]\n",
    "tweets_data = []\n",
    "for status in my_time_line:\n",
    "    # print(status.author.screen_name)\n",
    "    status_dict = dict(vars(status)) # The vars() function returns the __dic__ attribute of an object.\n",
    "    # print(status_dict)\n",
    "    # print(status.text)\n",
    "    keys = status_dict.keys()\n",
    "    # print(keys)\n",
    "    single_tweet_data = {\"user\": status.user.screen_name, \"author\": status.author.screen_name}\n",
    "    for k in keys:\n",
    "        try:\n",
    "            # print(k)\n",
    "            # print(status_dict[k])\n",
    "            v_type = type(status_dict[k])\n",
    "        except:\n",
    "            v_type = None\n",
    "        # print(v_type)\n",
    "        if v_type != None:\n",
    "            if v_type in allowed_types:\n",
    "                # print(v_type)\n",
    "                # print(status_dict[k])\n",
    "                single_tweet_data[k] = status_dict[k]\n",
    "                # print(single_tweet_data[k])\n",
    "                # print(k)\n",
    "                columns.add(k)\n",
    "    tweets_data.append(single_tweet_data)\n",
    "\n",
    "        \n",
    "header_cols = list(columns)\n",
    "header_cols.append(\"user\")\n",
    "header_cols.append('author')\n",
    "# print(header_cols)\n",
    "# print(tweets_data)"
   ]
  },
  {
   "cell_type": "code",
   "execution_count": 77,
   "id": "adc74994",
   "metadata": {},
   "outputs": [
    {
     "name": "stdout",
     "output_type": "stream",
     "text": [
      "['source_url', 'in_reply_to_user_id_str', 'favorite_count', 'in_reply_to_status_id_str', 'quoted_status_id_str', 'text', 'in_reply_to_screen_name', 'source', 'id', 'retweet_count', 'in_reply_to_user_id', 'quoted_status_id', 'lang', 'in_reply_to_status_id', 'id_str', 'user', 'author']\n"
     ]
    }
   ],
   "source": [
    "print(header_cols)"
   ]
  },
  {
   "cell_type": "code",
   "execution_count": 78,
   "id": "35a3f7fc",
   "metadata": {},
   "outputs": [
    {
     "name": "stdout",
     "output_type": "stream",
     "text": [
      "[{'user': 'imagenqro', 'author': 'imagenqro', 'id': 1407143533199437825, 'id_str': '1407143533199437825', 'text': 'Empezamos hablando sobre la ampliación y modernización del camino El Sitio a Cerro Gordo en San Juan del Río ya est… https://t.co/RDMOYuSnB4', 'source': 'Twitter for iPad', 'source_url': 'http://twitter.com/#!/download/ipad', 'retweet_count': 0, 'favorite_count': 0, 'lang': 'es'}, {'user': 'Forbes', 'author': 'Forbes', 'id': 1407143471295696899, 'id_str': '1407143471295696899', 'text': 'Here’s a closer look at Florida workers comp insurance: https://t.co/GJm8urseMr Via @ForbesAdvisor https://t.co/n4Exg9Czub', 'source': 'Sprinklr', 'source_url': 'https://www.sprinklr.com', 'retweet_count': 0, 'favorite_count': 1, 'lang': 'en'}, {'user': 'TUDNMEX', 'author': 'TUDNMEX', 'id': 1407143458964492288, 'id_str': '1407143458964492288', 'text': \"@Univision 46' SE ACERCÓ PARAGUAY 🔥 Combinación entre Arzamendia y Espíndola para meterse al área y generar peligro… https://t.co/PGtDBPFzfk\", 'source': 'TweetDeck', 'source_url': 'https://about.twitter.com/products/tweetdeck', 'in_reply_to_status_id': 1407127791137591297, 'in_reply_to_status_id_str': '1407127791137591297', 'in_reply_to_user_id': 71303860, 'in_reply_to_user_id_str': '71303860', 'in_reply_to_screen_name': 'TUDNMEX', 'retweet_count': 0, 'favorite_count': 2, 'lang': 'es'}, {'user': 'lasillarota', 'author': 'lasillarota', 'id': 1407143458620510208, 'id_str': '1407143458620510208', 'text': '#Metrópoli | Un grupo de manifestantes se reunieron en la Plaza de los Mártires para exigir que la Legislatura mexi… https://t.co/eNiZDsztsB', 'source': 'TweetDeck', 'source_url': 'https://about.twitter.com/products/tweetdeck', 'retweet_count': 0, 'favorite_count': 0, 'lang': 'es'}, {'user': 'KayRemix', 'author': 'KayRemix', 'id': 1407143456938639360, 'id_str': '1407143456938639360', 'text': 'Tsssssss, agárrense!!!!🔥🔥🔥 https://t.co/HF7bvQAwLn', 'source': 'Twitter for iPhone', 'source_url': 'http://twitter.com/download/iphone', 'quoted_status_id': 1407142685362774030, 'quoted_status_id_str': '1407142685362774030', 'retweet_count': 0, 'favorite_count': 0, 'lang': 'es'}, {'user': 'NTelevisa_com', 'author': 'NTelevisa_com', 'id': 1407143407135363072, 'id_str': '1407143407135363072', 'text': 'Una cámara captó a uno de los paramédicos subiendo el banco a la ambulancia. https://t.co/vmShWmOd7n', 'source': 'Hootsuite Inc.', 'source_url': 'https://www.hootsuite.com', 'retweet_count': 0, 'favorite_count': 0, 'lang': 'es'}, {'user': 'GabbyQuinteros', 'author': 'GabbyQuinteros', 'id': 1407143355050389505, 'id_str': '1407143355050389505', 'text': 'If I sucked your dick, I don’t mind doing it again. https://t.co/oZtmgXM67f', 'source': 'Twitter for iPad', 'source_url': 'http://twitter.com/#!/download/ipad', 'retweet_count': 0, 'favorite_count': 2, 'lang': 'en'}, {'user': 'cnnbrk', 'author': 'cnnbrk', 'id': 1407143331382140929, 'id_str': '1407143331382140929', 'text': 'At least 140 positive Covid-19 cases have been detected among players, members of delegations and service providers… https://t.co/6ZQxzT6AsJ', 'source': 'SocialFlow', 'source_url': 'http://www.socialflow.com', 'retweet_count': 17, 'favorite_count': 24, 'lang': 'en'}, {'user': 'Forbes', 'author': 'Forbes', 'id': 1407143309949161473, 'id_str': '1407143309949161473', 'text': \"Here's how traffic congestion in Chicago is backing things up in Los Angeles, and why we should pay attention to pi… https://t.co/u4TKJ1MTBx\", 'source': 'SocialFlow', 'source_url': 'http://www.socialflow.com', 'retweet_count': 1, 'favorite_count': 1, 'lang': 'en'}, {'user': 'Milenio', 'author': 'Milenio', 'id': 1407143297479413767, 'id_str': '1407143297479413767', 'text': '▶ Familia de Polly pide ayuda a médicos especialistas; aseguran que \"está grave, tiene un 20 por ciento de probabil… https://t.co/eYK5ssqcCY', 'source': 'TweetDeck', 'source_url': 'https://about.twitter.com/products/tweetdeck', 'retweet_count': 0, 'favorite_count': 0, 'lang': 'es'}, {'user': 'CodigoQro', 'author': 'CodigoQro', 'id': 1407143222669873153, 'id_str': '1407143222669873153', 'text': '⚖️ #JUSTICIA La Comisión de Acceso a la Información y Rendición de Cuentas del Congreso Local avaló hacer públicas… https://t.co/79LhnlWRQu', 'source': 'Fanbooster by Traject', 'source_url': 'https://fanbooster.com', 'retweet_count': 0, 'favorite_count': 0, 'lang': 'es'}, {'user': 'SismologicoMX', 'author': 'SismologicoMX', 'id': 1407143175739817998, 'id_str': '1407143175739817998', 'text': 'SISMO Magnitud 3.8 Loc. 134 km al SUROESTE de TONALA, CHIS 21/06/21 16:12:03 Lat 14.97 Lon -94.25 Pf 10 km', 'source': 'tweetSismologicoMx', 'source_url': 'http://www.sismologico.unam..mx', 'retweet_count': 1, 'favorite_count': 4, 'lang': 'es'}, {'user': 'WFM_Wradio', 'author': 'WFM_Wradio', 'id': 1407143168995438594, 'id_str': '1407143168995438594', 'text': 'Comenzamos #WFMWRADIO con @AlejandroFranco .\\n\\nHoy con programa dedicado a John Lee Hooker, que cumple 20 años de tr… https://t.co/0jeCy1djCq', 'source': 'Twitter Web App', 'source_url': 'https://mobile.twitter.com', 'retweet_count': 0, 'favorite_count': 0, 'lang': 'es'}, {'user': 'SismologicoMX', 'author': 'SismologicoMX', 'id': 1407143165979725832, 'id_str': '1407143165979725832', 'text': 'SISMO Magnitud 3.6 Loc. 35 km al SUR de OMETEPEC, GRO 21/06/21 16:11:58 Lat 16.37 Lon -98.45 Pf 5 km', 'source': 'tweetSismologicoMx', 'source_url': 'http://www.sismologico.unam..mx', 'retweet_count': 1, 'favorite_count': 2, 'lang': 'es'}, {'user': 'SismologicoMX', 'author': 'SismologicoMX', 'id': 1407143156248887296, 'id_str': '1407143156248887296', 'text': 'SISMO Magnitud 3.3 Loc. 25 km al ESTE de PINOTEPA NACIONAL, OAX 21/06/21 16:06:46 Lat 16.28 Lon -97.82 Pf 5 km', 'source': 'tweetSismologicoMx', 'source_url': 'http://www.sismologico.unam..mx', 'retweet_count': 1, 'favorite_count': 1, 'lang': 'es'}, {'user': 'LPueblo2', 'author': 'LPueblo2', 'id': 1407143147071758341, 'id_str': '1407143147071758341', 'text': 'RT @Aveefeniix: Registran 13 policías #asesinados en #Veracruz este año. Agrupación Causa en Común reporta que en el país han sido abatidos…', 'source': 'Twitter for Android', 'source_url': 'http://twitter.com/download/android', 'retweet_count': 3, 'favorite_count': 0, 'lang': 'es'}, {'user': 'SismologicoMX', 'author': 'SismologicoMX', 'id': 1407143144605552641, 'id_str': '1407143144605552641', 'text': 'SISMO Magnitud 4.0 Loc  150 km al SUROESTE de TONALA, CHIS 21/06/21 15:00:57 Lat 14.89 Lon -94.42 Pf 16 km https://t.co/aIppwome5l', 'source': 'tweetSismologicoMx', 'source_url': 'http://www.sismologico.unam..mx', 'retweet_count': 1, 'favorite_count': 3, 'lang': 'es'}, {'user': 'SismologicoMX', 'author': 'SismologicoMX', 'id': 1407143130802106370, 'id_str': '1407143130802106370', 'text': 'SISMO Magnitud 4.0 Loc. 150 km al SUROESTE de TONALA, CHIS 21/06/21 15:00:57 Lat 14.89 Lon -94.42 Pf 16 km', 'source': 'tweetSismologicoMx', 'source_url': 'http://www.sismologico.unam..mx', 'retweet_count': 0, 'favorite_count': 1, 'lang': 'es'}, {'user': 'SismologicoMX', 'author': 'SismologicoMX', 'id': 1407143120861548546, 'id_str': '1407143120861548546', 'text': 'SISMO Magnitud 3.5 Loc. 37 km al NOROESTE de CINTALAPA, CHIS 21/06/21 16:03:12 Lat 16.96 Lon -93.93 Pf 152 km', 'source': 'tweetSismologicoMx', 'source_url': 'http://www.sismologico.unam..mx', 'retweet_count': 0, 'favorite_count': 1, 'lang': 'ro'}, {'user': 'SismologicoMX', 'author': 'SismologicoMX', 'id': 1407143111114084360, 'id_str': '1407143111114084360', 'text': 'SISMO Magnitud 3.5 Loc. 125 km al SURESTE de SALINA CRUZ, OAX 21/06/21 10:23:54 Lat 15.13 Lon -94.76 Pf 16 km', 'source': 'tweetSismologicoMx', 'source_url': 'http://www.sismologico.unam..mx', 'retweet_count': 0, 'favorite_count': 1, 'lang': 'es'}]\n"
     ]
    }
   ],
   "source": [
    "print(tweets_data)"
   ]
  },
  {
   "cell_type": "code",
   "execution_count": 79,
   "id": "6c3d463e",
   "metadata": {},
   "outputs": [
    {
     "data": {
      "text/html": [
       "<div>\n",
       "<style scoped>\n",
       "    .dataframe tbody tr th:only-of-type {\n",
       "        vertical-align: middle;\n",
       "    }\n",
       "\n",
       "    .dataframe tbody tr th {\n",
       "        vertical-align: top;\n",
       "    }\n",
       "\n",
       "    .dataframe thead th {\n",
       "        text-align: right;\n",
       "    }\n",
       "</style>\n",
       "<table border=\"1\" class=\"dataframe\">\n",
       "  <thead>\n",
       "    <tr style=\"text-align: right;\">\n",
       "      <th></th>\n",
       "      <th>source_url</th>\n",
       "      <th>in_reply_to_user_id_str</th>\n",
       "      <th>favorite_count</th>\n",
       "      <th>in_reply_to_status_id_str</th>\n",
       "      <th>quoted_status_id_str</th>\n",
       "      <th>text</th>\n",
       "      <th>in_reply_to_screen_name</th>\n",
       "      <th>source</th>\n",
       "      <th>id</th>\n",
       "      <th>retweet_count</th>\n",
       "      <th>in_reply_to_user_id</th>\n",
       "      <th>quoted_status_id</th>\n",
       "      <th>lang</th>\n",
       "      <th>in_reply_to_status_id</th>\n",
       "      <th>id_str</th>\n",
       "      <th>user</th>\n",
       "      <th>author</th>\n",
       "    </tr>\n",
       "  </thead>\n",
       "  <tbody>\n",
       "    <tr>\n",
       "      <th>0</th>\n",
       "      <td>http://twitter.com/#!/download/ipad</td>\n",
       "      <td>NaN</td>\n",
       "      <td>0</td>\n",
       "      <td>NaN</td>\n",
       "      <td>NaN</td>\n",
       "      <td>Empezamos hablando sobre la ampliación y moder...</td>\n",
       "      <td>NaN</td>\n",
       "      <td>Twitter for iPad</td>\n",
       "      <td>1407143533199437825</td>\n",
       "      <td>0</td>\n",
       "      <td>NaN</td>\n",
       "      <td>NaN</td>\n",
       "      <td>es</td>\n",
       "      <td>NaN</td>\n",
       "      <td>1407143533199437825</td>\n",
       "      <td>imagenqro</td>\n",
       "      <td>imagenqro</td>\n",
       "    </tr>\n",
       "    <tr>\n",
       "      <th>1</th>\n",
       "      <td>https://www.sprinklr.com</td>\n",
       "      <td>NaN</td>\n",
       "      <td>1</td>\n",
       "      <td>NaN</td>\n",
       "      <td>NaN</td>\n",
       "      <td>Here’s a closer look at Florida workers comp i...</td>\n",
       "      <td>NaN</td>\n",
       "      <td>Sprinklr</td>\n",
       "      <td>1407143471295696899</td>\n",
       "      <td>0</td>\n",
       "      <td>NaN</td>\n",
       "      <td>NaN</td>\n",
       "      <td>en</td>\n",
       "      <td>NaN</td>\n",
       "      <td>1407143471295696899</td>\n",
       "      <td>Forbes</td>\n",
       "      <td>Forbes</td>\n",
       "    </tr>\n",
       "    <tr>\n",
       "      <th>2</th>\n",
       "      <td>https://about.twitter.com/products/tweetdeck</td>\n",
       "      <td>71303860</td>\n",
       "      <td>2</td>\n",
       "      <td>1407127791137591297</td>\n",
       "      <td>NaN</td>\n",
       "      <td>@Univision 46' SE ACERCÓ PARAGUAY 🔥 Combinació...</td>\n",
       "      <td>TUDNMEX</td>\n",
       "      <td>TweetDeck</td>\n",
       "      <td>1407143458964492288</td>\n",
       "      <td>0</td>\n",
       "      <td>71303860.0</td>\n",
       "      <td>NaN</td>\n",
       "      <td>es</td>\n",
       "      <td>1.407128e+18</td>\n",
       "      <td>1407143458964492288</td>\n",
       "      <td>TUDNMEX</td>\n",
       "      <td>TUDNMEX</td>\n",
       "    </tr>\n",
       "    <tr>\n",
       "      <th>3</th>\n",
       "      <td>https://about.twitter.com/products/tweetdeck</td>\n",
       "      <td>NaN</td>\n",
       "      <td>0</td>\n",
       "      <td>NaN</td>\n",
       "      <td>NaN</td>\n",
       "      <td>#Metrópoli | Un grupo de manifestantes se reun...</td>\n",
       "      <td>NaN</td>\n",
       "      <td>TweetDeck</td>\n",
       "      <td>1407143458620510208</td>\n",
       "      <td>0</td>\n",
       "      <td>NaN</td>\n",
       "      <td>NaN</td>\n",
       "      <td>es</td>\n",
       "      <td>NaN</td>\n",
       "      <td>1407143458620510208</td>\n",
       "      <td>lasillarota</td>\n",
       "      <td>lasillarota</td>\n",
       "    </tr>\n",
       "    <tr>\n",
       "      <th>4</th>\n",
       "      <td>http://twitter.com/download/iphone</td>\n",
       "      <td>NaN</td>\n",
       "      <td>0</td>\n",
       "      <td>NaN</td>\n",
       "      <td>1407142685362774030</td>\n",
       "      <td>Tsssssss, agárrense!!!!🔥🔥🔥 https://t.co/HF7bvQ...</td>\n",
       "      <td>NaN</td>\n",
       "      <td>Twitter for iPhone</td>\n",
       "      <td>1407143456938639360</td>\n",
       "      <td>0</td>\n",
       "      <td>NaN</td>\n",
       "      <td>1.407143e+18</td>\n",
       "      <td>es</td>\n",
       "      <td>NaN</td>\n",
       "      <td>1407143456938639360</td>\n",
       "      <td>KayRemix</td>\n",
       "      <td>KayRemix</td>\n",
       "    </tr>\n",
       "  </tbody>\n",
       "</table>\n",
       "</div>"
      ],
      "text/plain": [
       "                                     source_url in_reply_to_user_id_str  \\\n",
       "0           http://twitter.com/#!/download/ipad                     NaN   \n",
       "1                      https://www.sprinklr.com                     NaN   \n",
       "2  https://about.twitter.com/products/tweetdeck                71303860   \n",
       "3  https://about.twitter.com/products/tweetdeck                     NaN   \n",
       "4            http://twitter.com/download/iphone                     NaN   \n",
       "\n",
       "   favorite_count in_reply_to_status_id_str quoted_status_id_str  \\\n",
       "0               0                       NaN                  NaN   \n",
       "1               1                       NaN                  NaN   \n",
       "2               2       1407127791137591297                  NaN   \n",
       "3               0                       NaN                  NaN   \n",
       "4               0                       NaN  1407142685362774030   \n",
       "\n",
       "                                                text in_reply_to_screen_name  \\\n",
       "0  Empezamos hablando sobre la ampliación y moder...                     NaN   \n",
       "1  Here’s a closer look at Florida workers comp i...                     NaN   \n",
       "2  @Univision 46' SE ACERCÓ PARAGUAY 🔥 Combinació...                 TUDNMEX   \n",
       "3  #Metrópoli | Un grupo de manifestantes se reun...                     NaN   \n",
       "4  Tsssssss, agárrense!!!!🔥🔥🔥 https://t.co/HF7bvQ...                     NaN   \n",
       "\n",
       "               source                   id  retweet_count  \\\n",
       "0    Twitter for iPad  1407143533199437825              0   \n",
       "1            Sprinklr  1407143471295696899              0   \n",
       "2           TweetDeck  1407143458964492288              0   \n",
       "3           TweetDeck  1407143458620510208              0   \n",
       "4  Twitter for iPhone  1407143456938639360              0   \n",
       "\n",
       "   in_reply_to_user_id  quoted_status_id lang  in_reply_to_status_id  \\\n",
       "0                  NaN               NaN   es                    NaN   \n",
       "1                  NaN               NaN   en                    NaN   \n",
       "2           71303860.0               NaN   es           1.407128e+18   \n",
       "3                  NaN               NaN   es                    NaN   \n",
       "4                  NaN      1.407143e+18   es                    NaN   \n",
       "\n",
       "                id_str         user       author  \n",
       "0  1407143533199437825    imagenqro    imagenqro  \n",
       "1  1407143471295696899       Forbes       Forbes  \n",
       "2  1407143458964492288      TUDNMEX      TUDNMEX  \n",
       "3  1407143458620510208  lasillarota  lasillarota  \n",
       "4  1407143456938639360     KayRemix     KayRemix  "
      ]
     },
     "execution_count": 79,
     "metadata": {},
     "output_type": "execute_result"
    }
   ],
   "source": [
    "df = pd.DataFrame(tweets_data, columns=header_cols)\n",
    "df.head()"
   ]
  },
  {
   "cell_type": "code",
   "execution_count": null,
   "id": "265b37a1",
   "metadata": {},
   "outputs": [],
   "source": []
  }
 ],
 "metadata": {
  "kernelspec": {
   "display_name": "Python 3",
   "language": "python",
   "name": "python3"
  },
  "language_info": {
   "codemirror_mode": {
    "name": "ipython",
    "version": 3
   },
   "file_extension": ".py",
   "mimetype": "text/x-python",
   "name": "python",
   "nbconvert_exporter": "python",
   "pygments_lexer": "ipython3",
   "version": "3.8.10"
  }
 },
 "nbformat": 4,
 "nbformat_minor": 5
}
