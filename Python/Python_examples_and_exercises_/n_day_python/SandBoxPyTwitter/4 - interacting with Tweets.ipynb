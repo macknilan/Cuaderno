{
 "cells": [
  {
   "cell_type": "code",
   "execution_count": 1,
   "id": "6e5ea8d8",
   "metadata": {},
   "outputs": [],
   "source": [
    "# https://docs.python.org/3/library/webbrowser.html\n",
    "import tweepy\n",
    "import webbrowser\n",
    "import time\n",
    "import pandas as pd"
   ]
  },
  {
   "cell_type": "code",
   "execution_count": 2,
   "id": "29d74b7b",
   "metadata": {},
   "outputs": [
    {
     "name": "stdout",
     "output_type": "stream",
     "text": [
      "https://api.twitter.com/oauth/authorize?oauth_token=_S1D6wAAAAABQ34eAAABejT0eUU\n",
      "What's the pin value? \n",
      "6034765\n",
      "6034765\n",
      "198626561-tF3cmZis8d3owSXS4txj4nBAoZSIfgzl2v5iAk0L vIBcUCdyaPAMtmFgFNyUeLbfKKixIdV4qRuJWI98giOyS\n"
     ]
    }
   ],
   "source": [
    "# https://docs.tweepy.org/en/stable/index.html\n",
    "consumer_key = \"\"\n",
    "consumer_secret = \"\"\n",
    "callback_uri = 'oob'\n",
    "try:\n",
    "    auth = tweepy.OAuthHandler(consumer_key, consumer_secret, callback_uri)\n",
    "    redirect_url = auth.get_authorization_url()\n",
    "    print(redirect_url)\n",
    "except tweepy.TweepError:\n",
    "    print('Error! Failed to get request token.')\n",
    "# A NEW PAGE OPENS REQUESTING AUTHORIZATION FROM TWITTER TO GENERATE A CODE\n",
    "webbrowser.open(redirect_url)\n",
    "user_pin_input = input(\"What's the pin value? \\n\")\n",
    "print(user_pin_input)\n",
    "try:\n",
    "    auth.get_access_token(user_pin_input)\n",
    "except tweepy.TweepError:\n",
    "    print('Error! Failed to get access token.')\n",
    "\n",
    "print(auth.access_token, auth.access_token_secret)"
   ]
  },
  {
   "cell_type": "code",
   "execution_count": 3,
   "id": "9e42be97",
   "metadata": {},
   "outputs": [],
   "source": [
    "api = tweepy.API(auth)"
   ]
  },
  {
   "cell_type": "code",
   "execution_count": 4,
   "id": "3617bc60",
   "metadata": {},
   "outputs": [],
   "source": [
    "me = api.me()"
   ]
  },
  {
   "cell_type": "code",
   "execution_count": 5,
   "id": "fd7267c0",
   "metadata": {},
   "outputs": [
    {
     "name": "stdout",
     "output_type": "stream",
     "text": [
      "nomackayu\n"
     ]
    }
   ],
   "source": [
    "print(me.screen_name)"
   ]
  },
  {
   "cell_type": "code",
   "execution_count": 6,
   "id": "66e4947b",
   "metadata": {},
   "outputs": [],
   "source": [
    "my_time_line = api.home_timeline()\n",
    "# print(my_time_line)"
   ]
  },
  {
   "cell_type": "code",
   "execution_count": 28,
   "id": "f3feb66d",
   "metadata": {},
   "outputs": [
    {
     "name": "stdout",
     "output_type": "stream",
     "text": [
      "https://twitter.com/convoynetwork/status/1407420709035446275\n"
     ]
    }
   ],
   "source": [
    "# RECREAR LA URL DE UN USUARIO DE SU ULTIMO TWEET\n",
    "other_user = api.get_user(\"convoynetwork\") # GET THE OTHER USER\n",
    "other_user_timeline = other_user.timeline() # GET THE TIME LINE\n",
    "# print(other_user_timeline[0])\n",
    "user_timeline_status_obj = other_user_timeline[0] \n",
    "user_timeline_id = user_timeline_status_obj.id\n",
    "status_obj_screen_name = user_timeline_status_obj.user.screen_name\n",
    "other_user_obj_url = f\"https://twitter.com/{status_obj_screen_name}/status/{user_timeline_id}\"\n",
    "print(other_user_obj_url)"
   ]
  },
  {
   "cell_type": "code",
   "execution_count": 9,
   "id": "4f9c3f89",
   "metadata": {},
   "outputs": [
    {
     "name": "stdout",
     "output_type": "stream",
     "text": [
      "Comunícate con @SussyOh a través del #SussyOhConvoy.\n"
     ]
    }
   ],
   "source": [
    "# https://docs.tweepy.org/en/stable/api.html?highlight=.timeline#status-methods\n",
    "status_obj_from_user_tweet = api.get_status(\"1407397978533511170\")\n",
    "print(status_obj_from_user_tweet.text)"
   ]
  },
  {
   "cell_type": "code",
   "execution_count": 27,
   "id": "91269550",
   "metadata": {},
   "outputs": [
    {
     "data": {
      "text/plain": [
       "Status(_api=<tweepy.api.API object at 0x7fd2703f7490>, _json={'created_at': 'Tue Jun 22 19:39:08 +0000 2021', 'id': 1407422923640561665, 'id_str': '1407422923640561665', 'text': 'RT @convoynetwork: Escucha totalmente GRATIS algunos de los episodios de #ConversacionesDeDiseño con @madamemallet en https://t.co/kcUOGJhg…', 'truncated': False, 'entities': {'hashtags': [{'text': 'ConversacionesDeDiseño', 'indices': [73, 96]}], 'symbols': [], 'user_mentions': [{'screen_name': 'convoynetwork', 'name': 'CONVOY', 'id': 3676213338, 'id_str': '3676213338', 'indices': [3, 17]}, {'screen_name': 'madamemallet', 'name': 'Madame M', 'id': 22046285, 'id_str': '22046285', 'indices': [101, 114]}], 'urls': []}, 'source': '<a href=\"https://help.twitter.com/en/using-twitter/how-to-tweet#source-labels\" rel=\"nofollow\">PyTweetDev</a>', 'in_reply_to_status_id': None, 'in_reply_to_status_id_str': None, 'in_reply_to_user_id': None, 'in_reply_to_user_id_str': None, 'in_reply_to_screen_name': None, 'user': {'id': 198626561, 'id_str': '198626561', 'name': 'Rodolfo Ugalde 8a', 'screen_name': 'nomackayu', 'location': '', 'description': 'Miembro de la generación X, apasionado de la \\ntecnología. En busca de lo normal y la sensatez, entre otros menesteres.', 'url': None, 'entities': {'description': {'urls': []}}, 'protected': False, 'followers_count': 81, 'friends_count': 1005, 'listed_count': 4, 'created_at': 'Mon Oct 04 20:36:03 +0000 2010', 'favourites_count': 341, 'utc_offset': None, 'time_zone': None, 'geo_enabled': False, 'verified': False, 'statuses_count': 955, 'lang': None, 'contributors_enabled': False, 'is_translator': False, 'is_translation_enabled': True, 'profile_background_color': 'C0DEED', 'profile_background_image_url': 'http://abs.twimg.com/images/themes/theme14/bg.gif', 'profile_background_image_url_https': 'https://abs.twimg.com/images/themes/theme14/bg.gif', 'profile_background_tile': False, 'profile_image_url': 'http://pbs.twimg.com/profile_images/1252992639122767873/QgYjPEIM_normal.jpg', 'profile_image_url_https': 'https://pbs.twimg.com/profile_images/1252992639122767873/QgYjPEIM_normal.jpg', 'profile_banner_url': 'https://pbs.twimg.com/profile_banners/198626561/1585932488', 'profile_link_color': '9266CC', 'profile_sidebar_border_color': 'FFFFFF', 'profile_sidebar_fill_color': 'EFEFEF', 'profile_text_color': '333333', 'profile_use_background_image': True, 'has_extended_profile': True, 'default_profile': False, 'default_profile_image': False, 'following': False, 'follow_request_sent': False, 'notifications': False, 'translator_type': 'none', 'withheld_in_countries': []}, 'geo': None, 'coordinates': None, 'place': None, 'contributors': None, 'retweeted_status': {'created_at': 'Tue Jun 22 19:30:20 +0000 2021', 'id': 1407420709035446275, 'id_str': '1407420709035446275', 'text': 'Escucha totalmente GRATIS algunos de los episodios de #ConversacionesDeDiseño con @madamemallet en… https://t.co/RfAs3jOYvc', 'truncated': True, 'entities': {'hashtags': [{'text': 'ConversacionesDeDiseño', 'indices': [54, 77]}], 'symbols': [], 'user_mentions': [{'screen_name': 'madamemallet', 'name': 'Madame M', 'id': 22046285, 'id_str': '22046285', 'indices': [82, 95]}], 'urls': [{'url': 'https://t.co/RfAs3jOYvc', 'expanded_url': 'https://twitter.com/i/web/status/1407420709035446275', 'display_url': 'twitter.com/i/web/status/1…', 'indices': [100, 123]}]}, 'source': '<a href=\"https://buffer.com\" rel=\"nofollow\">Buffer</a>', 'in_reply_to_status_id': None, 'in_reply_to_status_id_str': None, 'in_reply_to_user_id': None, 'in_reply_to_user_id_str': None, 'in_reply_to_screen_name': None, 'user': {'id': 3676213338, 'id_str': '3676213338', 'name': 'CONVOY', 'screen_name': 'convoynetwork', 'location': '', 'description': 'Plataforma de podcast y live streaming', 'url': 'https://t.co/2UzJgQ2R6o', 'entities': {'url': {'urls': [{'url': 'https://t.co/2UzJgQ2R6o', 'expanded_url': 'http://convoynetwork.com', 'display_url': 'convoynetwork.com', 'indices': [0, 23]}]}, 'description': {'urls': []}}, 'protected': False, 'followers_count': 65405, 'friends_count': 81, 'listed_count': 254, 'created_at': 'Fri Sep 25 01:24:42 +0000 2015', 'favourites_count': 673, 'utc_offset': None, 'time_zone': None, 'geo_enabled': False, 'verified': True, 'statuses_count': 17362, 'lang': None, 'contributors_enabled': False, 'is_translator': False, 'is_translation_enabled': False, 'profile_background_color': 'C0DEED', 'profile_background_image_url': 'http://abs.twimg.com/images/themes/theme1/bg.png', 'profile_background_image_url_https': 'https://abs.twimg.com/images/themes/theme1/bg.png', 'profile_background_tile': False, 'profile_image_url': 'http://pbs.twimg.com/profile_images/1276734131905445888/ZLxxpVZe_normal.jpg', 'profile_image_url_https': 'https://pbs.twimg.com/profile_images/1276734131905445888/ZLxxpVZe_normal.jpg', 'profile_banner_url': 'https://pbs.twimg.com/profile_banners/3676213338/1611155223', 'profile_link_color': '1DA1F2', 'profile_sidebar_border_color': 'C0DEED', 'profile_sidebar_fill_color': 'DDEEF6', 'profile_text_color': '333333', 'profile_use_background_image': True, 'has_extended_profile': False, 'default_profile': True, 'default_profile_image': False, 'following': True, 'follow_request_sent': False, 'notifications': False, 'translator_type': 'none', 'withheld_in_countries': []}, 'geo': None, 'coordinates': None, 'place': None, 'contributors': None, 'is_quote_status': False, 'retweet_count': 2, 'favorite_count': 2, 'favorited': False, 'retweeted': True, 'possibly_sensitive': False, 'lang': 'es'}, 'is_quote_status': False, 'retweet_count': 2, 'favorite_count': 0, 'favorited': False, 'retweeted': True, 'lang': 'es'}, created_at=datetime.datetime(2021, 6, 22, 19, 39, 8), id=1407422923640561665, id_str='1407422923640561665', text='RT @convoynetwork: Escucha totalmente GRATIS algunos de los episodios de #ConversacionesDeDiseño con @madamemallet en https://t.co/kcUOGJhg…', truncated=False, entities={'hashtags': [{'text': 'ConversacionesDeDiseño', 'indices': [73, 96]}], 'symbols': [], 'user_mentions': [{'screen_name': 'convoynetwork', 'name': 'CONVOY', 'id': 3676213338, 'id_str': '3676213338', 'indices': [3, 17]}, {'screen_name': 'madamemallet', 'name': 'Madame M', 'id': 22046285, 'id_str': '22046285', 'indices': [101, 114]}], 'urls': []}, source='PyTweetDev', source_url='https://help.twitter.com/en/using-twitter/how-to-tweet#source-labels', in_reply_to_status_id=None, in_reply_to_status_id_str=None, in_reply_to_user_id=None, in_reply_to_user_id_str=None, in_reply_to_screen_name=None, author=User(_api=<tweepy.api.API object at 0x7fd2703f7490>, _json={'id': 198626561, 'id_str': '198626561', 'name': 'Rodolfo Ugalde 8a', 'screen_name': 'nomackayu', 'location': '', 'description': 'Miembro de la generación X, apasionado de la \\ntecnología. En busca de lo normal y la sensatez, entre otros menesteres.', 'url': None, 'entities': {'description': {'urls': []}}, 'protected': False, 'followers_count': 81, 'friends_count': 1005, 'listed_count': 4, 'created_at': 'Mon Oct 04 20:36:03 +0000 2010', 'favourites_count': 341, 'utc_offset': None, 'time_zone': None, 'geo_enabled': False, 'verified': False, 'statuses_count': 955, 'lang': None, 'contributors_enabled': False, 'is_translator': False, 'is_translation_enabled': True, 'profile_background_color': 'C0DEED', 'profile_background_image_url': 'http://abs.twimg.com/images/themes/theme14/bg.gif', 'profile_background_image_url_https': 'https://abs.twimg.com/images/themes/theme14/bg.gif', 'profile_background_tile': False, 'profile_image_url': 'http://pbs.twimg.com/profile_images/1252992639122767873/QgYjPEIM_normal.jpg', 'profile_image_url_https': 'https://pbs.twimg.com/profile_images/1252992639122767873/QgYjPEIM_normal.jpg', 'profile_banner_url': 'https://pbs.twimg.com/profile_banners/198626561/1585932488', 'profile_link_color': '9266CC', 'profile_sidebar_border_color': 'FFFFFF', 'profile_sidebar_fill_color': 'EFEFEF', 'profile_text_color': '333333', 'profile_use_background_image': True, 'has_extended_profile': True, 'default_profile': False, 'default_profile_image': False, 'following': False, 'follow_request_sent': False, 'notifications': False, 'translator_type': 'none', 'withheld_in_countries': []}, id=198626561, id_str='198626561', name='Rodolfo Ugalde 8a', screen_name='nomackayu', location='', description='Miembro de la generación X, apasionado de la \\ntecnología. En busca de lo normal y la sensatez, entre otros menesteres.', url=None, entities={'description': {'urls': []}}, protected=False, followers_count=81, friends_count=1005, listed_count=4, created_at=datetime.datetime(2010, 10, 4, 20, 36, 3), favourites_count=341, utc_offset=None, time_zone=None, geo_enabled=False, verified=False, statuses_count=955, lang=None, contributors_enabled=False, is_translator=False, is_translation_enabled=True, profile_background_color='C0DEED', profile_background_image_url='http://abs.twimg.com/images/themes/theme14/bg.gif', profile_background_image_url_https='https://abs.twimg.com/images/themes/theme14/bg.gif', profile_background_tile=False, profile_image_url='http://pbs.twimg.com/profile_images/1252992639122767873/QgYjPEIM_normal.jpg', profile_image_url_https='https://pbs.twimg.com/profile_images/1252992639122767873/QgYjPEIM_normal.jpg', profile_banner_url='https://pbs.twimg.com/profile_banners/198626561/1585932488', profile_link_color='9266CC', profile_sidebar_border_color='FFFFFF', profile_sidebar_fill_color='EFEFEF', profile_text_color='333333', profile_use_background_image=True, has_extended_profile=True, default_profile=False, default_profile_image=False, following=False, follow_request_sent=False, notifications=False, translator_type='none', withheld_in_countries=[]), user=User(_api=<tweepy.api.API object at 0x7fd2703f7490>, _json={'id': 198626561, 'id_str': '198626561', 'name': 'Rodolfo Ugalde 8a', 'screen_name': 'nomackayu', 'location': '', 'description': 'Miembro de la generación X, apasionado de la \\ntecnología. En busca de lo normal y la sensatez, entre otros menesteres.', 'url': None, 'entities': {'description': {'urls': []}}, 'protected': False, 'followers_count': 81, 'friends_count': 1005, 'listed_count': 4, 'created_at': 'Mon Oct 04 20:36:03 +0000 2010', 'favourites_count': 341, 'utc_offset': None, 'time_zone': None, 'geo_enabled': False, 'verified': False, 'statuses_count': 955, 'lang': None, 'contributors_enabled': False, 'is_translator': False, 'is_translation_enabled': True, 'profile_background_color': 'C0DEED', 'profile_background_image_url': 'http://abs.twimg.com/images/themes/theme14/bg.gif', 'profile_background_image_url_https': 'https://abs.twimg.com/images/themes/theme14/bg.gif', 'profile_background_tile': False, 'profile_image_url': 'http://pbs.twimg.com/profile_images/1252992639122767873/QgYjPEIM_normal.jpg', 'profile_image_url_https': 'https://pbs.twimg.com/profile_images/1252992639122767873/QgYjPEIM_normal.jpg', 'profile_banner_url': 'https://pbs.twimg.com/profile_banners/198626561/1585932488', 'profile_link_color': '9266CC', 'profile_sidebar_border_color': 'FFFFFF', 'profile_sidebar_fill_color': 'EFEFEF', 'profile_text_color': '333333', 'profile_use_background_image': True, 'has_extended_profile': True, 'default_profile': False, 'default_profile_image': False, 'following': False, 'follow_request_sent': False, 'notifications': False, 'translator_type': 'none', 'withheld_in_countries': []}, id=198626561, id_str='198626561', name='Rodolfo Ugalde 8a', screen_name='nomackayu', location='', description='Miembro de la generación X, apasionado de la \\ntecnología. En busca de lo normal y la sensatez, entre otros menesteres.', url=None, entities={'description': {'urls': []}}, protected=False, followers_count=81, friends_count=1005, listed_count=4, created_at=datetime.datetime(2010, 10, 4, 20, 36, 3), favourites_count=341, utc_offset=None, time_zone=None, geo_enabled=False, verified=False, statuses_count=955, lang=None, contributors_enabled=False, is_translator=False, is_translation_enabled=True, profile_background_color='C0DEED', profile_background_image_url='http://abs.twimg.com/images/themes/theme14/bg.gif', profile_background_image_url_https='https://abs.twimg.com/images/themes/theme14/bg.gif', profile_background_tile=False, profile_image_url='http://pbs.twimg.com/profile_images/1252992639122767873/QgYjPEIM_normal.jpg', profile_image_url_https='https://pbs.twimg.com/profile_images/1252992639122767873/QgYjPEIM_normal.jpg', profile_banner_url='https://pbs.twimg.com/profile_banners/198626561/1585932488', profile_link_color='9266CC', profile_sidebar_border_color='FFFFFF', profile_sidebar_fill_color='EFEFEF', profile_text_color='333333', profile_use_background_image=True, has_extended_profile=True, default_profile=False, default_profile_image=False, following=False, follow_request_sent=False, notifications=False, translator_type='none', withheld_in_countries=[]), geo=None, coordinates=None, place=None, contributors=None, retweeted_status=Status(_api=<tweepy.api.API object at 0x7fd2703f7490>, _json={'created_at': 'Tue Jun 22 19:30:20 +0000 2021', 'id': 1407420709035446275, 'id_str': '1407420709035446275', 'text': 'Escucha totalmente GRATIS algunos de los episodios de #ConversacionesDeDiseño con @madamemallet en… https://t.co/RfAs3jOYvc', 'truncated': True, 'entities': {'hashtags': [{'text': 'ConversacionesDeDiseño', 'indices': [54, 77]}], 'symbols': [], 'user_mentions': [{'screen_name': 'madamemallet', 'name': 'Madame M', 'id': 22046285, 'id_str': '22046285', 'indices': [82, 95]}], 'urls': [{'url': 'https://t.co/RfAs3jOYvc', 'expanded_url': 'https://twitter.com/i/web/status/1407420709035446275', 'display_url': 'twitter.com/i/web/status/1…', 'indices': [100, 123]}]}, 'source': '<a href=\"https://buffer.com\" rel=\"nofollow\">Buffer</a>', 'in_reply_to_status_id': None, 'in_reply_to_status_id_str': None, 'in_reply_to_user_id': None, 'in_reply_to_user_id_str': None, 'in_reply_to_screen_name': None, 'user': {'id': 3676213338, 'id_str': '3676213338', 'name': 'CONVOY', 'screen_name': 'convoynetwork', 'location': '', 'description': 'Plataforma de podcast y live streaming', 'url': 'https://t.co/2UzJgQ2R6o', 'entities': {'url': {'urls': [{'url': 'https://t.co/2UzJgQ2R6o', 'expanded_url': 'http://convoynetwork.com', 'display_url': 'convoynetwork.com', 'indices': [0, 23]}]}, 'description': {'urls': []}}, 'protected': False, 'followers_count': 65405, 'friends_count': 81, 'listed_count': 254, 'created_at': 'Fri Sep 25 01:24:42 +0000 2015', 'favourites_count': 673, 'utc_offset': None, 'time_zone': None, 'geo_enabled': False, 'verified': True, 'statuses_count': 17362, 'lang': None, 'contributors_enabled': False, 'is_translator': False, 'is_translation_enabled': False, 'profile_background_color': 'C0DEED', 'profile_background_image_url': 'http://abs.twimg.com/images/themes/theme1/bg.png', 'profile_background_image_url_https': 'https://abs.twimg.com/images/themes/theme1/bg.png', 'profile_background_tile': False, 'profile_image_url': 'http://pbs.twimg.com/profile_images/1276734131905445888/ZLxxpVZe_normal.jpg', 'profile_image_url_https': 'https://pbs.twimg.com/profile_images/1276734131905445888/ZLxxpVZe_normal.jpg', 'profile_banner_url': 'https://pbs.twimg.com/profile_banners/3676213338/1611155223', 'profile_link_color': '1DA1F2', 'profile_sidebar_border_color': 'C0DEED', 'profile_sidebar_fill_color': 'DDEEF6', 'profile_text_color': '333333', 'profile_use_background_image': True, 'has_extended_profile': False, 'default_profile': True, 'default_profile_image': False, 'following': True, 'follow_request_sent': False, 'notifications': False, 'translator_type': 'none', 'withheld_in_countries': []}, 'geo': None, 'coordinates': None, 'place': None, 'contributors': None, 'is_quote_status': False, 'retweet_count': 2, 'favorite_count': 2, 'favorited': False, 'retweeted': True, 'possibly_sensitive': False, 'lang': 'es'}, created_at=datetime.datetime(2021, 6, 22, 19, 30, 20), id=1407420709035446275, id_str='1407420709035446275', text='Escucha totalmente GRATIS algunos de los episodios de #ConversacionesDeDiseño con @madamemallet en… https://t.co/RfAs3jOYvc', truncated=True, entities={'hashtags': [{'text': 'ConversacionesDeDiseño', 'indices': [54, 77]}], 'symbols': [], 'user_mentions': [{'screen_name': 'madamemallet', 'name': 'Madame M', 'id': 22046285, 'id_str': '22046285', 'indices': [82, 95]}], 'urls': [{'url': 'https://t.co/RfAs3jOYvc', 'expanded_url': 'https://twitter.com/i/web/status/1407420709035446275', 'display_url': 'twitter.com/i/web/status/1…', 'indices': [100, 123]}]}, source='Buffer', source_url='https://buffer.com', in_reply_to_status_id=None, in_reply_to_status_id_str=None, in_reply_to_user_id=None, in_reply_to_user_id_str=None, in_reply_to_screen_name=None, author=User(_api=<tweepy.api.API object at 0x7fd2703f7490>, _json={'id': 3676213338, 'id_str': '3676213338', 'name': 'CONVOY', 'screen_name': 'convoynetwork', 'location': '', 'description': 'Plataforma de podcast y live streaming', 'url': 'https://t.co/2UzJgQ2R6o', 'entities': {'url': {'urls': [{'url': 'https://t.co/2UzJgQ2R6o', 'expanded_url': 'http://convoynetwork.com', 'display_url': 'convoynetwork.com', 'indices': [0, 23]}]}, 'description': {'urls': []}}, 'protected': False, 'followers_count': 65405, 'friends_count': 81, 'listed_count': 254, 'created_at': 'Fri Sep 25 01:24:42 +0000 2015', 'favourites_count': 673, 'utc_offset': None, 'time_zone': None, 'geo_enabled': False, 'verified': True, 'statuses_count': 17362, 'lang': None, 'contributors_enabled': False, 'is_translator': False, 'is_translation_enabled': False, 'profile_background_color': 'C0DEED', 'profile_background_image_url': 'http://abs.twimg.com/images/themes/theme1/bg.png', 'profile_background_image_url_https': 'https://abs.twimg.com/images/themes/theme1/bg.png', 'profile_background_tile': False, 'profile_image_url': 'http://pbs.twimg.com/profile_images/1276734131905445888/ZLxxpVZe_normal.jpg', 'profile_image_url_https': 'https://pbs.twimg.com/profile_images/1276734131905445888/ZLxxpVZe_normal.jpg', 'profile_banner_url': 'https://pbs.twimg.com/profile_banners/3676213338/1611155223', 'profile_link_color': '1DA1F2', 'profile_sidebar_border_color': 'C0DEED', 'profile_sidebar_fill_color': 'DDEEF6', 'profile_text_color': '333333', 'profile_use_background_image': True, 'has_extended_profile': False, 'default_profile': True, 'default_profile_image': False, 'following': True, 'follow_request_sent': False, 'notifications': False, 'translator_type': 'none', 'withheld_in_countries': []}, id=3676213338, id_str='3676213338', name='CONVOY', screen_name='convoynetwork', location='', description='Plataforma de podcast y live streaming', url='https://t.co/2UzJgQ2R6o', entities={'url': {'urls': [{'url': 'https://t.co/2UzJgQ2R6o', 'expanded_url': 'http://convoynetwork.com', 'display_url': 'convoynetwork.com', 'indices': [0, 23]}]}, 'description': {'urls': []}}, protected=False, followers_count=65405, friends_count=81, listed_count=254, created_at=datetime.datetime(2015, 9, 25, 1, 24, 42), favourites_count=673, utc_offset=None, time_zone=None, geo_enabled=False, verified=True, statuses_count=17362, lang=None, contributors_enabled=False, is_translator=False, is_translation_enabled=False, profile_background_color='C0DEED', profile_background_image_url='http://abs.twimg.com/images/themes/theme1/bg.png', profile_background_image_url_https='https://abs.twimg.com/images/themes/theme1/bg.png', profile_background_tile=False, profile_image_url='http://pbs.twimg.com/profile_images/1276734131905445888/ZLxxpVZe_normal.jpg', profile_image_url_https='https://pbs.twimg.com/profile_images/1276734131905445888/ZLxxpVZe_normal.jpg', profile_banner_url='https://pbs.twimg.com/profile_banners/3676213338/1611155223', profile_link_color='1DA1F2', profile_sidebar_border_color='C0DEED', profile_sidebar_fill_color='DDEEF6', profile_text_color='333333', profile_use_background_image=True, has_extended_profile=False, default_profile=True, default_profile_image=False, following=True, follow_request_sent=False, notifications=False, translator_type='none', withheld_in_countries=[]), user=User(_api=<tweepy.api.API object at 0x7fd2703f7490>, _json={'id': 3676213338, 'id_str': '3676213338', 'name': 'CONVOY', 'screen_name': 'convoynetwork', 'location': '', 'description': 'Plataforma de podcast y live streaming', 'url': 'https://t.co/2UzJgQ2R6o', 'entities': {'url': {'urls': [{'url': 'https://t.co/2UzJgQ2R6o', 'expanded_url': 'http://convoynetwork.com', 'display_url': 'convoynetwork.com', 'indices': [0, 23]}]}, 'description': {'urls': []}}, 'protected': False, 'followers_count': 65405, 'friends_count': 81, 'listed_count': 254, 'created_at': 'Fri Sep 25 01:24:42 +0000 2015', 'favourites_count': 673, 'utc_offset': None, 'time_zone': None, 'geo_enabled': False, 'verified': True, 'statuses_count': 17362, 'lang': None, 'contributors_enabled': False, 'is_translator': False, 'is_translation_enabled': False, 'profile_background_color': 'C0DEED', 'profile_background_image_url': 'http://abs.twimg.com/images/themes/theme1/bg.png', 'profile_background_image_url_https': 'https://abs.twimg.com/images/themes/theme1/bg.png', 'profile_background_tile': False, 'profile_image_url': 'http://pbs.twimg.com/profile_images/1276734131905445888/ZLxxpVZe_normal.jpg', 'profile_image_url_https': 'https://pbs.twimg.com/profile_images/1276734131905445888/ZLxxpVZe_normal.jpg', 'profile_banner_url': 'https://pbs.twimg.com/profile_banners/3676213338/1611155223', 'profile_link_color': '1DA1F2', 'profile_sidebar_border_color': 'C0DEED', 'profile_sidebar_fill_color': 'DDEEF6', 'profile_text_color': '333333', 'profile_use_background_image': True, 'has_extended_profile': False, 'default_profile': True, 'default_profile_image': False, 'following': True, 'follow_request_sent': False, 'notifications': False, 'translator_type': 'none', 'withheld_in_countries': []}, id=3676213338, id_str='3676213338', name='CONVOY', screen_name='convoynetwork', location='', description='Plataforma de podcast y live streaming', url='https://t.co/2UzJgQ2R6o', entities={'url': {'urls': [{'url': 'https://t.co/2UzJgQ2R6o', 'expanded_url': 'http://convoynetwork.com', 'display_url': 'convoynetwork.com', 'indices': [0, 23]}]}, 'description': {'urls': []}}, protected=False, followers_count=65405, friends_count=81, listed_count=254, created_at=datetime.datetime(2015, 9, 25, 1, 24, 42), favourites_count=673, utc_offset=None, time_zone=None, geo_enabled=False, verified=True, statuses_count=17362, lang=None, contributors_enabled=False, is_translator=False, is_translation_enabled=False, profile_background_color='C0DEED', profile_background_image_url='http://abs.twimg.com/images/themes/theme1/bg.png', profile_background_image_url_https='https://abs.twimg.com/images/themes/theme1/bg.png', profile_background_tile=False, profile_image_url='http://pbs.twimg.com/profile_images/1276734131905445888/ZLxxpVZe_normal.jpg', profile_image_url_https='https://pbs.twimg.com/profile_images/1276734131905445888/ZLxxpVZe_normal.jpg', profile_banner_url='https://pbs.twimg.com/profile_banners/3676213338/1611155223', profile_link_color='1DA1F2', profile_sidebar_border_color='C0DEED', profile_sidebar_fill_color='DDEEF6', profile_text_color='333333', profile_use_background_image=True, has_extended_profile=False, default_profile=True, default_profile_image=False, following=True, follow_request_sent=False, notifications=False, translator_type='none', withheld_in_countries=[]), geo=None, coordinates=None, place=None, contributors=None, is_quote_status=False, retweet_count=2, favorite_count=2, favorited=False, retweeted=True, possibly_sensitive=False, lang='es'), is_quote_status=False, retweet_count=2, favorite_count=0, favorited=False, retweeted=True, lang='es')"
      ]
     },
     "execution_count": 27,
     "metadata": {},
     "output_type": "execute_result"
    }
   ],
   "source": [
    "# RETWEETS\n",
    "# https://docs.tweepy.org/en/stable/api.html#API.retweet\n",
    "\n",
    "# api.retweet(user_timeline_id)"
   ]
  },
  {
   "cell_type": "code",
   "execution_count": 30,
   "id": "337326e1",
   "metadata": {},
   "outputs": [
    {
     "data": {
      "text/plain": [
       "Status(_api=<tweepy.api.API object at 0x7fd2703f7490>, _json={'created_at': 'Tue Jun 22 19:30:20 +0000 2021', 'id': 1407420709035446275, 'id_str': '1407420709035446275', 'text': 'Escucha totalmente GRATIS algunos de los episodios de #ConversacionesDeDiseño con @madamemallet en… https://t.co/RfAs3jOYvc', 'truncated': True, 'entities': {'hashtags': [{'text': 'ConversacionesDeDiseño', 'indices': [54, 77]}], 'symbols': [], 'user_mentions': [{'screen_name': 'madamemallet', 'name': 'Madame M', 'id': 22046285, 'id_str': '22046285', 'indices': [82, 95]}], 'urls': [{'url': 'https://t.co/RfAs3jOYvc', 'expanded_url': 'https://twitter.com/i/web/status/1407420709035446275', 'display_url': 'twitter.com/i/web/status/1…', 'indices': [100, 123]}]}, 'source': '<a href=\"https://buffer.com\" rel=\"nofollow\">Buffer</a>', 'in_reply_to_status_id': None, 'in_reply_to_status_id_str': None, 'in_reply_to_user_id': None, 'in_reply_to_user_id_str': None, 'in_reply_to_screen_name': None, 'user': {'id': 3676213338, 'id_str': '3676213338', 'name': 'CONVOY', 'screen_name': 'convoynetwork', 'location': '', 'description': 'Plataforma de podcast y live streaming', 'url': 'https://t.co/2UzJgQ2R6o', 'entities': {'url': {'urls': [{'url': 'https://t.co/2UzJgQ2R6o', 'expanded_url': 'http://convoynetwork.com', 'display_url': 'convoynetwork.com', 'indices': [0, 23]}]}, 'description': {'urls': []}}, 'protected': False, 'followers_count': 65408, 'friends_count': 81, 'listed_count': 254, 'created_at': 'Fri Sep 25 01:24:42 +0000 2015', 'favourites_count': 673, 'utc_offset': None, 'time_zone': None, 'geo_enabled': False, 'verified': True, 'statuses_count': 17361, 'lang': None, 'contributors_enabled': False, 'is_translator': False, 'is_translation_enabled': False, 'profile_background_color': 'C0DEED', 'profile_background_image_url': 'http://abs.twimg.com/images/themes/theme1/bg.png', 'profile_background_image_url_https': 'https://abs.twimg.com/images/themes/theme1/bg.png', 'profile_background_tile': False, 'profile_image_url': 'http://pbs.twimg.com/profile_images/1276734131905445888/ZLxxpVZe_normal.jpg', 'profile_image_url_https': 'https://pbs.twimg.com/profile_images/1276734131905445888/ZLxxpVZe_normal.jpg', 'profile_banner_url': 'https://pbs.twimg.com/profile_banners/3676213338/1611155223', 'profile_link_color': '1DA1F2', 'profile_sidebar_border_color': 'C0DEED', 'profile_sidebar_fill_color': 'DDEEF6', 'profile_text_color': '333333', 'profile_use_background_image': True, 'has_extended_profile': False, 'default_profile': True, 'default_profile_image': False, 'following': True, 'follow_request_sent': False, 'notifications': False, 'translator_type': 'none', 'withheld_in_countries': []}, 'geo': None, 'coordinates': None, 'place': None, 'contributors': None, 'is_quote_status': False, 'retweet_count': 2, 'favorite_count': 4, 'favorited': False, 'retweeted': True, 'possibly_sensitive': False, 'lang': 'es'}, created_at=datetime.datetime(2021, 6, 22, 19, 30, 20), id=1407420709035446275, id_str='1407420709035446275', text='Escucha totalmente GRATIS algunos de los episodios de #ConversacionesDeDiseño con @madamemallet en… https://t.co/RfAs3jOYvc', truncated=True, entities={'hashtags': [{'text': 'ConversacionesDeDiseño', 'indices': [54, 77]}], 'symbols': [], 'user_mentions': [{'screen_name': 'madamemallet', 'name': 'Madame M', 'id': 22046285, 'id_str': '22046285', 'indices': [82, 95]}], 'urls': [{'url': 'https://t.co/RfAs3jOYvc', 'expanded_url': 'https://twitter.com/i/web/status/1407420709035446275', 'display_url': 'twitter.com/i/web/status/1…', 'indices': [100, 123]}]}, source='Buffer', source_url='https://buffer.com', in_reply_to_status_id=None, in_reply_to_status_id_str=None, in_reply_to_user_id=None, in_reply_to_user_id_str=None, in_reply_to_screen_name=None, author=User(_api=<tweepy.api.API object at 0x7fd2703f7490>, _json={'id': 3676213338, 'id_str': '3676213338', 'name': 'CONVOY', 'screen_name': 'convoynetwork', 'location': '', 'description': 'Plataforma de podcast y live streaming', 'url': 'https://t.co/2UzJgQ2R6o', 'entities': {'url': {'urls': [{'url': 'https://t.co/2UzJgQ2R6o', 'expanded_url': 'http://convoynetwork.com', 'display_url': 'convoynetwork.com', 'indices': [0, 23]}]}, 'description': {'urls': []}}, 'protected': False, 'followers_count': 65408, 'friends_count': 81, 'listed_count': 254, 'created_at': 'Fri Sep 25 01:24:42 +0000 2015', 'favourites_count': 673, 'utc_offset': None, 'time_zone': None, 'geo_enabled': False, 'verified': True, 'statuses_count': 17361, 'lang': None, 'contributors_enabled': False, 'is_translator': False, 'is_translation_enabled': False, 'profile_background_color': 'C0DEED', 'profile_background_image_url': 'http://abs.twimg.com/images/themes/theme1/bg.png', 'profile_background_image_url_https': 'https://abs.twimg.com/images/themes/theme1/bg.png', 'profile_background_tile': False, 'profile_image_url': 'http://pbs.twimg.com/profile_images/1276734131905445888/ZLxxpVZe_normal.jpg', 'profile_image_url_https': 'https://pbs.twimg.com/profile_images/1276734131905445888/ZLxxpVZe_normal.jpg', 'profile_banner_url': 'https://pbs.twimg.com/profile_banners/3676213338/1611155223', 'profile_link_color': '1DA1F2', 'profile_sidebar_border_color': 'C0DEED', 'profile_sidebar_fill_color': 'DDEEF6', 'profile_text_color': '333333', 'profile_use_background_image': True, 'has_extended_profile': False, 'default_profile': True, 'default_profile_image': False, 'following': True, 'follow_request_sent': False, 'notifications': False, 'translator_type': 'none', 'withheld_in_countries': []}, id=3676213338, id_str='3676213338', name='CONVOY', screen_name='convoynetwork', location='', description='Plataforma de podcast y live streaming', url='https://t.co/2UzJgQ2R6o', entities={'url': {'urls': [{'url': 'https://t.co/2UzJgQ2R6o', 'expanded_url': 'http://convoynetwork.com', 'display_url': 'convoynetwork.com', 'indices': [0, 23]}]}, 'description': {'urls': []}}, protected=False, followers_count=65408, friends_count=81, listed_count=254, created_at=datetime.datetime(2015, 9, 25, 1, 24, 42), favourites_count=673, utc_offset=None, time_zone=None, geo_enabled=False, verified=True, statuses_count=17361, lang=None, contributors_enabled=False, is_translator=False, is_translation_enabled=False, profile_background_color='C0DEED', profile_background_image_url='http://abs.twimg.com/images/themes/theme1/bg.png', profile_background_image_url_https='https://abs.twimg.com/images/themes/theme1/bg.png', profile_background_tile=False, profile_image_url='http://pbs.twimg.com/profile_images/1276734131905445888/ZLxxpVZe_normal.jpg', profile_image_url_https='https://pbs.twimg.com/profile_images/1276734131905445888/ZLxxpVZe_normal.jpg', profile_banner_url='https://pbs.twimg.com/profile_banners/3676213338/1611155223', profile_link_color='1DA1F2', profile_sidebar_border_color='C0DEED', profile_sidebar_fill_color='DDEEF6', profile_text_color='333333', profile_use_background_image=True, has_extended_profile=False, default_profile=True, default_profile_image=False, following=True, follow_request_sent=False, notifications=False, translator_type='none', withheld_in_countries=[]), user=User(_api=<tweepy.api.API object at 0x7fd2703f7490>, _json={'id': 3676213338, 'id_str': '3676213338', 'name': 'CONVOY', 'screen_name': 'convoynetwork', 'location': '', 'description': 'Plataforma de podcast y live streaming', 'url': 'https://t.co/2UzJgQ2R6o', 'entities': {'url': {'urls': [{'url': 'https://t.co/2UzJgQ2R6o', 'expanded_url': 'http://convoynetwork.com', 'display_url': 'convoynetwork.com', 'indices': [0, 23]}]}, 'description': {'urls': []}}, 'protected': False, 'followers_count': 65408, 'friends_count': 81, 'listed_count': 254, 'created_at': 'Fri Sep 25 01:24:42 +0000 2015', 'favourites_count': 673, 'utc_offset': None, 'time_zone': None, 'geo_enabled': False, 'verified': True, 'statuses_count': 17361, 'lang': None, 'contributors_enabled': False, 'is_translator': False, 'is_translation_enabled': False, 'profile_background_color': 'C0DEED', 'profile_background_image_url': 'http://abs.twimg.com/images/themes/theme1/bg.png', 'profile_background_image_url_https': 'https://abs.twimg.com/images/themes/theme1/bg.png', 'profile_background_tile': False, 'profile_image_url': 'http://pbs.twimg.com/profile_images/1276734131905445888/ZLxxpVZe_normal.jpg', 'profile_image_url_https': 'https://pbs.twimg.com/profile_images/1276734131905445888/ZLxxpVZe_normal.jpg', 'profile_banner_url': 'https://pbs.twimg.com/profile_banners/3676213338/1611155223', 'profile_link_color': '1DA1F2', 'profile_sidebar_border_color': 'C0DEED', 'profile_sidebar_fill_color': 'DDEEF6', 'profile_text_color': '333333', 'profile_use_background_image': True, 'has_extended_profile': False, 'default_profile': True, 'default_profile_image': False, 'following': True, 'follow_request_sent': False, 'notifications': False, 'translator_type': 'none', 'withheld_in_countries': []}, id=3676213338, id_str='3676213338', name='CONVOY', screen_name='convoynetwork', location='', description='Plataforma de podcast y live streaming', url='https://t.co/2UzJgQ2R6o', entities={'url': {'urls': [{'url': 'https://t.co/2UzJgQ2R6o', 'expanded_url': 'http://convoynetwork.com', 'display_url': 'convoynetwork.com', 'indices': [0, 23]}]}, 'description': {'urls': []}}, protected=False, followers_count=65408, friends_count=81, listed_count=254, created_at=datetime.datetime(2015, 9, 25, 1, 24, 42), favourites_count=673, utc_offset=None, time_zone=None, geo_enabled=False, verified=True, statuses_count=17361, lang=None, contributors_enabled=False, is_translator=False, is_translation_enabled=False, profile_background_color='C0DEED', profile_background_image_url='http://abs.twimg.com/images/themes/theme1/bg.png', profile_background_image_url_https='https://abs.twimg.com/images/themes/theme1/bg.png', profile_background_tile=False, profile_image_url='http://pbs.twimg.com/profile_images/1276734131905445888/ZLxxpVZe_normal.jpg', profile_image_url_https='https://pbs.twimg.com/profile_images/1276734131905445888/ZLxxpVZe_normal.jpg', profile_banner_url='https://pbs.twimg.com/profile_banners/3676213338/1611155223', profile_link_color='1DA1F2', profile_sidebar_border_color='C0DEED', profile_sidebar_fill_color='DDEEF6', profile_text_color='333333', profile_use_background_image=True, has_extended_profile=False, default_profile=True, default_profile_image=False, following=True, follow_request_sent=False, notifications=False, translator_type='none', withheld_in_countries=[]), geo=None, coordinates=None, place=None, contributors=None, is_quote_status=False, retweet_count=2, favorite_count=4, favorited=False, retweeted=True, possibly_sensitive=False, lang='es')"
      ]
     },
     "execution_count": 30,
     "metadata": {},
     "output_type": "execute_result"
    }
   ],
   "source": [
    "# LIKE A TWEET\n",
    "# https://docs.tweepy.org/en/stable/api.html#favorite-methods\n",
    "\n",
    "# api.create_favorite(user_timeline_id)\n",
    "\n",
    "# DISLIKE A TWEET\n",
    "api.destroy_favorite(user_timeline_id)"
   ]
  },
  {
   "cell_type": "code",
   "execution_count": 31,
   "id": "a37c342e",
   "metadata": {},
   "outputs": [
    {
     "name": "stdout",
     "output_type": "stream",
     "text": [
      "1407397978533511170\n",
      "convoynetwork\n"
     ]
    }
   ],
   "source": [
    "# REPLY/RESPONDER/CONTESTAR UN TWEET\n",
    "# https://docs.tweepy.org/en/stable/api.html#API.update_status\n",
    "# in_reply_to_status_id\n",
    "tweet_to_replay = api.get_status(\"1407397978533511170\")\n",
    "print(tweet_to_replay.id)\n",
    "print(tweet_to_replay.user.screen_name)\n",
    "replay_tweet = api.update_status(f\"@{tweet_to_replay.user.screen_name} :-> !\", tweet_to_replay.id)"
   ]
  },
  {
   "cell_type": "code",
   "execution_count": 33,
   "id": "42f5171d",
   "metadata": {},
   "outputs": [
    {
     "name": "stdout",
     "output_type": "stream",
     "text": [
      "1407432396031598593 nomackayu\n"
     ]
    }
   ],
   "source": [
    "print(replay_tweet.id, replay_tweet.user.screen_name)"
   ]
  },
  {
   "cell_type": "code",
   "execution_count": 34,
   "id": "d8c35d9b",
   "metadata": {},
   "outputs": [
    {
     "name": "stdout",
     "output_type": "stream",
     "text": [
      "https://twitter.com/nomackayu/status/1407432396031598593\n"
     ]
    }
   ],
   "source": [
    "# OBTENER LA URL DEL REPLAY ANTERIOR\n",
    "\n",
    "other_user_obj_url = f\"https://twitter.com/{replay_tweet.user.screen_name}/status/{replay_tweet.id}\"\n",
    "print(other_user_obj_url)"
   ]
  },
  {
   "cell_type": "code",
   "execution_count": null,
   "id": "000a8647",
   "metadata": {},
   "outputs": [],
   "source": []
  }
 ],
 "metadata": {
  "kernelspec": {
   "display_name": "Python 3",
   "language": "python",
   "name": "python3"
  },
  "language_info": {
   "codemirror_mode": {
    "name": "ipython",
    "version": 3
   },
   "file_extension": ".py",
   "mimetype": "text/x-python",
   "name": "python",
   "nbconvert_exporter": "python",
   "pygments_lexer": "ipython3",
   "version": "3.8.10"
  }
 },
 "nbformat": 4,
 "nbformat_minor": 5
}
