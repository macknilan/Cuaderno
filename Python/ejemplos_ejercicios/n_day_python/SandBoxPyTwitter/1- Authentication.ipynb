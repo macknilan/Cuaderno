{
 "cells": [
  {
   "cell_type": "code",
   "execution_count": 1,
   "id": "6e5ea8d8",
   "metadata": {},
   "outputs": [],
   "source": [
    "# https://docs.python.org/3/library/webbrowser.html\n",
    "import tweepy\n",
    "import webbrowser\n",
    "import time"
   ]
  },
  {
   "cell_type": "code",
   "execution_count": 2,
   "id": "29d74b7b",
   "metadata": {},
   "outputs": [],
   "source": [
    "# https://docs.tweepy.org/en/stable/index.html\n",
    "consumer_key = \"\"\n",
    "consumer_secret = \"\""
   ]
  },
  {
   "cell_type": "code",
   "execution_count": 3,
   "id": "49054a3a",
   "metadata": {},
   "outputs": [],
   "source": [
    "callback_uri = 'oob' # https://cfe.sh/twitter/callback"
   ]
  },
  {
   "cell_type": "code",
   "execution_count": 4,
   "id": "da61ee81",
   "metadata": {},
   "outputs": [
    {
     "name": "stdout",
     "output_type": "stream",
     "text": [
      "https://api.twitter.com/oauth/authorize?oauth_token=DITqQQAAAAABQ34eAAABejC0hjw\n"
     ]
    }
   ],
   "source": [
    "try\n",
    "    auth = tweepy.OAuthHandler(consumer_key, consumer_secret, callback_uri)\n",
    "    redirect_url = auth.get_authorization_url()\n",
    "    print(redirect_url)\n",
    "except\n",
    "    tweepy.TweepError:\n",
    "    print('Error! Failed to get request token.')"
   ]
  },
  {
   "cell_type": "code",
   "execution_count": null,
   "id": "f97345e7",
   "metadata": {},
   "outputs": [],
   "source": []
  },
  {
   "cell_type": "code",
   "execution_count": 5,
   "id": "f9fa63b7",
   "metadata": {},
   "outputs": [
    {
     "data": {
      "text/plain": [
       "True"
      ]
     },
     "execution_count": 5,
     "metadata": {},
     "output_type": "execute_result"
    }
   ],
   "source": [
    "# A NEW PAGE OPENS REQUESTING AUTHORIZATION FROM TWITTER TO GENERATE A CODE\n",
    "webbrowser.open(redirect_url)"
   ]
  },
  {
   "cell_type": "code",
   "execution_count": 6,
   "id": "69f710b0",
   "metadata": {},
   "outputs": [
    {
     "name": "stdout",
     "output_type": "stream",
     "text": [
      "What's the pin value? \n",
      "5293735\n"
     ]
    }
   ],
   "source": [
    "user_pint_input = input(\"What's the pin value? \\n\")"
   ]
  },
  {
   "cell_type": "code",
   "execution_count": 7,
   "id": "577f7389",
   "metadata": {},
   "outputs": [
    {
     "name": "stdout",
     "output_type": "stream",
     "text": [
      "5293735\n"
     ]
    }
   ],
   "source": [
    "print(user_pin_input)"
   ]
  },
  {
   "cell_type": "code",
   "execution_count": 8,
   "id": "72001336",
   "metadata": {},
   "outputs": [
    {
     "data": {
      "text/plain": [
       "('198626561-tF3cmZis8d3owSXS4txj4nBAoZSIfgzl2v5iAk0L',\n",
       " 'vIBcUCdyaPAMtmFgFNyUeLbfKKixIdV4qRuJWI98giOyS')"
      ]
     },
     "execution_count": 8,
     "metadata": {},
     "output_type": "execute_result"
    }
   ],
   "source": [
    "try\n",
    "    auth.get_access_token(user_pint_input)\n",
    "except tweepy.TweepError:\n",
    "    print('Error! Failed to get access token.')"
   ]
  },
  {
   "cell_type": "code",
   "execution_count": 9,
   "id": "f8ebd9cf",
   "metadata": {},
   "outputs": [
    {
     "name": "stdout",
     "output_type": "stream",
     "text": [
      "198626561-tF3cmZis8d3owSXS4txj4nBAoZSIfgzl2v5iAk0L vIBcUCdyaPAMtmFgFNyUeLbfKKixIdV4qRuJWI98giOyS\n"
     ]
    }
   ],
   "source": [
    "print(auth.access_token, auth.access_token_secret)"
   ]
  },
  {
   "cell_type": "code",
   "execution_count": 10,
   "id": "9e42be97",
   "metadata": {},
   "outputs": [],
   "source": [
    "api = tweepy.API(auth)"
   ]
  },
  {
   "cell_type": "code",
   "execution_count": 11,
   "id": "3617bc60",
   "metadata": {},
   "outputs": [],
   "source": [
    "me = api.me()"
   ]
  },
  {
   "cell_type": "code",
   "execution_count": 12,
   "id": "fd7267c0",
   "metadata": {},
   "outputs": [
    {
     "name": "stdout",
     "output_type": "stream",
     "text": [
      "nomackayu\n"
     ]
    }
   ],
   "source": [
    "print(me.screen_name)"
   ]
  },
  {
   "cell_type": "code",
   "execution_count": null,
   "id": "ea046650",
   "metadata": {},
   "outputs": [],
   "source": []
  }
 ],
 "metadata": {
  "kernelspec": {
   "display_name": "Python 3",
   "language": "python",
   "name": "python3"
  },
  "language_info": {
   "codemirror_mode": {
    "name": "ipython",
    "version": 3
   },
   "file_extension": ".py",
   "mimetype": "text/x-python",
   "name": "python",
   "nbconvert_exporter": "python",
   "pygments_lexer": "ipython3",
   "version": "3.8.10"
  }
 },
 "nbformat": 4,
 "nbformat_minor": 5
}
