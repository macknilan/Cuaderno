{
 "cells": [
  {
   "cell_type": "code",
   "execution_count": 1,
   "id": "6e5ea8d8",
   "metadata": {},
   "outputs": [],
   "source": [
    "# https://docs.python.org/3/library/webbrowser.html\n",
    "import tweepy\n",
    "import webbrowser\n",
    "import time\n",
    "import pandas as pd"
   ]
  },
  {
   "cell_type": "code",
   "execution_count": 2,
   "id": "29d74b7b",
   "metadata": {},
   "outputs": [
    {
     "name": "stdout",
     "output_type": "stream",
     "text": [
      "https://api.twitter.com/oauth/authorize?oauth_token=bWeqewAAAAABQ34eAAABejYT6rU\n",
      "What's the pin value? \n",
      "2099768\n",
      "2099768\n",
      "198626561-tF3cmZis8d3owSXS4txj4nBAoZSIfgzl2v5iAk0L vIBcUCdyaPAMtmFgFNyUeLbfKKixIdV4qRuJWI98giOyS\n"
     ]
    }
   ],
   "source": [
    "# https://docs.tweepy.org/en/stable/index.html\n",
    "consumer_key = \"\"\n",
    "consumer_secret = \"\"\n",
    "callback_uri = 'oob'\n",
    "try:\n",
    "    auth = tweepy.OAuthHandler(consumer_key, consumer_secret, callback_uri)\n",
    "    redirect_url = auth.get_authorization_url()\n",
    "    print(redirect_url)\n",
    "except tweepy.TweepError:\n",
    "    print('Error! Failed to get request token.')\n",
    "# A NEW PAGE OPENS REQUESTING AUTHORIZATION FROM TWITTER TO GENERATE A CODE\n",
    "webbrowser.open(redirect_url)\n",
    "user_pin_input = input(\"What's the pin value? \\n\")\n",
    "print(user_pin_input)\n",
    "try:\n",
    "    auth.get_access_token(user_pin_input)\n",
    "except tweepy.TweepError:\n",
    "    print('Error! Failed to get access token.')\n",
    "\n",
    "print(auth.access_token, auth.access_token_secret)"
   ]
  },
  {
   "cell_type": "code",
   "execution_count": 3,
   "id": "9e42be97",
   "metadata": {},
   "outputs": [],
   "source": [
    "api = tweepy.API(auth)"
   ]
  },
  {
   "cell_type": "code",
   "execution_count": 4,
   "id": "3617bc60",
   "metadata": {},
   "outputs": [],
   "source": [
    "me = api.me()"
   ]
  },
  {
   "cell_type": "code",
   "execution_count": 5,
   "id": "fd7267c0",
   "metadata": {},
   "outputs": [
    {
     "name": "stdout",
     "output_type": "stream",
     "text": [
      "nomackayu\n"
     ]
    }
   ],
   "source": [
    "print(me.screen_name)"
   ]
  },
  {
   "cell_type": "code",
   "execution_count": 7,
   "id": "66e4947b",
   "metadata": {},
   "outputs": [],
   "source": [
    "other_user = api.get_user(\"convoynetwork\")"
   ]
  },
  {
   "cell_type": "code",
   "execution_count": 8,
   "id": "532623bd",
   "metadata": {},
   "outputs": [
    {
     "name": "stdout",
     "output_type": "stream",
     "text": [
      "65409 80\n"
     ]
    }
   ],
   "source": [
    "print(other_user.followers_count, other_user.friends_count)"
   ]
  },
  {
   "cell_type": "code",
   "execution_count": 11,
   "id": "1acb147e",
   "metadata": {},
   "outputs": [
    {
     "name": "stdout",
     "output_type": "stream",
     "text": [
      "20\n"
     ]
    }
   ],
   "source": [
    "# https://docs.tweepy.org/en/stable/api.html?highlight=get_user#API.friends\n",
    "other_user_friends = other_user.friends()\n",
    "print(len(other_user_friends))"
   ]
  },
  {
   "cell_type": "code",
   "execution_count": 15,
   "id": "a18377d9",
   "metadata": {},
   "outputs": [
    {
     "name": "stdout",
     "output_type": "stream",
     "text": [
      "majestadeltaco\n",
      "leguizamou\n",
      "NotasSinPauta\n",
      "argentinni\n",
      "SomosEspagueti\n"
     ]
    }
   ],
   "source": [
    "# SEGUIR A LOS CUENTAS QUE SIGUE other_user \"convoynetwork\"\n",
    "# CUASI BOOT\n",
    "# https://docs.tweepy.org/en/stable/api.html?highlight=get_user#API.create_friendship\n",
    "my_new_friends = []\n",
    "friends_of_other_user = other_user.friends()\n",
    "for friend in friends_of_other_user:\n",
    "    if friend.followers_count > 300 and friend.friends_count < 300:\n",
    "        print(friend.screen_name)\n",
    "        # UNCOMENT FOR DO\n",
    "        # my_new_friends.append(friend.screen_name)\n",
    "        # relationship_ = api.create_friendship(friend.screen_name)"
   ]
  },
  {
   "cell_type": "code",
   "execution_count": null,
   "id": "320c8e1c",
   "metadata": {},
   "outputs": [],
   "source": []
  }
 ],
 "metadata": {
  "kernelspec": {
   "display_name": "Python 3",
   "language": "python",
   "name": "python3"
  },
  "language_info": {
   "codemirror_mode": {
    "name": "ipython",
    "version": 3
   },
   "file_extension": ".py",
   "mimetype": "text/x-python",
   "name": "python",
   "nbconvert_exporter": "python",
   "pygments_lexer": "ipython3",
   "version": "3.8.10"
  }
 },
 "nbformat": 4,
 "nbformat_minor": 5
}
