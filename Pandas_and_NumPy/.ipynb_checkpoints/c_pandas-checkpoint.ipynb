{
 "cells": [
  {
   "cell_type": "markdown",
   "id": "b172a21a-a781-4a4d-bc5f-9765cb47cf73",
   "metadata": {},
   "source": [
    "# PANDAS"
   ]
  },
  {
   "cell_type": "code",
   "execution_count": 19,
   "id": "c949ff44-8cf0-4514-a66a-487af1300cc1",
   "metadata": {},
   "outputs": [],
   "source": [
    "import pandas as pd"
   ]
  },
  {
   "cell_type": "markdown",
   "id": "02e47428-4242-462c-a89d-3cc33b9e9658",
   "metadata": {},
   "source": [
    "# PANDAS SERIES"
   ]
  },
  {
   "cell_type": "code",
   "execution_count": 3,
   "id": "fa73f570-e21f-4283-87ce-991dabb8ca43",
   "metadata": {},
   "outputs": [
    {
     "data": {
      "text/plain": [
       "1       Pedro\n",
       "3        Paco\n",
       "7        Luis\n",
       "10    Rodolfo\n",
       "dtype: object"
      ]
     },
     "execution_count": 3,
     "metadata": {},
     "output_type": "execute_result"
    }
   ],
   "source": [
    "personas_ = pd.Series([\"Pedro\", \"Paco\", \"Luis\", \"Rodolfo\"],\n",
    "          index=[1, 3, 7, 10]\n",
    "         )\n",
    "personas"
   ]
  },
  {
   "cell_type": "code",
   "execution_count": 4,
   "id": "167f85dc-b19a-4a03-8ff3-853cdd9da111",
   "metadata": {},
   "outputs": [
    {
     "data": {
      "text/plain": [
       "0      Pedro\n",
       "1       Paco\n",
       "2       Luis\n",
       "3    Rodolfo\n",
       "dtype: object"
      ]
     },
     "execution_count": 4,
     "metadata": {},
     "output_type": "execute_result"
    }
   ],
   "source": [
    "personas = pd.Series([\"Pedro\", \"Paco\", \"Luis\", \"Rodolfo\"])\n",
    "personas"
   ]
  },
  {
   "cell_type": "code",
   "execution_count": 27,
   "id": "a5046b52-aaf6-4ded-80de-b0b81152b6b4",
   "metadata": {},
   "outputs": [
    {
     "data": {
      "text/plain": [
       "a    1\n",
       "b    2\n",
       "c    3\n",
       "dtype: int64"
      ]
     },
     "execution_count": 27,
     "metadata": {},
     "output_type": "execute_result"
    }
   ],
   "source": [
    "# Especificando un índice personalizado (etiqueta a cada valor)\n",
    "pd.Series(range(1, 4), index=['a', 'b', 'c'])"
   ]
  },
  {
   "cell_type": "code",
   "execution_count": 28,
   "id": "dcfd74c2-9cc1-41f6-8b5d-4072385c6cb8",
   "metadata": {},
   "outputs": [
    {
     "data": {
      "text/plain": [
       "a    1\n",
       "b    2\n",
       "c    3\n",
       "dtype: int64"
      ]
     },
     "execution_count": 28,
     "metadata": {},
     "output_type": "execute_result"
    }
   ],
   "source": [
    "# Especificando un diccionario con etiquetas y valores\n",
    "items = {'a': 1, 'b': 2, 'c': 3}\n",
    "pd.Series(items)"
   ]
  },
  {
   "cell_type": "code",
   "execution_count": 29,
   "id": "74b1d615-e6ff-4a94-9d37-c16086c48a4a",
   "metadata": {},
   "outputs": [
    {
     "data": {
      "text/plain": [
       "0    1\n",
       "1    2\n",
       "2    3\n",
       "Name: integers, dtype: int64"
      ]
     },
     "execution_count": 29,
     "metadata": {},
     "output_type": "execute_result"
    }
   ],
   "source": [
    "pd.Series([1, 2, 3], name='integers')"
   ]
  },
  {
   "cell_type": "code",
   "execution_count": 31,
   "id": "41080f4b-e781-4a4d-9d1c-930719a8102b",
   "metadata": {},
   "outputs": [],
   "source": [
    "data = {\n",
    "    'Apple': 147000,\n",
    "    'Samsung': 267937,\n",
    "    'Google': 135301,\n",
    "    'Microsoft': 163000,\n",
    "    'Huawei': 197000,\n",
    "    'Dell': 158000,\n",
    "    'Facebook': 58604,\n",
    "    'Foxconn': 878429,\n",
    "    'Sony': 109700\n",
    "}"
   ]
  },
  {
   "cell_type": "code",
   "execution_count": 32,
   "id": "4df3c9a1-30dd-4b32-bce9-7cd0b07f8f7d",
   "metadata": {},
   "outputs": [
    {
     "data": {
      "text/plain": [
       "Apple        147000\n",
       "Samsung      267937\n",
       "Google       135301\n",
       "Microsoft    163000\n",
       "Huawei       197000\n",
       "Dell         158000\n",
       "Facebook      58604\n",
       "Foxconn      878429\n",
       "Sony         109700\n",
       "Name: Tech Employees, dtype: int64"
      ]
     },
     "execution_count": 32,
     "metadata": {},
     "output_type": "execute_result"
    }
   ],
   "source": [
    "employees = pd.Series(data, name='Tech Employees')\n",
    "employees"
   ]
  },
  {
   "cell_type": "code",
   "execution_count": 33,
   "id": "61953669-04af-4bf0-afea-0c84df60a899",
   "metadata": {},
   "outputs": [
    {
     "data": {
      "text/plain": [
       "Index(['Apple', 'Samsung', 'Google', 'Microsoft', 'Huawei', 'Dell', 'Facebook',\n",
       "       'Foxconn', 'Sony'],\n",
       "      dtype='object')"
      ]
     },
     "execution_count": 33,
     "metadata": {},
     "output_type": "execute_result"
    }
   ],
   "source": [
    "employees.index"
   ]
  },
  {
   "cell_type": "code",
   "execution_count": 34,
   "id": "a1c38cb0-5acb-49d5-af5c-8e95e060ddfc",
   "metadata": {},
   "outputs": [
    {
     "data": {
      "text/plain": [
       "array([147000, 267937, 135301, 163000, 197000, 158000,  58604, 878429,\n",
       "       109700])"
      ]
     },
     "execution_count": 34,
     "metadata": {},
     "output_type": "execute_result"
    }
   ],
   "source": [
    "employees.values"
   ]
  },
  {
   "cell_type": "code",
   "execution_count": 35,
   "id": "a8942b12-3310-4f09-a570-5bd61d5cf3a0",
   "metadata": {},
   "outputs": [
    {
     "data": {
      "text/plain": [
       "dtype('int64')"
      ]
     },
     "execution_count": 35,
     "metadata": {},
     "output_type": "execute_result"
    }
   ],
   "source": [
    "# Tipo de la serie\n",
    "employees.dtype"
   ]
  },
  {
   "cell_type": "code",
   "execution_count": 36,
   "id": "ae4a4a76-f874-4801-b487-4a82df6e3ffe",
   "metadata": {},
   "outputs": [
    {
     "data": {
      "text/plain": [
       "'Tech Employees'"
      ]
     },
     "execution_count": 36,
     "metadata": {},
     "output_type": "execute_result"
    }
   ],
   "source": [
    "# Nombre de la serie\n",
    "employees.name"
   ]
  },
  {
   "cell_type": "code",
   "execution_count": 37,
   "id": "5f25e9b3-df64-482f-a41f-ff45a2c944ae",
   "metadata": {},
   "outputs": [
    {
     "data": {
      "text/plain": [
       "72"
      ]
     },
     "execution_count": 37,
     "metadata": {},
     "output_type": "execute_result"
    }
   ],
   "source": [
    "# Memoria ocupada por la serie\n",
    "employees.nbytes"
   ]
  },
  {
   "cell_type": "code",
   "execution_count": 38,
   "id": "304b39cd-edaf-41dc-9e9e-b4ac650de46d",
   "metadata": {},
   "outputs": [
    {
     "data": {
      "text/plain": [
       "9"
      ]
     },
     "execution_count": 38,
     "metadata": {},
     "output_type": "execute_result"
    }
   ],
   "source": [
    "# Número de registros de la serie\n",
    "employees.size"
   ]
  },
  {
   "cell_type": "markdown",
   "id": "c331a2fa-c83e-4792-ad3e-144f7687b127",
   "metadata": {},
   "source": [
    "#### Seleccionar por indice"
   ]
  },
  {
   "cell_type": "code",
   "execution_count": 40,
   "id": "8cd932ea-c553-462c-85c9-4331eb949470",
   "metadata": {},
   "outputs": [
    {
     "data": {
      "text/plain": [
       "Apple        147000\n",
       "Samsung      267937\n",
       "Google       135301\n",
       "Microsoft    163000\n",
       "Huawei       197000\n",
       "Dell         158000\n",
       "Facebook      58604\n",
       "Foxconn      878429\n",
       "Sony         109700\n",
       "Name: Tech Employees, dtype: int64"
      ]
     },
     "execution_count": 40,
     "metadata": {},
     "output_type": "execute_result"
    }
   ],
   "source": [
    "employees"
   ]
  },
  {
   "cell_type": "code",
   "execution_count": 41,
   "id": "a1e9b649-603e-4a62-a664-f175446a1082",
   "metadata": {},
   "outputs": [
    {
     "data": {
      "text/plain": [
       "147000"
      ]
     },
     "execution_count": 41,
     "metadata": {},
     "output_type": "execute_result"
    }
   ],
   "source": [
    "employees[0]"
   ]
  },
  {
   "cell_type": "code",
   "execution_count": 42,
   "id": "85c31217-f1b3-4a4f-a45e-600a05850d2d",
   "metadata": {},
   "outputs": [
    {
     "data": {
      "text/plain": [
       "109700"
      ]
     },
     "execution_count": 42,
     "metadata": {},
     "output_type": "execute_result"
    }
   ],
   "source": [
    "employees[-1]"
   ]
  },
  {
   "cell_type": "code",
   "execution_count": 43,
   "id": "4eeea23a-a6b0-4620-9153-b84cebb079c7",
   "metadata": {},
   "outputs": [
    {
     "data": {
      "text/plain": [
       "Google       135301\n",
       "Microsoft    163000\n",
       "Huawei       197000\n",
       "Name: Tech Employees, dtype: int64"
      ]
     },
     "execution_count": 43,
     "metadata": {},
     "output_type": "execute_result"
    }
   ],
   "source": [
    "employees[2:5]"
   ]
  },
  {
   "cell_type": "code",
   "execution_count": 45,
   "id": "b4eac8a2-c22a-4352-8056-a465d474d1ac",
   "metadata": {},
   "outputs": [
    {
     "data": {
      "text/plain": [
       "Apple       147000\n",
       "Google      135301\n",
       "Huawei      197000\n",
       "Facebook     58604\n",
       "Name: Tech Employees, dtype: int64"
      ]
     },
     "execution_count": 45,
     "metadata": {},
     "output_type": "execute_result"
    }
   ],
   "source": [
    "employees[0:8:2]"
   ]
  },
  {
   "cell_type": "code",
   "execution_count": 46,
   "id": "82b53258-911d-4e35-a8dc-6b1bcd8af879",
   "metadata": {},
   "outputs": [
    {
     "data": {
      "text/plain": [
       "Apple       147000\n",
       "Google      135301\n",
       "Huawei      197000\n",
       "Facebook     58604\n",
       "Name: Tech Employees, dtype: int64"
      ]
     },
     "execution_count": 46,
     "metadata": {},
     "output_type": "execute_result"
    }
   ],
   "source": [
    "employees.iloc[0:8:2]"
   ]
  },
  {
   "cell_type": "markdown",
   "id": "b0cc160d-27e8-4332-a5a8-e689e42b3296",
   "metadata": {},
   "source": [
    "#### Sleccionar por etiqueta"
   ]
  },
  {
   "cell_type": "code",
   "execution_count": 48,
   "id": "99a665fe-389c-40f8-a4e9-29cb1f035fa6",
   "metadata": {},
   "outputs": [
    {
     "data": {
      "text/plain": [
       "Apple        147000\n",
       "Samsung      267937\n",
       "Google       135301\n",
       "Microsoft    163000\n",
       "Huawei       197000\n",
       "Dell         158000\n",
       "Facebook      58604\n",
       "Foxconn      878429\n",
       "Sony         109700\n",
       "Name: Tech Employees, dtype: int64"
      ]
     },
     "execution_count": 48,
     "metadata": {},
     "output_type": "execute_result"
    }
   ],
   "source": [
    "employees"
   ]
  },
  {
   "cell_type": "code",
   "execution_count": 49,
   "id": "6287cd0d-89f0-409f-95b4-cc04919cf2c7",
   "metadata": {},
   "outputs": [
    {
     "data": {
      "text/plain": [
       "147000"
      ]
     },
     "execution_count": 49,
     "metadata": {},
     "output_type": "execute_result"
    }
   ],
   "source": [
    "employees[\"Apple\"]"
   ]
  },
  {
   "cell_type": "code",
   "execution_count": 51,
   "id": "aeffc321-bcfa-4853-b530-be357de8afa0",
   "metadata": {},
   "outputs": [
    {
     "data": {
      "text/plain": [
       "Apple        147000\n",
       "Samsung      267937\n",
       "Google       135301\n",
       "Microsoft    163000\n",
       "Huawei       197000\n",
       "Name: Tech Employees, dtype: int64"
      ]
     },
     "execution_count": 51,
     "metadata": {},
     "output_type": "execute_result"
    }
   ],
   "source": [
    "employees[\"Apple\":\"Huawei\"]"
   ]
  },
  {
   "cell_type": "markdown",
   "id": "ef52b975-ce54-449b-b1d6-f601b7ca8e79",
   "metadata": {},
   "source": [
    "#### head y tail"
   ]
  },
  {
   "cell_type": "code",
   "execution_count": 52,
   "id": "c777c71b-80b2-4e64-bfd8-36d567b7bf6f",
   "metadata": {},
   "outputs": [
    {
     "data": {
      "text/plain": [
       "Apple      147000\n",
       "Samsung    267937\n",
       "Google     135301\n",
       "Name: Tech Employees, dtype: int64"
      ]
     },
     "execution_count": 52,
     "metadata": {},
     "output_type": "execute_result"
    }
   ],
   "source": [
    "employees.head(3)"
   ]
  },
  {
   "cell_type": "code",
   "execution_count": 53,
   "id": "56ddd7c9-85ce-4f0e-a419-3ee81e259542",
   "metadata": {},
   "outputs": [
    {
     "data": {
      "text/plain": [
       "Foxconn    878429\n",
       "Sony       109700\n",
       "Name: Tech Employees, dtype: int64"
      ]
     },
     "execution_count": 53,
     "metadata": {},
     "output_type": "execute_result"
    }
   ],
   "source": [
    "employees.tail(2)"
   ]
  },
  {
   "cell_type": "markdown",
   "id": "f5b3040c-baf5-4f28-967a-274b8e66943b",
   "metadata": {},
   "source": [
    "### OPERACIONES CON LAS SERIES"
   ]
  },
  {
   "cell_type": "code",
   "execution_count": 54,
   "id": "9eefb8dc-3471-442d-a9fc-be50a28f696c",
   "metadata": {},
   "outputs": [
    {
     "data": {
      "text/plain": [
       "Apple        147000\n",
       "Samsung      267937\n",
       "Google       135301\n",
       "Microsoft    163000\n",
       "Huawei       197000\n",
       "Dell         158000\n",
       "Facebook      58604\n",
       "Foxconn      878429\n",
       "Sony         109700\n",
       "Name: Tech Employees, dtype: int64"
      ]
     },
     "execution_count": 54,
     "metadata": {},
     "output_type": "execute_result"
    }
   ],
   "source": [
    "employees"
   ]
  },
  {
   "cell_type": "code",
   "execution_count": 55,
   "id": "e85d7d73-949d-4272-961e-7913f6ccb409",
   "metadata": {},
   "outputs": [
    {
     "data": {
      "text/plain": [
       "Apple        False\n",
       "Samsung       True\n",
       "Google       False\n",
       "Microsoft    False\n",
       "Huawei       False\n",
       "Dell         False\n",
       "Facebook     False\n",
       "Foxconn       True\n",
       "Sony         False\n",
       "Name: Tech Employees, dtype: bool"
      ]
     },
     "execution_count": 55,
     "metadata": {},
     "output_type": "execute_result"
    }
   ],
   "source": [
    "employees > 200_000"
   ]
  },
  {
   "cell_type": "markdown",
   "id": "de49b4b6-3e91-44dc-907a-aea5f14338fc",
   "metadata": {},
   "source": [
    "Mostrar las empresas con mas de 200,000 empleados"
   ]
  },
  {
   "cell_type": "code",
   "execution_count": 56,
   "id": "ab777f68-49d3-4acf-aafc-057102459090",
   "metadata": {},
   "outputs": [
    {
     "data": {
      "text/plain": [
       "Samsung    267937\n",
       "Foxconn    878429\n",
       "Name: Tech Employees, dtype: int64"
      ]
     },
     "execution_count": 56,
     "metadata": {},
     "output_type": "execute_result"
    }
   ],
   "source": [
    "employees[employees > 200_000]"
   ]
  },
  {
   "cell_type": "markdown",
   "id": "eed050f3-4649-4485-bd76-08e12a89b3ed",
   "metadata": {},
   "source": [
    "### ORDENACION POR VALORES"
   ]
  },
  {
   "cell_type": "code",
   "execution_count": 57,
   "id": "52a17922-f8fc-421b-b26a-b7f07e3de834",
   "metadata": {},
   "outputs": [
    {
     "data": {
      "text/plain": [
       "Facebook      58604\n",
       "Sony         109700\n",
       "Google       135301\n",
       "Apple        147000\n",
       "Dell         158000\n",
       "Microsoft    163000\n",
       "Huawei       197000\n",
       "Samsung      267937\n",
       "Foxconn      878429\n",
       "Name: Tech Employees, dtype: int64"
      ]
     },
     "execution_count": 57,
     "metadata": {},
     "output_type": "execute_result"
    }
   ],
   "source": [
    "employees.sort_values()"
   ]
  },
  {
   "cell_type": "code",
   "execution_count": 67,
   "id": "4adf0573-dd10-4eaa-952e-d0bea78efce7",
   "metadata": {},
   "outputs": [
    {
     "data": {
      "text/plain": [
       "Facebook      58604\n",
       "Sony         109700\n",
       "Google       135301\n",
       "Apple        147000\n",
       "Dell         158000\n",
       "Microsoft    163000\n",
       "Huawei       197000\n",
       "Samsung      267937\n",
       "Foxconn      878429\n",
       "Name: Tech Employees, dtype: int64"
      ]
     },
     "execution_count": 67,
     "metadata": {},
     "output_type": "execute_result"
    }
   ],
   "source": [
    "employees.sort_values(ascending=True)"
   ]
  },
  {
   "cell_type": "markdown",
   "id": "2b8c0495-d618-43d6-b53e-c5afded3c9dd",
   "metadata": {},
   "source": [
    "### ORDENACION POR INDICE"
   ]
  },
  {
   "cell_type": "code",
   "execution_count": 58,
   "id": "1679b0ea-8149-4c94-bc92-d75719cee24b",
   "metadata": {},
   "outputs": [
    {
     "data": {
      "text/plain": [
       "Apple        147000\n",
       "Dell         158000\n",
       "Facebook      58604\n",
       "Foxconn      878429\n",
       "Google       135301\n",
       "Huawei       197000\n",
       "Microsoft    163000\n",
       "Samsung      267937\n",
       "Sony         109700\n",
       "Name: Tech Employees, dtype: int64"
      ]
     },
     "execution_count": 58,
     "metadata": {},
     "output_type": "execute_result"
    }
   ],
   "source": [
    "employees.sort_index()"
   ]
  },
  {
   "cell_type": "code",
   "execution_count": null,
   "id": "a680d202-546a-478e-9c6f-71d593893f8d",
   "metadata": {},
   "outputs": [],
   "source": []
  },
  {
   "cell_type": "code",
   "execution_count": null,
   "id": "17b3c44e-a272-4c2c-b509-7ae13d51156d",
   "metadata": {},
   "outputs": [],
   "source": []
  },
  {
   "cell_type": "code",
   "execution_count": null,
   "id": "e6ba645a-9633-4bfc-abbc-c4fca961cac3",
   "metadata": {},
   "outputs": [],
   "source": []
  },
  {
   "cell_type": "code",
   "execution_count": 5,
   "id": "85d95d0d-2f49-4164-bd6b-0b1cc069bf67",
   "metadata": {},
   "outputs": [
    {
     "data": {
      "text/plain": [
       "1       Pedro\n",
       "4        Paco\n",
       "8        Luis\n",
       "60    Rodolfo\n",
       "dtype: object"
      ]
     },
     "execution_count": 5,
     "metadata": {},
     "output_type": "execute_result"
    }
   ],
   "source": [
    "dict = {1: \"Pedro\", 4: \"Paco\", 8: \"Luis\", 60: \"Rodolfo\"}\n",
    "pd.Series(dict)"
   ]
  },
  {
   "cell_type": "code",
   "execution_count": 6,
   "id": "363fe70c-6b72-4bc3-b25f-30a13ebcb2c5",
   "metadata": {},
   "outputs": [
    {
     "data": {
      "text/plain": [
       "0      Pedro\n",
       "1       Paco\n",
       "2       Luis\n",
       "3    Rodolfo\n",
       "dtype: object"
      ]
     },
     "execution_count": 6,
     "metadata": {},
     "output_type": "execute_result"
    }
   ],
   "source": [
    "personas"
   ]
  },
  {
   "cell_type": "markdown",
   "id": "969639b9-be25-482b-8278-11f8598cdf73",
   "metadata": {},
   "source": [
    "# DATA FRAME"
   ]
  },
  {
   "cell_type": "code",
   "execution_count": 20,
   "id": "c9f06ea8-08c0-4ad6-9cdd-22cd882f59ee",
   "metadata": {},
   "outputs": [],
   "source": [
    "dict_0 = {\"Jugador\": [\"Pedro\", \"Paco\", \"Luis\", \"Rodolfo\"],\n",
    " \"Altura:\": [1.79, 1.89, 1.80, 1.79],\n",
    " \"Goles\": [23, 43, 23, 67]\n",
    "}"
   ]
  },
  {
   "cell_type": "code",
   "execution_count": 22,
   "id": "88398b99-2333-4530-985a-3aeb0abcf866",
   "metadata": {},
   "outputs": [
    {
     "data": {
      "text/html": [
       "<div>\n",
       "<style scoped>\n",
       "    .dataframe tbody tr th:only-of-type {\n",
       "        vertical-align: middle;\n",
       "    }\n",
       "\n",
       "    .dataframe tbody tr th {\n",
       "        vertical-align: top;\n",
       "    }\n",
       "\n",
       "    .dataframe thead th {\n",
       "        text-align: right;\n",
       "    }\n",
       "</style>\n",
       "<table border=\"1\" class=\"dataframe\">\n",
       "  <thead>\n",
       "    <tr style=\"text-align: right;\">\n",
       "      <th></th>\n",
       "      <th>Jugador</th>\n",
       "      <th>Altura:</th>\n",
       "      <th>Goles</th>\n",
       "    </tr>\n",
       "  </thead>\n",
       "  <tbody>\n",
       "    <tr>\n",
       "      <th>1</th>\n",
       "      <td>Pedro</td>\n",
       "      <td>1.79</td>\n",
       "      <td>23</td>\n",
       "    </tr>\n",
       "    <tr>\n",
       "      <th>3</th>\n",
       "      <td>Paco</td>\n",
       "      <td>1.89</td>\n",
       "      <td>43</td>\n",
       "    </tr>\n",
       "    <tr>\n",
       "      <th>7</th>\n",
       "      <td>Luis</td>\n",
       "      <td>1.80</td>\n",
       "      <td>23</td>\n",
       "    </tr>\n",
       "    <tr>\n",
       "      <th>10</th>\n",
       "      <td>Rodolfo</td>\n",
       "      <td>1.79</td>\n",
       "      <td>67</td>\n",
       "    </tr>\n",
       "  </tbody>\n",
       "</table>\n",
       "</div>"
      ],
      "text/plain": [
       "    Jugador  Altura:  Goles\n",
       "1     Pedro     1.79     23\n",
       "3      Paco     1.89     43\n",
       "7      Luis     1.80     23\n",
       "10  Rodolfo     1.79     67"
      ]
     },
     "execution_count": 22,
     "metadata": {},
     "output_type": "execute_result"
    }
   ],
   "source": [
    "df_personas = pd.DataFrame(dict_0, index=[1, 3, 7, 10])\n",
    "df_personas"
   ]
  },
  {
   "cell_type": "markdown",
   "id": "f0b00e8c-f2ff-4d34-9b21-84a09192dd86",
   "metadata": {},
   "source": [
    "Mostrar columnas"
   ]
  },
  {
   "cell_type": "code",
   "execution_count": 23,
   "id": "c5a7d89d-8e5c-445b-b5b6-c1193697f44e",
   "metadata": {},
   "outputs": [
    {
     "data": {
      "text/plain": [
       "Index(['Jugador', 'Altura:', 'Goles'], dtype='object')"
      ]
     },
     "execution_count": 23,
     "metadata": {},
     "output_type": "execute_result"
    }
   ],
   "source": [
    "df_personas.columns"
   ]
  },
  {
   "cell_type": "markdown",
   "id": "f3dab153-f787-4994-9564-1eb9247a1b0f",
   "metadata": {},
   "source": [
    "Mostrar indices"
   ]
  },
  {
   "cell_type": "code",
   "execution_count": 24,
   "id": "8b710c0a-44b4-48cc-a94d-7d8b195020b3",
   "metadata": {},
   "outputs": [
    {
     "data": {
      "text/plain": [
       "Index([1, 3, 7, 10], dtype='int64')"
      ]
     },
     "execution_count": 24,
     "metadata": {},
     "output_type": "execute_result"
    }
   ],
   "source": [
    "df_personas.index"
   ]
  },
  {
   "cell_type": "code",
   "execution_count": null,
   "id": "6f04aa0c-21f1-48a8-af2e-aa23be8ff092",
   "metadata": {},
   "outputs": [],
   "source": []
  },
  {
   "cell_type": "code",
   "execution_count": null,
   "id": "659abae6-389b-4749-82ac-4482393cf1b6",
   "metadata": {},
   "outputs": [],
   "source": []
  },
  {
   "cell_type": "code",
   "execution_count": null,
   "id": "7c4e13aa-5f65-4ea0-b732-70a90a874d10",
   "metadata": {},
   "outputs": [],
   "source": []
  },
  {
   "cell_type": "code",
   "execution_count": null,
   "id": "85be0cb6-4434-4bd8-9e1a-6bee911036dd",
   "metadata": {},
   "outputs": [],
   "source": []
  },
  {
   "cell_type": "code",
   "execution_count": null,
   "id": "4d0ea75e-5726-4308-966c-a88d35f4eef2",
   "metadata": {},
   "outputs": [],
   "source": []
  },
  {
   "cell_type": "code",
   "execution_count": null,
   "id": "160e5a66-4eb1-4b71-9e25-0f581bf6df90",
   "metadata": {},
   "outputs": [],
   "source": []
  },
  {
   "cell_type": "code",
   "execution_count": null,
   "id": "8997e81b-73e9-4816-97f8-eb51315187e3",
   "metadata": {},
   "outputs": [],
   "source": []
  },
  {
   "cell_type": "code",
   "execution_count": null,
   "id": "6cb45a5b-61af-42b8-8e56-843629d81c6f",
   "metadata": {},
   "outputs": [],
   "source": []
  }
 ],
 "metadata": {
  "kernelspec": {
   "display_name": "Python 3 (ipykernel)",
   "language": "python",
   "name": "python3"
  },
  "language_info": {
   "codemirror_mode": {
    "name": "ipython",
    "version": 3
   },
   "file_extension": ".py",
   "mimetype": "text/x-python",
   "name": "python",
   "nbconvert_exporter": "python",
   "pygments_lexer": "ipython3",
   "version": "3.10.12"
  }
 },
 "nbformat": 4,
 "nbformat_minor": 5
}
