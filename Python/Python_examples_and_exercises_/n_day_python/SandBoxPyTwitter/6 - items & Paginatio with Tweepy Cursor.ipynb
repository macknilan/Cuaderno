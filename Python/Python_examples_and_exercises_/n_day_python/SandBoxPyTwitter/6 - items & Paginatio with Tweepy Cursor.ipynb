{
 "cells": [
  {
   "cell_type": "code",
   "execution_count": 1,
   "id": "6e5ea8d8",
   "metadata": {},
   "outputs": [],
   "source": [
    "# https://docs.python.org/3/library/webbrowser.html\n",
    "import tweepy\n",
    "import webbrowser\n",
    "import time\n",
    "import pandas as pd"
   ]
  },
  {
   "cell_type": "code",
   "execution_count": 2,
   "id": "29d74b7b",
   "metadata": {},
   "outputs": [
    {
     "name": "stdout",
     "output_type": "stream",
     "text": [
      "https://api.twitter.com/oauth/authorize?oauth_token=N2Jz2QAAAAABQ34eAAABejZuXlo\n",
      "What's the pin value? \n",
      "1489365\n",
      "1489365\n",
      "198626561-tF3cmZis8d3owSXS4txj4nBAoZSIfgzl2v5iAk0L vIBcUCdyaPAMtmFgFNyUeLbfKKixIdV4qRuJWI98giOyS\n"
     ]
    }
   ],
   "source": [
    "# https://docs.tweepy.org/en/stable/index.html\n",
    "consumer_key = \"\"\n",
    "consumer_secret = \"\"\n",
    "callback_uri = 'oob'\n",
    "try:\n",
    "    auth = tweepy.OAuthHandler(consumer_key, consumer_secret, callback_uri)\n",
    "    redirect_url = auth.get_authorization_url()\n",
    "    print(redirect_url)\n",
    "except tweepy.TweepError:\n",
    "    print('Error! Failed to get request token.')\n",
    "# A NEW PAGE OPENS REQUESTING AUTHORIZATION FROM TWITTER TO GENERATE A CODE\n",
    "webbrowser.open(redirect_url)\n",
    "user_pin_input = input(\"What's the pin value? \\n\")\n",
    "print(user_pin_input)\n",
    "try:\n",
    "    auth.get_access_token(user_pin_input)\n",
    "except tweepy.TweepError:\n",
    "    print('Error! Failed to get access token.')\n",
    "\n",
    "print(auth.access_token, auth.access_token_secret)"
   ]
  },
  {
   "cell_type": "code",
   "execution_count": 11,
   "id": "9e42be97",
   "metadata": {},
   "outputs": [],
   "source": [
    "# https://docs.tweepy.org/en/stable/api.html#tweepy-api-twitter-api-wrapper\n",
    "# wait_on_rate_limit=True\n",
    "api = tweepy.API(auth, wait_on_rate_limit=True)"
   ]
  },
  {
   "cell_type": "code",
   "execution_count": 12,
   "id": "3617bc60",
   "metadata": {},
   "outputs": [],
   "source": [
    "me = api.me()"
   ]
  },
  {
   "cell_type": "code",
   "execution_count": 13,
   "id": "fd7267c0",
   "metadata": {},
   "outputs": [
    {
     "name": "stdout",
     "output_type": "stream",
     "text": [
      "nomackayu\n"
     ]
    }
   ],
   "source": [
    "print(me.screen_name)"
   ]
  },
  {
   "cell_type": "code",
   "execution_count": 14,
   "id": "0e80f0ad",
   "metadata": {},
   "outputs": [
    {
     "data": {
      "text/plain": [
       "20"
      ]
     },
     "execution_count": 14,
     "metadata": {},
     "output_type": "execute_result"
    }
   ],
   "source": [
    "len(api.home_timeline())"
   ]
  },
  {
   "cell_type": "code",
   "execution_count": 16,
   "id": "99a68be8",
   "metadata": {},
   "outputs": [
    {
     "name": "stdout",
     "output_type": "stream",
     "text": [
      "0 #AlertaEspectáculos #Cine | La cinta será dirigida por Marc Webb \"500 Días con Ella\", escrita por Erin Cressida Wil… https://t.co/K44cm7jIcX\n",
      "1 Primer live en TikTok de Código Facilito 😱😱😱😱😱 https://t.co/v2woxi15q2\n",
      "2 Estas plantas son tóxicas para tus mascotas, evita tenerlas https://t.co/VmvAC9YsYe https://t.co/CuJJdzgXeL\n",
      "3 Mark Meadows says Ron DeSantis won’t run against Trump for president https://t.co/MrKNSOSo0J\n",
      "4 ¿Fichaje estrella? 🤩\n",
      "\n",
      "🦅 @Sbanos habló en exclusiva con TUDN sobre posibles fichajes del ave 💥\n",
      "\n",
      "Con información de… https://t.co/nBUJoE7cM9\n",
      "5 President Joe Biden is planning to lay out new steps to stem the U.S. crime wave - ahead of what the administration… https://t.co/xEANUwovbX\n",
      "6 \"Ráscame, que me pica\" https://t.co/qWdgfIPPDt\n",
      "7 ¿Qué estamos comiendo entonces? The New York Times reveló que los sándwiches de ‘atún’ de la marca Subway contienen… https://t.co/N3wUNk89XK\n",
      "8 ♻️ “Realmente, ha sido uno de esos días en que lo malo de uno son los demás” - Mafalda\n",
      "9 Para mirar la Luna de Fresa solo es necesario mirar al cielo, sin embargo, las condiciones de apreciación dependerá… https://t.co/pYE2sK4eMk\n",
      "10 RT @ESPNmx: El Antigua GFC presenta a 'Gullit' Peña 🇲🇽 como flamante refuerzo 🤩\n",
      "\n",
      "El mexicano seguirá escribiendo su historia en el futbol d…\n",
      "11 Martes... pero a qué precio. https://t.co/hYn2wLQY2e\n",
      "12 RT @cea_qro: AVISO IMPORTANTE\n",
      "ZONA NORORIENTE \n",
      "\n",
      "#CEAteInforma https://t.co/8MKOa8kz5S\n",
      "13 🌳 Hace dos meses y medio un fuerte incendio quemó 54 hectáreas de la Reserva Ecológica #LosEncinos en #Tlalpan; aho… https://t.co/BOQuYEeDG4\n",
      "14 Vanessa Bryant sought damages in return for the losses she suffered and was joined by three other families who lost… https://t.co/pcUn2OSZcA\n",
      "15 💣 Los Puccio, la familia que causó pesadillas a los argentinos... https://t.co/VKmr9viEEA\n",
      "16 ⚠️ #ENTÉRATE Con motivo de los 490 años de la fundación de la ciudad de Santiago de #Querétaro, el Ayuntamiento cap… https://t.co/xJXOrzERqt\n",
      "17 Un 'tiktoker' exige que le devuelvan el iPhone que acaba de 'regalar' a una muchacha ante la cámara… https://t.co/3YTLzGTAvz\n",
      "18 “Ahora mismo vivo por y para la oposición. Siento que de alguna forma mi vida se ha paralizado [...] Voy a hacer 34… https://t.co/I1dNHEHpXl\n",
      "19 RT @coolprobn: If you are a specialist in a language, you will be favoured and paid more over generalist.\n",
      "\n",
      "Focusing on a niche can mean you…\n",
      "20 Results are coming in for the New York City primaries, and we have full coverage of the races for mayor, public adv… https://t.co/IxtvWVnStd\n",
      "21 Aquí te presentamos los 3 autos que más ventas han generado en el mundo\n",
      "\n",
      "https://t.co/cT2is5sv4m\n",
      "22 😮💖 Rey Grupero e Isa Castro llevan poco tiempo de noviazgo. https://t.co/EmJmeYibhX\n",
      "23 Police have been increasingly looking to Big Tech companies for user information. In the first half of 2020, the co… https://t.co/HOoJOXc3K2\n",
      "24 🎱 “La violencia no es el camino, pero una hostia a tiempo te pone a andar.” 🥴\n",
      "25 Tracee Ellis Ross Sheds Light On The Difficulties Of Not Conforming To Your Industry https://t.co/F9Wc6gLmEl https://t.co/e0aTUCVJ7z\n",
      "26 Federal court closes Dakota Access case, but allows for fresh challenges https://t.co/Xv5VFzxmmf https://t.co/tMyCMzPkru\n",
      "27 ENTREVISTA | Gordillo intentó usar el mismo esquema de Collado en Andorra\n",
      "https://t.co/v2QMltsyd9 https://t.co/4saM7Uqleo\n",
      "28 El 90% de los podcasts del mundo muere tras su tercer episodio (y sólo el 1% supera los 21) https://t.co/LfNouvztZd\n",
      "29 ¿Primera vez? https://t.co/tCR3lR7Yoh\n",
      "30 Windows 10 se ha vuelto más lento, o mucho más lento, con el paso de los años: esa es la conclusión de un análisis https://t.co/pn2aqrPi8i\n",
      "31 #LoMásVisto Video: Julio César Chávez pide que sus hijos “se retiren del box” por falta de preparación… https://t.co/jNuMqtoaIa\n",
      "32 Euro 2020: Inglaterra vence a República Checa; es líder en Grupo D y se mete en octavos final… https://t.co/qGCWgEfwyn\n",
      "33 #Entérate | Desde hace casi dos siglos, las 250 estatuas de cera de celebridades en este museo, atraen cada año mil… https://t.co/r4OPTdUHF1\n",
      "34 Un proyecto de ley que busca prohibir el lenguaje inclusivo en documentos y actos oficiales, presentado por dos abo… https://t.co/xJJlqVjpRA\n",
      "35 Revelan que esposa de Enrique Guzmán sí le cree a Frida Sofía, pero teme perder herencia https://t.co/oxbutSfpEv https://t.co/VzQ4Qxozqk\n",
      "36 ⚠🌎 Debido a la pandemia se detuvieron acciones y programas contra el uso de combustibles fósiles y la elevación de… https://t.co/c1DwJG0spv\n",
      "37 Organizers unveiled two posters that will be used to symbolize and promote the upcoming Summer Olympics and Paralym… https://t.co/UUa5gsoF2g\n",
      "38 #NotaPlus El reporte de Credit Suisse resalta que Brasil, Chile y México sufrieron mucho durante la primera ola de… https://t.co/MUtU0XufE5\n",
      "39 Presentan “Pasaporte Turístico #Querétaro”, una nueva experiencia para viajar en la entidad »… https://t.co/nEa6nWkQe8\n",
      "40 🚨 Motosicarios acribillan a tianguista en Neza https://t.co/JkF3ITaPnD https://t.co/d1mHeGVoJv\n",
      "41 Some used vehicles are selling for more now than when they were new https://t.co/6dgwhFCc7n\n",
      "42 “Pensamos positivo, estar en Chivas implica máxima exigencia, por ello no hay pretextos”, @pollobv \n",
      "\n",
      "https://t.co/l1DJpp5lEv\n",
      "43 ‘Horrific’: Singaporean woman jailed for 30 years after maid tortured and killed https://t.co/QAz1nXuphI\n",
      "44 Este es nuestro resumen con las #recomendaciones del martes. \n",
      "\n",
      "#SopitasRecomienda https://t.co/0Z0Zlh9LYj\n",
      "45 Videojuego: 'Marvel vs. Capcom: Infinite' (2017) - PS4, Xbox One, Microsoft Windows 🎮\n",
      "\n",
      "El último juego de… https://t.co/T9gQympn57\n",
      "46 #ÚLTIMAHORA | Jueza admite amparo contra ampliación de mandato de Arturo Zaldívar en la Corte… https://t.co/zlgsUG1SCI\n",
      "47 Rola: “Crystalised” de The xx (2009)🎧 \n",
      "\n",
      "La canción que le presentó al mundo lo que unos jóvenes de apenas 20 años e… https://t.co/ihyBoNSXlO\n",
      "48 Serie: ‘Alias Grace’ - 1 temporada (2017) - Netflix📺\n",
      "\n",
      "En #AliasGrace 🙌🏼  Grace Marks es una migrante irlandesa que… https://t.co/JoGXUIUJg1\n",
      "49 Disco: ‘IGOR’ de Tyler, the Creator (2019)🎤\n",
      "\n",
      "Uno de los discos más innovadores de 2019 fue #IGOR de @feliciathegoat… https://t.co/M5F4YgPkeQ\n"
     ]
    }
   ],
   "source": [
    "# https://docs.tweepy.org/en/stable/cursor_tutorial.html\n",
    "# OBTENER MAS ITEMS/PAGINACIÓN\n",
    "for count, status in enumerate(tweepy.Cursor(api.home_timeline, count=50).items(50)):\n",
    "    print(count, status.text)"
   ]
  },
  {
   "cell_type": "code",
   "execution_count": 10,
   "id": "5b482f08",
   "metadata": {},
   "outputs": [],
   "source": [
    "# LIMITS\n",
    "# https://developer.twitter.com/en/docs/rate-limits\n",
    "# https://developer.twitter.com/en/docs/twitter-api/v1/rate-limits"
   ]
  },
  {
   "cell_type": "code",
   "execution_count": 19,
   "id": "59109f2f",
   "metadata": {},
   "outputs": [
    {
     "name": "stdout",
     "output_type": "stream",
     "text": [
      "0 La @fiscalia_sonora confirmó que los restos localizados en una fosa clandestina en la comunidad de Vícam, en el mun… https://t.co/cQ3RLWo5LD\n",
      "1 @muxed_mx #Plumaje | ¿Qué avances hay en la investigación anunciada por el IMSS? ¿Quiénes serían los responsables d… https://t.co/rNhRE71pa3\n",
      "2 Este lunes hombres armados dispararon contra un grupo de personas que se encontraban afuera de un taller de reparac… https://t.co/Wt6TBfJDN3\n",
      "3 #TechosSeguros | En 2020, los Refugios afiliados a la RNR resguardaron a 10,135 mujeres que ahora son sobreviviente… https://t.co/2xYupFUyx0\n",
      "4 . @mario_delgado, dirigente de Morena, reconoció ante senadores del partido que perdieron tiempos en conflictos int… https://t.co/W5gHp3XQOZ\n",
      "5 #Plumaje | La aparición del internet y las tecnologías de la información y la comunicación ha obligado a los docent… https://t.co/fRNLLD3Vbt\n",
      "6 La @SSalud_mx reportó este martes, 261 fallecimientos más por COVID, por lo que ya suman 231 mil 505 las víctimas m… https://t.co/HOUasLC4YL\n",
      "7 ¿Viste una publiación en Facebook que asegura que el estudio ‘EU Kids 2020’ dice que la pornografía es buena para l… https://t.co/OJVlH1G6Ro\n",
      "8 #Plumaje | Enfrentar a la impunidad en un país atravesado por una sistemática crisis de violencia y violaciones a d… https://t.co/plM0npXEa9\n",
      "9 La @CNDH presentó ante la @SCJN una acción de inconstitucionalidad contra la nueva Ley de la @FGRMexico, por consid… https://t.co/XKAcLTbT7s\n",
      "10 Como cada 24 de junio conmemoraremos el Día Internacional del Orgullo LGBT+ y para ello convocamos a @Geraldina_GV… https://t.co/w9IFvpuDLd\n",
      "11 #Plumaje | La propuesta de López Obrador de eliminar a los plurinominales me recordó las elecciones legislativas de… https://t.co/u7EHDwp2K3\n",
      "12 Los gobiernos de México y de Argentina llamaron este lunes a consultas a sus embajadores en Nicaragua, en medio de… https://t.co/gGmMbVndeU\n",
      "13 Ayer en Salvatierra, Guanajuato, un grupo armado disparó contra personas que se encontraban afuera de un taller de… https://t.co/rkYU6hPXyY\n",
      "14 ¿Qué opciones tiene una mujer que vive violencia de género en su hogar? 👉 El modelo de atención integral de Refugio… https://t.co/s2z3upfKzs\n",
      "15 Actualización: Alejandra fue localizada luego de dos días sin conocer su paradero. La diputada @LuRiojas informó qu… https://t.co/2omnZ2DdIY\n",
      "16 .@Irma_Sandoval aseguró que estando en la SFP se puso \"punto final a la corrupción que imperaba en contratistas, en… https://t.co/phnjv3n5sG\n",
      "17 Alejandra Menjivar, activista de la comunidad LGBTIQ+ y excandidata a una diputación en El Salvador, está desaparec… https://t.co/F8eik9lcz6\n",
      "18 El proceso electoral que culminó el pasado 6 de junio dejó 102 políticos asesinados, de ellos 36 eran aspirantes y… https://t.co/AyTdgWybsm\n",
      "19 El @GobCDMX anunció que entre el 28 de junio y hasta el 2 de julio se aplicará la segunda dosis de la vacuna a pers… https://t.co/82srygZN4q\n"
     ]
    }
   ],
   "source": [
    "# OTHER USER\n",
    "other_user = \"Pajaropolitico\"\n",
    "for count, status in enumerate(tweepy.Cursor(api.user_timeline, screen_name=other_user, count=20).items(20)):\n",
    "    print(count, status.text)"
   ]
  },
  {
   "cell_type": "code",
   "execution_count": 21,
   "id": "484fb14f",
   "metadata": {},
   "outputs": [
    {
     "name": "stdout",
     "output_type": "stream",
     "text": [
      "0 2840872247\n",
      "1 2496774836\n",
      "2 1366133930554982403\n",
      "3 222819506\n",
      "4 46936326\n",
      "5 798150679030362115\n",
      "6 833504803724496896\n",
      "7 3116435928\n",
      "8 1247726787666284544\n",
      "9 229094380\n",
      "10 1511914879\n",
      "11 254399055\n",
      "12 1316382791735504902\n",
      "13 72629880\n",
      "14 55276515\n",
      "15 3352768865\n",
      "16 46313973\n",
      "17 269649145\n",
      "18 2291367079\n",
      "19 1304190735898619904\n",
      "20 862379218516275200\n",
      "21 200142090\n",
      "22 354198159\n",
      "23 776470316826566656\n",
      "24 138824377\n",
      "25 1020408758\n",
      "26 1218944721751506944\n",
      "27 298051539\n",
      "28 805202360\n",
      "29 2649697663\n"
     ]
    }
   ],
   "source": [
    "# friends_ids Returns an array containing the IDs of users being followed by the specified user.\n",
    "the_pajaropolitico_friends = []\n",
    "for count, _id in enumerate(tweepy.Cursor(api.friends_ids, screen_name=other_user).items(30)):\n",
    "    print(count, _id)\n",
    "    the_pajaropolitico_friends.append(_id)"
   ]
  },
  {
   "cell_type": "code",
   "execution_count": 22,
   "id": "fcca29cb",
   "metadata": {},
   "outputs": [
    {
     "data": {
      "text/plain": [
       "'RevistaFactum'"
      ]
     },
     "execution_count": 22,
     "metadata": {},
     "output_type": "execute_result"
    }
   ],
   "source": [
    "api.get_user(the_pajaropolitico_friends[0]).screen_name"
   ]
  },
  {
   "cell_type": "code",
   "execution_count": 28,
   "id": "f31e0e45",
   "metadata": {},
   "outputs": [
    {
     "name": "stdout",
     "output_type": "stream",
     "text": [
      "0 RT @codewithstein: Docker With Django And Postgresql Tutorial\n",
      "https://t.co/t4gcLKURuE\n",
      "#django #python #docker #postgresql https://t.co/IKCC… PythonExpertBot\n",
      "1 RT @codewithstein: Docker With Django And Postgresql Tutorial\n",
      "https://t.co/t4gcLKURuE\n",
      "#django #python #docker #postgresql https://t.co/IKCC… iPythonistaBot\n",
      "2 RT @codewithstein: Docker With Django And Postgresql Tutorial\n",
      "https://t.co/t4gcLKURuE\n",
      "#django #python #docker #postgresql https://t.co/IKCC… timniets\n"
     ]
    }
   ],
   "source": [
    "# Search Methods\n",
    "# https://docs.tweepy.org/en/stable/api.html#search-methods\n",
    "query = \"#django #Docker #postgresql -jQuery -@udemy_es -Bootstrap -Discount -Angular -flask\"\n",
    "for count, status in enumerate(tweepy.Cursor(api.search, q=query).items(50)):\n",
    "    print(count, status.text, status.author.screen_name)"
   ]
  },
  {
   "cell_type": "code",
   "execution_count": 30,
   "id": "9d57f26d",
   "metadata": {},
   "outputs": [
    {
     "name": "stdout",
     "output_type": "stream",
     "text": [
      "0 django\n",
      "1 djangoproject\n",
      "2 djangogirls\n",
      "3 thedjangos\n",
      "4 djangocms\n",
      "5 django_paris\n",
      "6 DjangoWexler\n",
      "7 DjangoConEurope\n",
      "8 djangocon\n",
      "9 djangostewart\n",
      "10 djangobits\n",
      "11 DjangoGirlsPDX\n",
      "12 DjangoDSM\n",
      "13 djangolinks\n",
      "14 WonderBoySolek\n",
      "15 DJANGO_UU\n",
      "16 ChatDjango\n",
      "17 DjangoConAU\n",
      "18 DjangoGirlsBCN\n",
      "19 CptDjangojr\n",
      "20 django\n",
      "21 djangoproject\n",
      "22 djangogirls\n",
      "23 thedjangos\n",
      "24 djangocms\n",
      "25 django_paris\n",
      "26 DjangoWexler\n",
      "27 DjangoConEurope\n",
      "28 djangocon\n",
      "29 djangostewart\n",
      "30 djangobits\n",
      "31 DjangoGirlsPDX\n",
      "32 DjangoDSM\n",
      "33 djangolinks\n",
      "34 WonderBoySolek\n",
      "35 DJANGO_UU\n",
      "36 ChatDjango\n",
      "37 DjangoConAU\n",
      "38 DjangoGirlsBCN\n",
      "39 CptDjangojr\n",
      "40 DjangoGirlsPyUK\n",
      "41 djangogirlsblin\n",
      "42 tangowithdjango\n",
      "43 DjangoTarantino\n",
      "44 Django_gocrazy\n",
      "45 VanDjangoMusic\n",
      "46 djangogirlsshef\n",
      "47 DjangoTricks\n",
      "48 djangowalker\n",
      "49 DjangoGirlsSD\n",
      "['thedjangos', 'DjangoGirlsBCN', 'djangoproject', 'Django_gocrazy', 'DjangoGirlsPyUK', 'DjangoGirlsPDX', 'djangolinks', 'DjangoTarantino', 'DjangoGirlsSD', 'djangostewart', 'DjangoConEurope', 'djangocon', 'WonderBoySolek', 'DjangoWexler', 'django', 'djangobits', 'CptDjangojr', 'djangogirlsblin', 'djangogirls', 'tangowithdjango', 'djangocms', 'djangogirlsshef', 'DjangoDSM', 'djangowalker', 'ChatDjango', 'DjangoTricks', 'DJANGO_UU', 'DjangoConAU', 'VanDjangoMusic', 'django_paris']\n",
      "30\n"
     ]
    }
   ],
   "source": [
    "# SEARCH BY USER NAME\n",
    "query_username = \"Django\"\n",
    "search_results = set()\n",
    "for count, user in enumerate(tweepy.Cursor(api.search_users, q=query_username).items(50)):\n",
    "    print(count, user.screen_name)\n",
    "    search_results.add(user.screen_name)\n",
    "    \n",
    "print(list(search_results))\n",
    "print(len(list(search_results)))"
   ]
  },
  {
   "cell_type": "code",
   "execution_count": 31,
   "id": "b50912e0",
   "metadata": {},
   "outputs": [
    {
     "name": "stdout",
     "output_type": "stream",
     "text": [
      "0 page\n",
      "0 adultswim\n",
      "1 AdultSwimReddit\n",
      "2 adultswimTOO\n",
      "3 RickandMorty\n",
      "4 WarnerMedia\n",
      "5 adultswimdotcom\n",
      "6 dragonballsuper\n",
      "7 adultswimOOC\n",
      "8 DivaDelux\n",
      "9 Turner\n",
      "10 nickweidenfeld\n",
      "11 JosephPera\n",
      "12 FinalSpace\n",
      "13 vanmarshall\n",
      "14 andreoshea\n",
      "15 raidhyn\n",
      "16 jessicadelfino\n",
      "17 tokyomegaplex\n",
      "18 EleWoodsPHD\n",
      "19 danaswanswan\n",
      "1 page\n",
      "0 adultswim\n",
      "1 AdultSwimReddit\n",
      "2 adultswimTOO\n",
      "3 RickandMorty\n",
      "4 WarnerMedia\n",
      "5 adultswimdotcom\n",
      "6 dragonballsuper\n",
      "7 adultswimOOC\n",
      "8 DivaDelux\n",
      "9 Turner\n",
      "10 nickweidenfeld\n",
      "11 JosephPera\n",
      "12 FinalSpace\n",
      "13 vanmarshall\n",
      "14 andreoshea\n",
      "15 raidhyn\n",
      "16 jessicadelfino\n",
      "17 tokyomegaplex\n",
      "18 EleWoodsPHD\n",
      "19 danaswanswan\n",
      "2 page\n",
      "0 TurnerCareers\n",
      "1 JonCarnage\n",
      "2 BranchburgPod\n",
      "3 ThreeBusyDebras\n",
      "4 KahleaBaldwin\n",
      "5 richiebranson\n",
      "6 LauraSterritt\n",
      "7 JaytotheTee\n",
      "8 missmissylaney\n",
      "9 jono_thon\n",
      "10 adultswimcentrl\n",
      "11 adultswim1\n",
      "12 toddmbishop\n",
      "13 MaryKoCo\n",
      "14 adultswim_de\n",
      "15 kittiemeeyowww\n",
      "16 Lasership84\n",
      "17 CindieLou\n",
      "18 Simple__Town\n",
      "19 WendyrPR\n",
      "3 page\n",
      "0 AndreasTrolf\n",
      "1 sarahebishop\n",
      "2 danlicatasucks\n",
      "3 EarlSkakel\n",
      "4 VentureBrosOOC\n",
      "5 SouL_Animation\n",
      "6 dan_britt\n",
      "7 whirringblender\n",
      "8 _VintageBeau_\n",
      "9 SpideyAtLaw\n",
      "10 dadoodlydude\n",
      "11 ecoverton\n",
      "12 theblackcousins\n",
      "13 RegularTweetsUK\n",
      "14 JonathanSantoro\n",
      "15 Benjamartian\n",
      "16 MattMannheimer\n",
      "17 JJSedelmaier\n",
      "18 AdamdelaPena\n",
      "19 slimphilthy\n"
     ]
    }
   ],
   "source": [
    "# PAGINACIÓN\n",
    "# BUSQUEDA USUARIO\n",
    "query_username_two = \"adultswim\"\n",
    "\n",
    "def process_page(page_results):\n",
    "    for count, user in enumerate(page_results):\n",
    "        print(count, user.screen_name)\n",
    "\n",
    "for count, page in enumerate(tweepy.Cursor(api.search_users, q=query_username_two, per_page=10).pages(3)):\n",
    "    print(count, \"page\")\n",
    "    process_page(page)"
   ]
  },
  {
   "cell_type": "code",
   "execution_count": null,
   "id": "7cae052f",
   "metadata": {},
   "outputs": [],
   "source": []
  }
 ],
 "metadata": {
  "kernelspec": {
   "display_name": "Python 3",
   "language": "python",
   "name": "python3"
  },
  "language_info": {
   "codemirror_mode": {
    "name": "ipython",
    "version": 3
   },
   "file_extension": ".py",
   "mimetype": "text/x-python",
   "name": "python",
   "nbconvert_exporter": "python",
   "pygments_lexer": "ipython3",
   "version": "3.8.10"
  }
 },
 "nbformat": 4,
 "nbformat_minor": 5
}
